{
 "cells": [
  {
   "cell_type": "code",
   "execution_count": 38,
   "metadata": {},
   "outputs": [],
   "source": [
    "import pandas as pd\n",
    "import numpy as np"
   ]
  },
  {
   "cell_type": "code",
   "execution_count": 39,
   "metadata": {},
   "outputs": [
    {
     "data": {
      "text/html": [
       "<div>\n",
       "<style scoped>\n",
       "    .dataframe tbody tr th:only-of-type {\n",
       "        vertical-align: middle;\n",
       "    }\n",
       "\n",
       "    .dataframe tbody tr th {\n",
       "        vertical-align: top;\n",
       "    }\n",
       "\n",
       "    .dataframe thead th {\n",
       "        text-align: right;\n",
       "    }\n",
       "</style>\n",
       "<table border=\"1\" class=\"dataframe\">\n",
       "  <thead>\n",
       "    <tr style=\"text-align: right;\">\n",
       "      <th></th>\n",
       "      <th>Gene_Name</th>\n",
       "      <th>mean_RNA_G1</th>\n",
       "      <th>mean_RNA_S</th>\n",
       "      <th>mean_RNA_G2</th>\n",
       "      <th>mean_protein_G1</th>\n",
       "      <th>mean_protein_S</th>\n",
       "      <th>mean_protein_G2</th>\n",
       "      <th>GOBP</th>\n",
       "      <th>GOMF</th>\n",
       "      <th>GOCC</th>\n",
       "    </tr>\n",
       "  </thead>\n",
       "  <tbody>\n",
       "    <tr>\n",
       "      <th>1</th>\n",
       "      <td>RBM47</td>\n",
       "      <td>10.330107</td>\n",
       "      <td>10.396423</td>\n",
       "      <td>10.677257</td>\n",
       "      <td>24.748020</td>\n",
       "      <td>22.426777</td>\n",
       "      <td>24.651200</td>\n",
       "      <td>base conversion or substitution editing;biolog...</td>\n",
       "      <td>binding;nucleic acid binding;nucleotide bindin...</td>\n",
       "      <td>apolipoprotein B mRNA editing enzyme complex;c...</td>\n",
       "    </tr>\n",
       "    <tr>\n",
       "      <th>2</th>\n",
       "      <td>ADAM9</td>\n",
       "      <td>12.321340</td>\n",
       "      <td>12.203630</td>\n",
       "      <td>12.233293</td>\n",
       "      <td>19.083593</td>\n",
       "      <td>16.248873</td>\n",
       "      <td>19.281277</td>\n",
       "      <td>activation of MAPKK activity;activation of pro...</td>\n",
       "      <td>binding;catalytic activity;cation binding;coll...</td>\n",
       "      <td>cell part;extracellular region part;extracellu...</td>\n",
       "    </tr>\n",
       "    <tr>\n",
       "      <th>3</th>\n",
       "      <td>UBA6</td>\n",
       "      <td>10.827333</td>\n",
       "      <td>10.758463</td>\n",
       "      <td>10.685847</td>\n",
       "      <td>24.614467</td>\n",
       "      <td>21.356450</td>\n",
       "      <td>25.207883</td>\n",
       "      <td>catabolic process;cellular catabolic process;c...</td>\n",
       "      <td>adenyl nucleotide binding;adenyl ribonucleotid...</td>\n",
       "      <td>cell part;cytoplasm;intracellular part</td>\n",
       "    </tr>\n",
       "    <tr>\n",
       "      <th>5</th>\n",
       "      <td>SHTN1</td>\n",
       "      <td>10.845517</td>\n",
       "      <td>10.824347</td>\n",
       "      <td>10.634980</td>\n",
       "      <td>26.112690</td>\n",
       "      <td>22.905927</td>\n",
       "      <td>26.138843</td>\n",
       "      <td>axon guidance;chemotaxis;locomotion;response t...</td>\n",
       "      <td>binding;enzyme binding;kinase binding;protein ...</td>\n",
       "      <td>axon;cell part;cell projection;neuron projection</td>\n",
       "    </tr>\n",
       "    <tr>\n",
       "      <th>6</th>\n",
       "      <td>SIL1</td>\n",
       "      <td>9.042438</td>\n",
       "      <td>8.924093</td>\n",
       "      <td>9.035878</td>\n",
       "      <td>22.750520</td>\n",
       "      <td>20.598227</td>\n",
       "      <td>23.093443</td>\n",
       "      <td>cellular macromolecule metabolic process;cellu...</td>\n",
       "      <td>binding;protein binding;unfolded protein binding</td>\n",
       "      <td>cell part;cytoplasmic part;endoplasmic reticul...</td>\n",
       "    </tr>\n",
       "    <tr>\n",
       "      <th>...</th>\n",
       "      <td>...</td>\n",
       "      <td>...</td>\n",
       "      <td>...</td>\n",
       "      <td>...</td>\n",
       "      <td>...</td>\n",
       "      <td>...</td>\n",
       "      <td>...</td>\n",
       "      <td>...</td>\n",
       "      <td>...</td>\n",
       "      <td>...</td>\n",
       "    </tr>\n",
       "    <tr>\n",
       "      <th>494</th>\n",
       "      <td>ALDH1B1</td>\n",
       "      <td>11.115773</td>\n",
       "      <td>11.158333</td>\n",
       "      <td>11.434383</td>\n",
       "      <td>26.024680</td>\n",
       "      <td>23.865020</td>\n",
       "      <td>26.095450</td>\n",
       "      <td>alcohol metabolic process;biological regulatio...</td>\n",
       "      <td>aldehyde dehydrogenase (NAD) activity;aldehyde...</td>\n",
       "      <td>cell part;cytoplasmic part;cytosol;intracellul...</td>\n",
       "    </tr>\n",
       "    <tr>\n",
       "      <th>495</th>\n",
       "      <td>MRPL12</td>\n",
       "      <td>11.251870</td>\n",
       "      <td>11.351043</td>\n",
       "      <td>11.255327</td>\n",
       "      <td>26.739813</td>\n",
       "      <td>24.989527</td>\n",
       "      <td>27.104197</td>\n",
       "      <td>alcohol biosynthetic process;alcohol metabolic...</td>\n",
       "      <td>binding;nucleic acid binding;protein binding;R...</td>\n",
       "      <td>cell part;cytoplasmic part;integral to membran...</td>\n",
       "    </tr>\n",
       "    <tr>\n",
       "      <th>496</th>\n",
       "      <td>NQO1</td>\n",
       "      <td>13.013263</td>\n",
       "      <td>13.179313</td>\n",
       "      <td>13.048477</td>\n",
       "      <td>28.422773</td>\n",
       "      <td>25.464497</td>\n",
       "      <td>28.879273</td>\n",
       "      <td>biological regulation;biosynthetic process;cel...</td>\n",
       "      <td>binding;catalytic activity;coenzyme binding;co...</td>\n",
       "      <td>cell part;cytoplasmic part;cytosol;intracellul...</td>\n",
       "    </tr>\n",
       "    <tr>\n",
       "      <th>497</th>\n",
       "      <td>IFIT3</td>\n",
       "      <td>9.048456</td>\n",
       "      <td>8.599903</td>\n",
       "      <td>9.105025</td>\n",
       "      <td>23.592930</td>\n",
       "      <td>19.960053</td>\n",
       "      <td>23.599087</td>\n",
       "      <td>biological regulation;cell surface receptor li...</td>\n",
       "      <td>binding;protein binding</td>\n",
       "      <td>cell part;cytoplasmic part;cytosol;intracellul...</td>\n",
       "    </tr>\n",
       "    <tr>\n",
       "      <th>498</th>\n",
       "      <td>NUP155</td>\n",
       "      <td>13.525467</td>\n",
       "      <td>13.582677</td>\n",
       "      <td>13.524457</td>\n",
       "      <td>26.779417</td>\n",
       "      <td>24.452823</td>\n",
       "      <td>27.214203</td>\n",
       "      <td>biological regulation;carbohydrate metabolic p...</td>\n",
       "      <td>structural constituent of nuclear pore;structu...</td>\n",
       "      <td>cell part;intracellular organelle part;intrace...</td>\n",
       "    </tr>\n",
       "  </tbody>\n",
       "</table>\n",
       "<p>397 rows × 10 columns</p>\n",
       "</div>"
      ],
      "text/plain": [
       "    Gene_Name  mean_RNA_G1  mean_RNA_S  mean_RNA_G2  mean_protein_G1  \\\n",
       "1       RBM47    10.330107   10.396423    10.677257        24.748020   \n",
       "2       ADAM9    12.321340   12.203630    12.233293        19.083593   \n",
       "3        UBA6    10.827333   10.758463    10.685847        24.614467   \n",
       "5       SHTN1    10.845517   10.824347    10.634980        26.112690   \n",
       "6        SIL1     9.042438    8.924093     9.035878        22.750520   \n",
       "..        ...          ...         ...          ...              ...   \n",
       "494   ALDH1B1    11.115773   11.158333    11.434383        26.024680   \n",
       "495    MRPL12    11.251870   11.351043    11.255327        26.739813   \n",
       "496      NQO1    13.013263   13.179313    13.048477        28.422773   \n",
       "497     IFIT3     9.048456    8.599903     9.105025        23.592930   \n",
       "498    NUP155    13.525467   13.582677    13.524457        26.779417   \n",
       "\n",
       "     mean_protein_S  mean_protein_G2  \\\n",
       "1         22.426777        24.651200   \n",
       "2         16.248873        19.281277   \n",
       "3         21.356450        25.207883   \n",
       "5         22.905927        26.138843   \n",
       "6         20.598227        23.093443   \n",
       "..              ...              ...   \n",
       "494       23.865020        26.095450   \n",
       "495       24.989527        27.104197   \n",
       "496       25.464497        28.879273   \n",
       "497       19.960053        23.599087   \n",
       "498       24.452823        27.214203   \n",
       "\n",
       "                                                  GOBP  \\\n",
       "1    base conversion or substitution editing;biolog...   \n",
       "2    activation of MAPKK activity;activation of pro...   \n",
       "3    catabolic process;cellular catabolic process;c...   \n",
       "5    axon guidance;chemotaxis;locomotion;response t...   \n",
       "6    cellular macromolecule metabolic process;cellu...   \n",
       "..                                                 ...   \n",
       "494  alcohol metabolic process;biological regulatio...   \n",
       "495  alcohol biosynthetic process;alcohol metabolic...   \n",
       "496  biological regulation;biosynthetic process;cel...   \n",
       "497  biological regulation;cell surface receptor li...   \n",
       "498  biological regulation;carbohydrate metabolic p...   \n",
       "\n",
       "                                                  GOMF  \\\n",
       "1    binding;nucleic acid binding;nucleotide bindin...   \n",
       "2    binding;catalytic activity;cation binding;coll...   \n",
       "3    adenyl nucleotide binding;adenyl ribonucleotid...   \n",
       "5    binding;enzyme binding;kinase binding;protein ...   \n",
       "6     binding;protein binding;unfolded protein binding   \n",
       "..                                                 ...   \n",
       "494  aldehyde dehydrogenase (NAD) activity;aldehyde...   \n",
       "495  binding;nucleic acid binding;protein binding;R...   \n",
       "496  binding;catalytic activity;coenzyme binding;co...   \n",
       "497                            binding;protein binding   \n",
       "498  structural constituent of nuclear pore;structu...   \n",
       "\n",
       "                                                  GOCC  \n",
       "1    apolipoprotein B mRNA editing enzyme complex;c...  \n",
       "2    cell part;extracellular region part;extracellu...  \n",
       "3               cell part;cytoplasm;intracellular part  \n",
       "5     axon;cell part;cell projection;neuron projection  \n",
       "6    cell part;cytoplasmic part;endoplasmic reticul...  \n",
       "..                                                 ...  \n",
       "494  cell part;cytoplasmic part;cytosol;intracellul...  \n",
       "495  cell part;cytoplasmic part;integral to membran...  \n",
       "496  cell part;cytoplasmic part;cytosol;intracellul...  \n",
       "497  cell part;cytoplasmic part;cytosol;intracellul...  \n",
       "498  cell part;intracellular organelle part;intrace...  \n",
       "\n",
       "[397 rows x 10 columns]"
      ]
     },
     "execution_count": 39,
     "metadata": {},
     "output_type": "execute_result"
    }
   ],
   "source": [
    "#some error still shows the last row number as 498, but if you look at the dimensionality the rows with any\n",
    "#nan values have actually been dropped as it was originally 498x10 and it is now 397x10\n",
    "original_data = pd.read_excel(\"Cell-Cycle-Set.xlsx\")\n",
    "cleaned_data = original_data.dropna()\n",
    "cleaned_data\n",
    "\n",
    "#each of the columns detail the concentration of RNA/protein during one of the 3 phases\n",
    "\n",
    "#G1 phase is first growth phase/post mitotic gap phase\n",
    "#S phase is DNA replication phase\n",
    "#G2 phase is growth phase"
   ]
  },
  {
   "cell_type": "code",
   "execution_count": 40,
   "metadata": {},
   "outputs": [
    {
     "name": "stdout",
     "output_type": "stream",
     "text": [
      "0.522657733063862\n",
      "0.5361902686743043\n",
      "0.5325650185250103\n"
     ]
    }
   ],
   "source": [
    "#pairwise correlation\n",
    "\n",
    "print(cleaned_data.mean_RNA_G1.corr(original_data.mean_protein_G1))\n",
    "print(cleaned_data.mean_RNA_S.corr(original_data.mean_protein_S))\n",
    "print(cleaned_data.mean_RNA_G2.corr(original_data.mean_protein_G2))"
   ]
  },
  {
   "cell_type": "code",
   "execution_count": 41,
   "metadata": {},
   "outputs": [
    {
     "data": {
      "text/plain": [
       "<matplotlib.axes._subplots.AxesSubplot at 0x7f2f610c1c40>"
      ]
     },
     "execution_count": 41,
     "metadata": {},
     "output_type": "execute_result"
    },
    {
     "data": {
      "image/png": "[encoded data removed]",
      "text/plain": [
       "<Figure size 432x288 with 1 Axes>"
      ]
     },
     "metadata": {
      "needs_background": "light"
     },
     "output_type": "display_data"
    }
   ],
   "source": [
    "#scatter plot of the G1 phase\n",
    "cleaned_data.plot.scatter(x = \"mean_RNA_G1\", y = \"mean_protein_G1\")"
   ]
  },
  {
   "cell_type": "code",
   "execution_count": 42,
   "metadata": {},
   "outputs": [
    {
     "data": {
      "text/plain": [
       "<matplotlib.axes._subplots.AxesSubplot at 0x7f2f61017a90>"
      ]
     },
     "execution_count": 42,
     "metadata": {},
     "output_type": "execute_result"
    },
    {
     "data": {
      "image/png": "[encoded data removed]",
      "text/plain": [
       "<Figure size 432x288 with 1 Axes>"
      ]
     },
     "metadata": {
      "needs_background": "light"
     },
     "output_type": "display_data"
    }
   ],
   "source": [
    "#scatter plot of the S phase\n",
    "cleaned_data.plot.scatter(x = \"mean_RNA_S\", y = \"mean_protein_S\")"
   ]
  },
  {
   "cell_type": "code",
   "execution_count": 43,
   "metadata": {},
   "outputs": [
    {
     "data": {
      "text/plain": [
       "<matplotlib.axes._subplots.AxesSubplot at 0x7f2f60f74070>"
      ]
     },
     "execution_count": 43,
     "metadata": {},
     "output_type": "execute_result"
    },
    {
     "data": {
      "image/png": "[encoded data removed]",
      "text/plain": [
       "<Figure size 432x288 with 1 Axes>"
      ]
     },
     "metadata": {
      "needs_background": "light"
     },
     "output_type": "display_data"
    }
   ],
   "source": [
    "#scatter plot of the G2 phase\n",
    "cleaned_data.plot.scatter(x = \"mean_RNA_G2\", y = \"mean_protein_G2\")"
   ]
  },
  {
   "cell_type": "code",
   "execution_count": 45,
   "metadata": {},
   "outputs": [],
   "source": [
    "from sklearn.linear_model import LinearRegression"
   ]
  },
  {
   "cell_type": "code",
   "execution_count": 66,
   "metadata": {},
   "outputs": [
    {
     "data": {
      "text/plain": [
       "1      10.330107\n",
       "2      12.321340\n",
       "3      10.827333\n",
       "5      10.845517\n",
       "6       9.042438\n",
       "         ...    \n",
       "494    11.115773\n",
       "495    11.251870\n",
       "496    13.013263\n",
       "497     9.048456\n",
       "498    13.525467\n",
       "Name: mean_RNA_G1, Length: 397, dtype: float64"
      ]
     },
     "execution_count": 66,
     "metadata": {},
     "output_type": "execute_result"
    }
   ],
   "source": [
    "cleaned_data.mean_RNA_G1"
   ]
  },
  {
   "cell_type": "code",
   "execution_count": 63,
   "metadata": {},
   "outputs": [],
   "source": [
    "#Convert the pandas series into a numpy array ready to feed to a linear regression model\n",
    "#Visually we can see that the data held in each column is simply a 1D array, so flatten\n",
    "#it into a 1D array suitable for feeding to a linear regression model\n",
    "def prepare_column(col):\n",
    "    return col.to_numpy().flatten()"
   ]
  },
  {
   "cell_type": "code",
   "execution_count": 65,
   "metadata": {},
   "outputs": [
    {
     "data": {
      "text/plain": [
       "array([10.33010667, 12.32134   , 10.82733333, 10.84551667,  9.042438  ,\n",
       "        8.022649  ,  9.598898  , 11.41763333, 11.87049   , 10.98802667,\n",
       "       11.29092333,  9.48180667, 11.52916   ,  9.368756  , 10.04086433,\n",
       "       13.51566667, 10.34568667, 11.96150333, 10.90195667,  9.61708033,\n",
       "        9.27109033, 11.83923333, 11.20266333, 10.10601   , 11.758     ,\n",
       "        9.31234967,  9.997203  , 12.29866   , 14.34967333, 11.66922333,\n",
       "       12.16822667, 10.41098   , 13.91873667,  9.65475   , 10.44331667,\n",
       "       11.04026667, 11.57121667, 12.68192333, 10.04329333, 10.96884667,\n",
       "        9.56179867, 10.68692333,  9.888493  ,  8.55823733, 13.02888   ,\n",
       "       12.36809   , 12.64094   , 11.44465333,  8.378497  , 11.95701667,\n",
       "       10.21812667, 13.59326333, 10.38870333, 12.29556333, 11.08428667,\n",
       "       11.06364667,  9.26829567, 10.51854333,  9.481361  ,  8.71663133,\n",
       "       11.20789   , 11.81088667, 10.95045333, 11.17639333, 13.49508333,\n",
       "       13.12107   ,  9.37951467, 12.86963   ,  7.04485   , 12.30689667,\n",
       "       11.39773667,  9.7263    , 12.16464667, 12.01632333, 12.01869   ,\n",
       "        9.60539467, 10.50876   , 12.75882667, 10.05950333,  8.822842  ,\n",
       "       11.00286667, 10.20905   , 13.00761   , 11.00960667,  4.65611733,\n",
       "       11.02031   , 12.09898333, 13.10962   ,  7.95810367,  9.801525  ,\n",
       "       10.53130667, 13.21873333, 14.28786667, 12.79230667, 11.2502    ,\n",
       "       11.90790667, 10.42464667, 10.09663333, 11.72867   ,  9.29856467,\n",
       "       11.29422667, 11.14243333, 14.67058333, 12.44136333,  9.025625  ,\n",
       "       13.48614   , 11.66745333,  7.57570733, 10.86228667, 12.81310667,\n",
       "        8.41406633, 10.3319    ,  8.22359533, 12.78244333, 11.93573   ,\n",
       "       10.91417   ,  9.86785233,  9.894837  , 12.70625333, 10.41893333,\n",
       "       11.77339333, 13.82612667, 10.47634667, 13.89050333, 11.47079   ,\n",
       "        9.69823267,  8.88542767, 10.27240333,  9.313774  , 10.15807   ,\n",
       "        9.27608567, 14.08414667, 11.70882   , 10.011844  , 10.40545   ,\n",
       "       11.75355   , 11.03967667, 13.42495333, 11.12581   ,  7.89864167,\n",
       "        9.91856033, 11.40653   , 10.97720333, 13.08851333, 11.27129333,\n",
       "        9.89016467,  9.69625933, 11.65471   , 11.31841667, 13.20482667,\n",
       "       13.74572333, 11.78581   ,  9.80572467,  9.66963933,  9.98313933,\n",
       "        9.51494933, 10.55965667, 12.32318667, 11.12495   , 10.60941667,\n",
       "        9.25309933, 10.71989667, 10.52959333, 10.66091   ,  9.409171  ,\n",
       "       10.19588   , 11.62354333, 10.7267    , 10.40360667, 10.05336333,\n",
       "       11.67448333, 10.51893333, 13.32923667, 11.18696333, 12.61713667,\n",
       "       11.11354333, 11.22011   , 13.29653667, 11.47332667, 12.29125333,\n",
       "       12.31389667,  9.16552767, 13.13351333,  7.324058  , 11.47960667,\n",
       "       10.78676333,  9.47299033, 12.67922333, 12.34119   , 13.24582   ,\n",
       "       10.32961   , 12.59768   , 10.18965   , 11.06647667, 13.37171667,\n",
       "        9.613771  , 12.26436   , 12.47947333, 11.62487333, 12.07280667,\n",
       "       10.18316333, 10.88302667,  9.75147533, 11.54108667,  9.34184   ,\n",
       "       11.52216   , 12.06834667, 10.48051   ,  9.40142133, 11.18875333,\n",
       "       12.20158333, 13.45956   , 11.24551333, 12.10174   , 10.50575333,\n",
       "       13.26152333, 11.37694   , 11.79663667, 12.37628667,  9.988302  ,\n",
       "       10.25441   , 10.83401   , 10.11643   , 12.69424333,  7.27411467,\n",
       "       11.39780667, 12.129     , 11.62701   , 10.68729   , 11.51109667,\n",
       "       14.35591667, 10.35320667, 13.20469   , 10.57211333, 11.14755   ,\n",
       "       11.52397333,  9.852026  , 12.38392667, 12.17430333, 10.74022   ,\n",
       "       11.60665667, 11.32485333, 12.35485333, 12.71764   , 11.8651    ,\n",
       "        9.568739  ,  9.34758067, 12.54368667,  9.47656167, 10.73801333,\n",
       "        9.10610167,  9.09034567, 12.10238   , 10.15911333,  9.83611167,\n",
       "       10.99095667,  9.91738233, 12.9169    ,  9.63448533, 13.13151   ,\n",
       "       10.43277333, 10.30099   , 14.57190333, 11.74898667, 12.14415667,\n",
       "        9.41553233, 12.27986667, 10.65225667, 11.50187667, 11.47500333,\n",
       "       11.83943667,  8.559027  , 11.86509667, 12.55677333, 12.01349   ,\n",
       "        8.31172667, 11.06288333, 12.42107   , 12.23856   , 11.98883333,\n",
       "       11.57887333, 10.79448667, 11.65808667, 11.02169667,  9.89473367,\n",
       "        9.530875  ,  9.83798267, 11.08129333, 11.95788667, 11.67455333,\n",
       "       12.25665333, 10.30729667, 11.13715333, 10.78769   , 11.47068   ,\n",
       "       12.12034333, 12.28681667, 12.71868667, 10.41582   , 10.01941033,\n",
       "       12.26983   ,  9.743791  , 10.51145333, 11.78185667, 11.39452333,\n",
       "        9.14862367, 10.57192333, 13.84811333, 11.10277333,  9.89460333,\n",
       "       13.44298667, 12.1854    , 12.05712667, 10.97525333, 11.82291   ,\n",
       "       11.47553   , 13.04421333, 10.55028667,  9.44122367, 10.49659667,\n",
       "       10.96288   , 12.25552667, 14.69898667, 11.94842333, 11.44169   ,\n",
       "       11.38709   ,  8.89111733, 13.98044333, 14.07596   , 11.97572   ,\n",
       "       12.25488667, 12.11306   , 11.79923333, 10.46239   ,  9.97154633,\n",
       "       11.45779667, 10.87427667, 11.26060333, 13.78599333, 13.32576667,\n",
       "       12.57138333, 10.89004667, 10.41704333, 10.40712667, 11.33842667,\n",
       "       13.82395   , 12.90022   , 13.31611   ,  7.90487667, 12.03910333,\n",
       "       11.38682   ,  9.848329  , 12.67594667, 10.65291   , 12.16013667,\n",
       "       11.97956667,  9.04010567, 12.83352333, 14.09121   , 12.48071   ,\n",
       "       12.60693667, 11.0529    , 11.60255333, 10.52109333, 11.78651667,\n",
       "       11.86945   , 10.7752    , 13.3485    , 12.34328333, 10.33127667,\n",
       "       13.18425667, 13.93380333, 11.26745333, 10.60426   ,  9.814781  ,\n",
       "       11.15499667, 12.40520667, 10.51649667, 10.77036   , 12.52182667,\n",
       "        8.91566133, 13.22788667,  9.93508067, 10.91793333, 12.39669   ,\n",
       "       11.12570333, 11.27198333, 13.14919333, 11.22766667, 11.58978   ,\n",
       "       13.845     , 11.94676   , 11.11577333, 11.25187   , 13.01326333,\n",
       "        9.04845633, 13.52546667])"
      ]
     },
     "execution_count": 65,
     "metadata": {},
     "output_type": "execute_result"
    }
   ],
   "source": [
    "G1_rna = prepare_column(cleaned_data.mean_RNA_G1)\n",
    "G1_protein = prepare_column(cleaned_data.mean_protein_G1)\n",
    "X\n",
    "\n",
    "#g1Model = LinearRegression().fit(cleaned_data.mean_RNA_G1, cleaned_data.mean_protein_G1)"
   ]
  },
  {
   "cell_type": "code",
   "execution_count": 62,
   "metadata": {},
   "outputs": [
    {
     "data": {
      "text/plain": [
       "array([24.74802   , 19.08359333, 24.61446667, 26.11269   , 22.75052   ,\n",
       "       19.64088333, 22.24373667, 26.28999333, 29.27927333, 19.6453    ,\n",
       "       25.13734   , 27.04381   , 24.88391667, 25.33794667, 19.70628   ,\n",
       "       30.17657333, 21.41314333, 23.54317333, 24.16969667, 24.88024667,\n",
       "       22.49449   , 23.71600333, 27.01078   , 22.08764333, 25.65714667,\n",
       "       21.53688333, 22.10476   , 20.26933667, 33.42070667, 28.35642   ,\n",
       "       25.63216333, 19.78083667, 26.68677   , 19.78099667, 23.53949   ,\n",
       "       27.01718333, 24.03496   , 26.48223333, 22.46567333, 24.51906667,\n",
       "       22.24755   , 23.54819   , 17.26077   , 24.09655333, 23.65709667,\n",
       "       27.16206333, 27.98441   , 25.6897    , 24.96333667, 29.11943   ,\n",
       "       24.81470667, 31.95207667, 24.68035   , 27.22472667, 25.45573667,\n",
       "       22.65721667, 21.03167   , 25.72209667, 25.13467   , 22.18743333,\n",
       "       25.69215333, 25.53286667, 21.42321667, 24.13689333, 31.26943333,\n",
       "       29.48937333, 26.16268667, 26.05469   , 27.97455   , 23.11361   ,\n",
       "       21.97788667, 20.87114   , 25.57057   , 27.57308333, 26.98807667,\n",
       "       23.26968   , 27.98085333, 20.37726667, 26.99693333, 29.99559667,\n",
       "       22.55324333, 28.28842333, 30.70634333, 26.98809   , 22.44092667,\n",
       "       24.46339   , 24.80604333, 32.44537   , 17.99536   , 24.08052667,\n",
       "       23.33065   , 22.82323333, 31.12657667, 25.81053   , 21.43761   ,\n",
       "       22.2877    , 26.04939   , 19.72754667, 25.42011333, 27.78863667,\n",
       "       23.55676   , 22.18124667, 31.18989   , 21.48933   , 18.08764333,\n",
       "       29.75607333, 27.70745333, 26.00146333, 22.11851667, 25.81635667,\n",
       "       19.59326667, 24.04685333, 23.32267333, 28.54279333, 23.64645667,\n",
       "       23.42459333, 19.478955  , 29.02384333, 31.59551   , 25.7581    ,\n",
       "       27.63162667, 30.84626667, 28.78771333, 31.02659667, 23.70101333,\n",
       "       26.97663667, 23.97552667, 23.40954667, 25.49657333, 25.66463333,\n",
       "       27.61078   , 33.24368667, 27.39739667, 23.92255333, 21.47544   ,\n",
       "       26.37669667, 28.71855   , 30.33791333, 28.03855   , 22.97596667,\n",
       "       22.54650333, 23.26392667, 22.15790667, 27.77888333, 22.89278   ,\n",
       "       24.44893   , 23.22760333, 18.81932   , 22.53305667, 31.95904333,\n",
       "       28.20348667, 29.07612333, 25.21422   , 23.90596   , 25.80813333,\n",
       "       22.16434   , 22.57461333, 24.41689333, 26.22011333, 27.09953   ,\n",
       "       29.50196667, 19.31299333, 21.5039    , 27.98863333, 24.85353667,\n",
       "       27.43292   , 23.07064333, 24.71977333, 24.13741667, 19.21028   ,\n",
       "       24.95483333, 24.19688   , 32.27429667, 26.37254667, 27.06248   ,\n",
       "       28.83730333, 27.99640333, 29.48561333, 29.60694   , 24.13452667,\n",
       "       25.89319   , 21.16268667, 26.59298   , 25.14865333, 28.74736   ,\n",
       "       22.51858   , 17.046205  , 26.78868333, 25.58520333, 28.4768    ,\n",
       "       21.68735333, 28.98348333, 28.01731667, 27.75768   , 25.56750667,\n",
       "       26.18887333, 24.62918333, 29.21065333, 20.87485667, 27.04205667,\n",
       "       18.954     , 22.26412333, 24.65925333, 22.29642333, 21.55668333,\n",
       "       25.03884333, 24.29277   , 21.84629   , 23.18841   , 25.54823333,\n",
       "       27.86699333, 25.89006   , 22.94091667, 24.27897667, 21.54332333,\n",
       "       26.09421333, 21.93885333, 28.29270667, 25.15227667, 22.37439   ,\n",
       "       23.72664   , 23.14158333, 24.55329333, 22.62098667, 25.32061667,\n",
       "       23.74553667, 27.05208333, 26.02935333, 27.48320667, 29.59302   ,\n",
       "       31.58905   , 26.871405  , 29.92686667, 20.807245  , 24.79817   ,\n",
       "       23.48172667, 24.94569333, 26.89597   , 25.64725667, 26.23796   ,\n",
       "       22.49209667, 23.70929667, 24.44886   , 29.14367667, 27.09741   ,\n",
       "       17.07775   , 22.07837667, 30.83265667, 24.85042333, 21.23881667,\n",
       "       22.74721667, 22.87634   , 28.99897   , 24.65135   , 27.02143   ,\n",
       "       26.84720667, 25.91311667, 31.73324667, 24.6389    , 24.51907667,\n",
       "       24.96396333, 26.28100333, 31.26215   , 24.37826333, 29.42493   ,\n",
       "       23.54472   , 24.32406   , 24.15063333, 20.86838   , 28.52708   ,\n",
       "       29.86386   , 21.67057   , 26.13589   , 29.67687667, 21.98097   ,\n",
       "       23.25503667, 23.03987667, 27.1651    , 23.28566667, 30.97040667,\n",
       "       28.97184   , 24.91816   , 24.85362667, 24.59736333, 26.57321   ,\n",
       "       23.93627   , 22.25009333, 25.79834333, 30.19451333, 28.00305667,\n",
       "       28.87675667, 25.30910667, 26.05761   , 22.03756667, 24.04456333,\n",
       "       28.89897667, 26.23883667, 27.71305   , 25.09256667, 26.59274667,\n",
       "       26.82032   , 17.93305333, 24.50752333, 27.11143667, 28.99534333,\n",
       "       21.52215667, 26.69577667, 33.20342   , 24.24132   , 22.75534333,\n",
       "       31.46842667, 28.41181667, 27.18055   , 24.52581667, 26.34857667,\n",
       "       27.10976667, 29.47975333, 22.10995   , 20.81193667, 23.91569333,\n",
       "       23.54279   , 22.61780667, 31.32949333, 25.42951   , 29.57423667,\n",
       "       25.04902   , 26.90632667, 33.4616    , 22.54991667, 27.40122   ,\n",
       "       25.21166667, 27.15731333, 22.06221333, 24.05713   , 23.53615333,\n",
       "       21.58143667, 26.71402667, 27.89996   , 20.86951667, 19.90654333,\n",
       "       27.12683   , 27.44321333, 22.76558333, 22.47602   , 26.44261   ,\n",
       "       32.57564   , 26.74942333, 27.6288    , 26.44082   , 25.50925   ,\n",
       "       28.95411   , 18.34603   , 28.89965333, 20.56877667, 26.16911333,\n",
       "       28.58271333, 22.62251   , 27.79850333, 30.00261667, 20.20718667,\n",
       "       26.81514   , 21.50206   , 27.12536667, 22.63648333, 28.51666   ,\n",
       "       28.47486   , 26.39353   , 25.50602333, 28.81522   , 25.90678667,\n",
       "       27.24724333, 31.53352333, 26.06477333, 24.05674667, 24.40141   ,\n",
       "       26.83464   , 29.61385333, 24.34134333, 22.39585   , 25.58049333,\n",
       "       21.23279   , 31.83093333, 20.5868    , 21.26066333, 29.78674333,\n",
       "       24.02607667, 23.47900333, 28.14544333, 27.13925   , 23.67414   ,\n",
       "       30.78067667, 29.16472667, 26.02468   , 26.73981333, 28.42277333,\n",
       "       23.59293   , 26.77941667])"
      ]
     },
     "execution_count": 62,
     "metadata": {},
     "output_type": "execute_result"
    }
   ],
   "source": [
    "y.flatten()"
   ]
  },
  {
   "cell_type": "code",
   "execution_count": null,
   "metadata": {},
   "outputs": [],
   "source": []
  }
 ],
 "metadata": {
  "kernelspec": {
   "display_name": "Python 3",
   "language": "python",
   "name": "python3"
  },
  "language_info": {
   "codemirror_mode": {
    "name": "ipython",
    "version": 3
   },
   "file_extension": ".py",
   "mimetype": "text/x-python",
   "name": "python",
   "nbconvert_exporter": "python",
   "pygments_lexer": "ipython3",
   "version": "3.8.3"
  }
 },
 "nbformat": 4,
 "nbformat_minor": 4
}
