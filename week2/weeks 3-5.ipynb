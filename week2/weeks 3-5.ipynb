{
 "cells": [
  {
   "cell_type": "code",
   "execution_count": 1,
   "metadata": {},
   "outputs": [],
   "source": [
    "import numpy as np"
   ]
  },
  {
   "cell_type": "code",
   "execution_count": 2,
   "metadata": {},
   "outputs": [],
   "source": [
    "#the log odds of one amino acid being substituted by another\n",
    "blosum50 = np.loadtxt(\"blosum50.txt\", dtype = 'i')"
   ]
  },
  {
   "cell_type": "code",
   "execution_count": 3,
   "metadata": {},
   "outputs": [],
   "source": [
    "#map the characters with their indices\n",
    "blosum_index_map = dict(zip(['A','R','N','D','C','Q','E','G','H','I','L','K',\n",
    "                'M','F','P','S','T','W','Y','V'],\n",
    "                  [i for i in range(len(blosum50))]))\n",
    "\n",
    "#given the bases to consider swapping, get the blosum log probability score of swapping them\n",
    "#by looking up the corresponding index of the chars and then accessing that index of the matrix \n",
    "def get_blosum_score(char1, char2):\n",
    "    i = blosum_index_map[char1]\n",
    "    j = blosum_index_map[char2]\n",
    "    return blosum50[i][j]"
   ]
  },
  {
   "cell_type": "code",
   "execution_count": 4,
   "metadata": {},
   "outputs": [],
   "source": [
    "from termcolor import colored"
   ]
  },
  {
   "cell_type": "code",
   "execution_count": 5,
   "metadata": {},
   "outputs": [],
   "source": [
    "#assumes that the blosum50 field is accessible in its environment\n",
    "def needleman_wunsch(str2, str1):\n",
    "    \n",
    "    #our penalty score\n",
    "    d = -8\n",
    "    \n",
    "    #str1 is the chars on the \"left\" of the matrix\n",
    "    #str2 is the chars along the \"top\" of the matrix\n",
    "    \n",
    "    #initialize an empty matrix\n",
    "    height = len(str1) + 1\n",
    "    width = len(str2) + 1\n",
    "    \n",
    "    #explicitly object data type so that we can store tuples\n",
    "    matrix = np.zeros((height, width), dtype = \"object\")\n",
    "    \n",
    "    #initialization step, mark the cells at the sides of the matrix\n",
    "    #as incrementing by the penalty, and mark the \"arrow\" directions all as north/west\n",
    "    count = 0\n",
    "    for i in range(width):\n",
    "        matrix[0][i] = (count,\"w\")\n",
    "        count += d\n",
    "    count = 0\n",
    "    for i in range(height):\n",
    "        matrix[i][0] = (count, \"n\")\n",
    "        count +=d\n",
    "    \n",
    "    for i in range(1, height):\n",
    "        \n",
    "        for j in range(1, width):\n",
    "            \n",
    "            char1 = str1[i - 1]\n",
    "            char2 = str2[j - 1]\n",
    "            score = get_blosum_score(char2, char1)\n",
    "            \n",
    "            #direct implementation of the dynamic programming step\n",
    "            matrix[i][j] = max([\n",
    "                #each cell contains a tuple of score and direction so extract the score\n",
    "                (matrix[i-1][j-1][0] + score,\"nw\"),\n",
    "                (matrix[i-1][j][0] + d,\"n\"),\n",
    "                (matrix[i][j-1][0] + d,\"w\")\n",
    "            ], key = lambda tup: tup[0])\n",
    "        \n",
    "    #F matrix has been generated, now need to perform backwards algorithm\n",
    "    #start at the bottom right of the matrix\n",
    "    i = height - 1\n",
    "    j = width - 1\n",
    "    \n",
    "    #path of cell transitions we will build up\n",
    "    path = []\n",
    "    \n",
    "    #the 2 string substitution visualizations we will build up\n",
    "    str1sub = \"\"\n",
    "    str2sub = \"\"\n",
    "    \n",
    "    while True:\n",
    "        \n",
    "        #end condition, we have retraced the path\n",
    "        if i == 0 and j == 0:\n",
    "            break\n",
    "        \n",
    "        #the direction we need to go in\n",
    "        dr = matrix[i][j][1]\n",
    "        \n",
    "        #chars stayed the same\n",
    "        if dr == \"nw\":\n",
    "            path.append((i,j))\n",
    "            str1sub += str1[i - 1]\n",
    "            str2sub += str2[j - 1]\n",
    "            i -= 1\n",
    "            j -= 1\n",
    "            continue\n",
    "        \n",
    "        #eliminate char from str2\n",
    "        if dr == \"n\":\n",
    "            path.append((i,j))\n",
    "            str1sub += str1[i - 1]\n",
    "            str2sub += '-'\n",
    "            i -= 1\n",
    "            continue\n",
    "        \n",
    "        #eliminate char from str1\n",
    "        if dr == \"w\":\n",
    "            path.append((i,j))\n",
    "            str1sub += '-'\n",
    "            str2sub += str2[j - 1]\n",
    "            j -= 1\n",
    "    \n",
    "    path.append((0,0))\n",
    "    \n",
    "    print(\"\\nIndices of path found starting from bottom right:\\n\\n\" + str(path) + \"\\n\")\n",
    "    \n",
    "    print(\"\\nString comparison, dashes represent if a character was eliminated:\\n\\n\")\n",
    "    #reverse the strings as they have been built up backwards\n",
    "    print(str2sub[::-1] + \"\\n\")\n",
    "    print(str1sub[::-1] + \"\\n\\n\")\n",
    "    \n",
    "    print(\"Solution visualization on F matrix:\\n\")\n",
    "    \n",
    "    for i in range(height):\n",
    "        \n",
    "        for j in range(width):\n",
    "            \n",
    "            if((i,j) in path):\n",
    "                print(colored(matrix[i][j][0], \"red\"), end = '')\n",
    "            else:\n",
    "                print(matrix[i][j][0], end = '')\n",
    "        \n",
    "        #print a new line\n",
    "        print()        "
   ]
  },
  {
   "cell_type": "code",
   "execution_count": 6,
   "metadata": {},
   "outputs": [
    {
     "name": "stdout",
     "output_type": "stream",
     "text": [
      "\n",
      "Indices of path found starting from bottom right:\n",
      "\n",
      "[(7, 10), (6, 9), (5, 9), (4, 8), (3, 7), (3, 6), (2, 5), (1, 4), (1, 3), (0, 2), (0, 1), (0, 0)]\n",
      "\n",
      "\n",
      "String comparison, dashes represent if a character was eliminated:\n",
      "\n",
      "\n",
      "HEAGAWGHE-E\n",
      "\n",
      "--P-AW-HEAE\n",
      "\n",
      "\n",
      "Solution visualization on F matrix:\n",
      "\n",
      "\u001b[31m0\u001b[0m\u001b[31m-8\u001b[0m\u001b[31m-16\u001b[0m-24-32-40-48-56-64-72-80\n",
      "-8-2-9\u001b[31m-17\u001b[0m\u001b[31m-25\u001b[0m-33-41-49-57-65-73\n",
      "-16-10-3-4-12\u001b[31m-20\u001b[0m-28-36-44-52-60\n",
      "-24-18-11-6-7-15\u001b[31m-5\u001b[0m\u001b[31m-13\u001b[0m-21-29-37\n",
      "-32-14-18-13-8-9-13-7\u001b[31m-3\u001b[0m-11-19\n",
      "-40-22-8-16-16-9-12-15-7\u001b[31m3\u001b[0m-5\n",
      "-48-30-16-3-11-11-12-12-15\u001b[31m-5\u001b[0m2\n",
      "-56-38-24-11-6-12-14-15-12-9\u001b[31m1\u001b[0m\n"
     ]
    }
   ],
   "source": [
    "needleman_wunsch(\"HEAGAWGHEE\", \"PAWHEAE\")"
   ]
  },
  {
   "cell_type": "code",
   "execution_count": 7,
   "metadata": {},
   "outputs": [
    {
     "name": "stdout",
     "output_type": "stream",
     "text": [
      "\n",
      "Indices of path found starting from bottom right:\n",
      "\n",
      "[(34, 33), (33, 33), (32, 32), (31, 31), (30, 30), (29, 29), (28, 28), (27, 27), (26, 26), (25, 25), (24, 24), (23, 23), (22, 22), (21, 21), (20, 20), (19, 19), (18, 18), (17, 17), (16, 16), (15, 15), (14, 14), (13, 13), (13, 12), (12, 11), (11, 10), (10, 9), (9, 8), (8, 7), (7, 6), (6, 5), (5, 4), (4, 3), (3, 2), (2, 1), (1, 0), (0, 0)]\n",
      "\n",
      "\n",
      "String comparison, dashes represent if a character was eliminated:\n",
      "\n",
      "\n",
      "-SALPQPTTPVSSFTSGSMLGRTDTALTNTYSAL-\n",
      "\n",
      "PSPTMEAVTSVEA-STASHPHSTSSYFATTYYHLY\n",
      "\n",
      "\n",
      "Solution visualization on F matrix:\n",
      "\n",
      "\u001b[31m0\u001b[0m-8-16-24-32-40-48-56-64-72-80-88-96-104-112-120-128-136-144-152-160-168-176-184-192-200-208-216-224-232-240-248-256-264\n",
      "\u001b[31m-8\u001b[0m-1-9-17-14-22-30-38-46-54-62-70-78-86-94-102-110-118-126-134-142-150-158-166-174-182-190-198-206-214-222-230-238-246\n",
      "-16\u001b[31m-3\u001b[0m0-8-16-14-22-28-36-44-52-57-65-73-81-89-97-105-113-121-129-137-145-153-161-169-177-185-193-201-209-217-225-233\n",
      "-24-11\u001b[31m-4\u001b[0m-42-6-4-12-20-26-34-42-50-58-66-74-82-90-98-106-114-122-130-138-146-154-162-170-178-186-194-202-210-218\n",
      "-32-19-11\u001b[31m-5\u001b[0m-51-71-7-15-23-31-39-47-53-61-69-77-85-93-101-109-117-125-133-141-149-157-165-173-181-189-197-205\n",
      "-40-27-19-8\u001b[31m-8\u001b[0m-5-2-70-8-14-22-30-38-46-54-62-70-70-78-86-94-102-110-118-126-134-142-150-158-166-174-182-190\n",
      "-48-35-27-16-9\u001b[31m-6\u001b[0m-6-3-8-1-9-15-23-31-39-47-55-63-71-73-81-86-94-100-108-116-124-132-140-148-156-164-172-180\n",
      "-56-43-30-24-17-10\u001b[31m-7\u001b[0m-6-3-9-1-8-14-22-30-38-46-54-62-70-73-81-86-94-100-103-111-119-127-135-143-151-159-167\n",
      "-64-51-38-29-25-18-13\u001b[31m-7\u001b[0m-6-6-4-3-10-15-22-30-38-46-53-61-69-76-81-89-94-100-102-110-118-126-134-142-150-158\n",
      "-72-59-46-37-30-26-19-8\u001b[31m-2\u001b[0m-7-6-2-1-9-10-18-26-34-42-50-58-66-71-79-84-92-100-97-105-113-121-129-137-145\n",
      "-80-67-54-45-38-30-27-16-6\u001b[31m-3\u001b[0m-9-13-4-7-5-13-21-29-37-45-53-61-69-77-83-91-98-96-103-111-116-124-132\n",
      "-88-75-62-53-46-38-33-24-14-9\u001b[31m2\u001b[0m-6-32-4-9-9-15-20-28-36-44-52-60-68-76-82-90-98-96-104-112-116-123\n",
      "-96-83-70-61-54-44-39-32-22-15-6\u001b[31m1\u001b[0m-7-61-5-12-10-17-23-31-36-44-50-58-66-74-82-90-98-98-105-113-119\n",
      "-104-91-78-69-62-52-45-39-30-23-14-5\u001b[31m2\u001b[0m\u001b[31m-6\u001b[0m-62-5-11-11-19-23-31-36-44-50-53-61-69-77-85-93-97-100-108\n",
      "-112-99-86-77-70-60-53-43-37-31-22-90-1\u001b[31m-4\u001b[0m-120-8-14-19-24-29-36-42-49-56-59-67-75-83-88-96-103\n",
      "-120-107-94-85-78-68-61-48-38-38-30-17-7-24\u001b[31m-2\u001b[0m-34-1-9-16-20-19-27-31-39-47-51-59-62-70-78-86-94\n",
      "-128-115-102-93-86-76-69-56-46-39-38-25-15-10-25\u001b[31m-2\u001b[0m-23-3-9-17-20-21-27-26-34-42-50-58-64-69-73-81\n",
      "-136-123-110-101-94-84-77-64-54-47-41-33-20-18-835\u001b[31m3\u001b[0m-40-3-10-15-20-19-26-29-32-40-48-56-59-67-75\n",
      "-144-131-118-109-102-92-85-72-62-55-49-41-28-21-16-514\u001b[31m2\u001b[0m-6-2-3-11-16-22-21-29-31-31-39-46-54-61-69\n",
      "-152-139-126-117-99-100-82-80-70-52-57-49-36-29-22-13-701\u001b[31m-2\u001b[0m-8-5-4-12-17-23-25-30-33-32-40-47-55-63\n",
      "-160-147-134-125-107-98-90-84-78-60-56-57-44-37-30-21-15-8-1-2\u001b[31m-4\u001b[0m-8-7-5-13-19-26-27-29-35-30-38-46-54\n",
      "-168-155-142-133-115-106-98-88-82-68-62-51-52-45-35-25-21-10-9-4-2\u001b[31m-5\u001b[0m-6-7-3-11-19-24-26-27-35-25-33-41\n",
      "-176-163-150-141-123-114-106-93-83-76-68-59-49-53-40-33-27-18-11-10-6-3\u001b[31m0\u001b[0m-7-2-3-11-14-22-21-29-33-25-33\n",
      "-184-171-158-149-131-122-114-101-91-84-76-63-54-52-48-35-33-22-19-14-10-7-1\u001b[31m0\u001b[0m-5-1-6-9-13-20-23-24-32-28\n",
      "-192-179-166-157-139-130-122-109-99-92-84-71-58-57-50-43-35-28-24-22-14-11-5-1\u001b[31m2\u001b[0m-4-4-4-8-11-19-18-23-31\n",
      "-200-187-174-165-147-138-130-117-107-100-92-79-66-54-58-51-43-36-28-25-22-15-13-8-3\u001b[31m0\u001b[0m-5-6-6-10-3-11-19-24\n",
      "-208-195-182-173-155-146-138-125-115-108-100-87-74-58-56-59-51-44-36-27-29-23-17-16-10-6\u001b[31m1\u001b[0m-7-10-8-6-6-14-18\n",
      "-216-203-190-181-163-154-146-133-123-116-108-95-82-66-58-55-59-50-44-35-27-31-23-19-16-5-7\u001b[31m1\u001b[0m-7-10-10-5-1-9\n",
      "-224-211-198-189-171-162-154-141-128-124-116-103-90-74-61-56-57-57-51-43-35-28-26-24-14-13-6-2\u001b[31m1\u001b[0m-2-10-8-5-2\n",
      "-232-219-206-197-179-170-162-149-136-129-124-111-98-82-69-59-58-55-58-51-43-36-23-27-19-14-14-1-2\u001b[31m6\u001b[0m-2-8-8-6\n",
      "-240-227-214-205-187-178-170-157-144-137-130-119-106-90-77-67-62-60-55-59-51-44-31-26-27-21-15-9-3-2\u001b[31m14\u001b[0m6-2-9\n",
      "-248-235-222-213-195-186-178-165-152-145-138-127-114-98-85-75-70-64-60-56-59-52-39-34-28-29-22-17-11-56\u001b[31m12\u001b[0m4-3\n",
      "-256-243-230-221-203-194-186-173-160-153-146-135-122-106-93-83-77-71-65-63-58-59-47-40-36-30-30-24-16-13-25\u001b[31m10\u001b[0m2\n",
      "-264-251-238-225-211-202-194-181-168-161-152-143-130-114-101-91-85-79-68-60-66-61-55-48-41-38-25-31-24-17-10-33\u001b[31m15\u001b[0m\n",
      "-272-259-246-233-219-210-202-189-176-169-160-151-138-122-109-99-93-87-76-68-63-67-63-56-49-43-33-27-32-25-9-11-5\u001b[31m7\u001b[0m\n"
     ]
    }
   ],
   "source": [
    "needleman_wunsch(\"SALPQPTTPVSSFTSGSMLGRTDTALTNTYSAL\", \"PSPTMEAVTSVEASTASHPHSTSSYFATTYYHLY\")"
   ]
  },
  {
   "cell_type": "code",
   "execution_count": 8,
   "metadata": {},
   "outputs": [],
   "source": [
    "#assumes that the blosum50 field is accessible in its environment\n",
    "def smith_waterman(str2, str1):\n",
    "    \n",
    "    #our penalty score\n",
    "    d = -8\n",
    "    \n",
    "    #str1 is the chars along the \"left\" of the matrix\n",
    "    #str2 is the chars along the \"right\" of the matrix\n",
    "    \n",
    "    #initialize an empty matrix\n",
    "    height = len(str1) + 1\n",
    "    width = len(str2) + 1\n",
    "    \n",
    "    #explicitly object data type so that we can store tuples\n",
    "    matrix = np.zeros((height, width), dtype = \"object\")\n",
    "    \n",
    "    #the cells at the edges are now marked as zeroes\n",
    "    for i in range(width):\n",
    "        matrix[0][i] = (0,\"zero\")\n",
    "    for i in range(height):\n",
    "        matrix[i][0] = (0, \"zero\")\n",
    "    \n",
    "    #keep track of the max seen \n",
    "    max_seen = 0\n",
    "    #also keep track of its index\n",
    "    max_index = (0,0)\n",
    "    \n",
    "    for i in range(1, height):\n",
    "        \n",
    "        for j in range(1, width):\n",
    "            \n",
    "            char1 = str1[i - 1]\n",
    "            char2 = str2[j - 1]\n",
    "            score = get_blosum_score(char2, char1)\n",
    "            \n",
    "            #direct implementation of the dynamic programming step\n",
    "            matrix[i][j] = max([\n",
    "                #the new case added for smith waterman\n",
    "                (0, \"zero\"),\n",
    "                #each cell contains a tuple of score and direction so extract the score\n",
    "                (matrix[i-1][j-1][0] + score,\"nw\"),\n",
    "                (matrix[i-1][j][0] + d,\"n\"),\n",
    "                (matrix[i][j-1][0] + d,\"w\")\n",
    "            ], key = lambda tup: tup[0])\n",
    "            \n",
    "            #keep track of the biggest cell value found as this\n",
    "            #will now be our starting point\n",
    "            if(matrix[i][j][0] > max_seen):\n",
    "                max_seen = matrix[i][j][0]\n",
    "                max_index = (i,j)\n",
    "        \n",
    "    #we are now starting at the index containing the max value \n",
    "    #instead of the bottom right of the matrix\n",
    "    i = max_index[0]\n",
    "    j = max_index[1]\n",
    "    \n",
    "    #path of cell transitions we will build up\n",
    "    path = []\n",
    "    \n",
    "    #the 2 string substitution visualizations we will build up\n",
    "    str1sub = \"\"\n",
    "    str2sub = \"\"\n",
    "    \n",
    "    while True:\n",
    "        \n",
    "        #the direction we need to go in (or a zero)\n",
    "        dr = matrix[i][j][1]\n",
    "        \n",
    "        #termination condition, the path stops at 0\n",
    "        if dr == \"zero\":\n",
    "            break\n",
    "            \n",
    "        #chars stayed the same\n",
    "        if dr == \"nw\":\n",
    "            path.append((i,j))\n",
    "            str1sub += str1[i - 1]\n",
    "            str2sub += str1[j - 1]\n",
    "            i -= 1\n",
    "            j -= 1\n",
    "            continue\n",
    "        \n",
    "        #eliminate char from the string along the \"top\"\n",
    "        if dr == \"n\":\n",
    "            path.append((i,j))\n",
    "            str1sub += str1[i - 1]\n",
    "            str2sub += '-'\n",
    "            i -= 1\n",
    "            continue\n",
    "        \n",
    "        #eliminate char from the string along the \"left\"\n",
    "        if dr == \"w\":\n",
    "            path.append((i,j))\n",
    "            str1sub += '-'\n",
    "            str2sub += str2[j - 1]\n",
    "            j -= 1\n",
    "    \n",
    "    #we finished at indices i,j therefore it must be a 0 and the final\n",
    "    #node in the path, so add it to the path \n",
    "    path.append((i,j))\n",
    "    \n",
    "    print(\"\\nIndices of path found starting from maximum:\\n\\n\" + str(path) + \"\\n\")\n",
    "    \n",
    "    print(\"\\nLocal match substituted strings, dashes represent if a character was eliminated:\")\n",
    "    \n",
    "    #reverse the strings as they have been built up backwards\n",
    "    print(str2sub[::-1] + \"\\n\")\n",
    "    print(str1sub[::-1] + \"\\n\\n\")\n",
    "    \n",
    "    print(\"Solution visualization on F matrix:\\n\")\n",
    "    \n",
    "    for i in range(height):\n",
    "        \n",
    "        for j in range(width):\n",
    "            \n",
    "            if((i,j) in path):\n",
    "                print(colored(matrix[i][j][0], \"red\"),\" \", end = '')\n",
    "            else:\n",
    "                print(matrix[i][j][0],\" \", end = '')\n",
    "        \n",
    "        #print a new line\n",
    "        print()        "
   ]
  },
  {
   "cell_type": "code",
   "execution_count": 9,
   "metadata": {},
   "outputs": [
    {
     "ename": "IndexError",
     "evalue": "string index out of range",
     "output_type": "error",
     "traceback": [
      "\u001b[0;31m---------------------------------------------------------------------------\u001b[0m",
      "\u001b[0;31mIndexError\u001b[0m                                Traceback (most recent call last)",
      "\u001b[0;32m<ipython-input-9-cfc613d46af8>\u001b[0m in \u001b[0;36m<module>\u001b[0;34m\u001b[0m\n\u001b[0;32m----> 1\u001b[0;31m \u001b[0msmith_waterman\u001b[0m\u001b[0;34m(\u001b[0m\u001b[0;34m\"HEAGAWGHEE\"\u001b[0m\u001b[0;34m,\u001b[0m \u001b[0;34m\"PAWHEAE\"\u001b[0m\u001b[0;34m)\u001b[0m\u001b[0;34m\u001b[0m\u001b[0;34m\u001b[0m\u001b[0m\n\u001b[0m",
      "\u001b[0;32m<ipython-input-8-bffc3b627916>\u001b[0m in \u001b[0;36msmith_waterman\u001b[0;34m(str2, str1)\u001b[0m\n\u001b[1;32m     75\u001b[0m             \u001b[0mpath\u001b[0m\u001b[0;34m.\u001b[0m\u001b[0mappend\u001b[0m\u001b[0;34m(\u001b[0m\u001b[0;34m(\u001b[0m\u001b[0mi\u001b[0m\u001b[0;34m,\u001b[0m\u001b[0mj\u001b[0m\u001b[0;34m)\u001b[0m\u001b[0;34m)\u001b[0m\u001b[0;34m\u001b[0m\u001b[0;34m\u001b[0m\u001b[0m\n\u001b[1;32m     76\u001b[0m             \u001b[0mstr1sub\u001b[0m \u001b[0;34m+=\u001b[0m \u001b[0mstr1\u001b[0m\u001b[0;34m[\u001b[0m\u001b[0mi\u001b[0m \u001b[0;34m-\u001b[0m \u001b[0;36m1\u001b[0m\u001b[0;34m]\u001b[0m\u001b[0;34m\u001b[0m\u001b[0;34m\u001b[0m\u001b[0m\n\u001b[0;32m---> 77\u001b[0;31m             \u001b[0mstr2sub\u001b[0m \u001b[0;34m+=\u001b[0m \u001b[0mstr1\u001b[0m\u001b[0;34m[\u001b[0m\u001b[0mj\u001b[0m \u001b[0;34m-\u001b[0m \u001b[0;36m1\u001b[0m\u001b[0;34m]\u001b[0m\u001b[0;34m\u001b[0m\u001b[0;34m\u001b[0m\u001b[0m\n\u001b[0m\u001b[1;32m     78\u001b[0m             \u001b[0mi\u001b[0m \u001b[0;34m-=\u001b[0m \u001b[0;36m1\u001b[0m\u001b[0;34m\u001b[0m\u001b[0;34m\u001b[0m\u001b[0m\n\u001b[1;32m     79\u001b[0m             \u001b[0mj\u001b[0m \u001b[0;34m-=\u001b[0m \u001b[0;36m1\u001b[0m\u001b[0;34m\u001b[0m\u001b[0;34m\u001b[0m\u001b[0m\n",
      "\u001b[0;31mIndexError\u001b[0m: string index out of range"
     ]
    }
   ],
   "source": [
    "smith_waterman(\"HEAGAWGHEE\", \"PAWHEAE\")"
   ]
  },
  {
   "cell_type": "code",
   "execution_count": 10,
   "metadata": {},
   "outputs": [
    {
     "name": "stdout",
     "output_type": "stream",
     "text": [
      "\n",
      "Indices of path found starting from maximum:\n",
      "\n",
      "[(46, 45), (45, 44), (44, 43), (43, 42), (42, 41), (41, 40), (40, 39), (39, 38), (38, 37), (37, 36), (36, 35), (35, 34), (34, 33), (33, 32), (32, 31), (31, 30), (30, 29), (29, 28), (28, 27), (27, 26), (26, 25), (25, 24), (24, 23), (23, 22), (22, 21), (21, 20), (20, 19), (19, 18), (18, 17), (17, 16), (16, 15), (15, 14), (14, 13), (13, 12), (12, 11), (11, 10), (10, 9), (9, 8), (8, 7), (7, 6), (6, 5), (5, 4)]\n",
      "\n",
      "\n",
      "Local match substituted strings, dashes represent if a character was eliminated:\n",
      "CHSGVNQLGGVFVGGRPLPDSTRQKIVELAHSGARPCDISR\n",
      "\n",
      "HSGVNQLGGVFVGGRPLPDSTRQKIVELAHSGARPCDISRI\n",
      "\n",
      "\n",
      "Solution visualization on F matrix:\n",
      "\n",
      "0  0  0  0  0  0  0  0  0  0  0  0  0  0  0  0  0  0  0  0  0  0  0  0  0  0  0  0  0  0  0  0  0  0  0  0  0  0  0  0  0  0  0  0  0  0  0  0  0  0  0  0  0  0  0  0  0  0  0  0  0  \n",
      "0  0  0  0  2  0  2  0  0  0  0  0  0  0  0  0  0  0  0  0  0  0  0  0  2  5  0  0  0  0  0  0  0  0  0  2  0  0  0  0  0  0  0  2  0  0  0  0  0  2  0  0  0  0  2  0  0  0  0  0  0  \n",
      "0  0  0  2  0  1  0  1  0  2  0  0  0  0  0  0  0  2  0  0  0  0  0  8  0  1  3  0  0  0  0  2  0  0  0  0  1  0  0  0  0  8  0  0  0  0  0  0  0  0  4  0  0  0  0  1  0  0  0  0  0  \n",
      "0  0  0  2  2  0  1  0  0  2  2  0  0  0  0  0  0  2  1  0  0  0  0  8  8  0  0  3  0  0  0  2  0  0  0  0  0  0  0  0  0  8  4  0  0  0  0  0  0  0  2  3  0  0  0  0  0  0  0  0  0  \n",
      "0  0  2  0  1  2  0  0  0  0  4  0  0  0  0  0  0  0  0  1  0  0  0  2  7  7  0  2  4  0  0  6  0  0  0  0  0  0  0  0  0  2  4  3  0  0  0  2  0  0  0  0  0  0  0  1  0  0  0  0  0  \n",
      "0  0  0  0  \u001b[31m0\u001b[0m  0  1  0  0  0  0  2  0  0  0  0  0  0  0  0  0  0  0  0  1  6  3  0  0  2  0  0  4  0  0  0  0  0  0  0  13  5  0  3  0  0  0  0  1  0  0  0  13  5  0  0  0  0  0  0  0  \n",
      "0  0  1  1  0  \u001b[31m10\u001b[0m  2  0  0  1  1  0  0  0  0  0  0  1  0  0  0  0  0  0  0  0  6  4  0  0  0  0  0  2  10  2  0  0  0  0  5  12  4  0  3  0  0  1  0  0  1  0  5  9  4  0  0  0  0  0  2  \n",
      "0  0  0  2  6  2  \u001b[31m15\u001b[0m  7  0  1  1  0  0  0  0  0  0  1  1  0  0  0  0  0  5  2  0  6  4  0  0  0  0  1  2  15  7  1  0  0  0  5  9  9  1  0  0  0  0  5  1  1  0  3  14  6  0  0  0  0  0  \n",
      "0  0  0  0  2  4  7  \u001b[31m23\u001b[0m  15  7  0  0  8  8  0  0  0  0  9  1  0  0  0  0  0  3  0  0  4  0  0  0  0  0  0  7  23  15  7  0  0  0  1  9  6  0  0  0  0  0  5  9  1  0  6  12  4  0  8  0  0  \n",
      "0  1  0  0  0  0  2  15  \u001b[31m28\u001b[0m  20  12  4  0  4  13  5  5  0  1  6  0  1  0  0  0  0  0  0  0  8  5  0  1  0  0  0  15  23  15  7  0  0  4  1  6  10  2  0  5  0  0  1  8  6  0  4  16  8  0  5  0  \n",
      "0  0  1  7  1  1  1  7  20  \u001b[31m35\u001b[0m  27  19  11  3  5  9  2  12  4  0  4  0  0  2  1  0  0  0  0  0  5  5  0  0  1  1  7  15  22  14  6  2  0  5  0  3  6  2  0  6  7  0  0  5  7  0  8  12  8  0  3  \n",
      "0  0  7  1  7  2  1  0  12  27  \u001b[31m42\u001b[0m  34  26  18  10  2  6  4  10  5  0  2  0  0  2  0  1  7  2  0  0  7  3  0  1  1  0  7  16  21  13  6  0  0  6  0  1  13  5  0  6  5  0  0  5  9  1  6  10  9  1  \n",
      "0  3  0  3  0  4  0  0  4  19  34  \u001b[31m47\u001b[0m  39  31  23  15  7  2  2  7  1  5  0  0  0  1  0  0  4  4  1  0  12  4  0  0  0  0  8  13  19  11  8  0  0  8  5  5  14  6  0  2  3  1  0  2  11  6  2  7  8  \n",
      "0  0  1  0  3  0  4  8  0  11  26  39  \u001b[31m55\u001b[0m  47  39  31  23  15  10  2  5  0  3  0  0  0  0  0  0  0  0  0  4  12  4  0  8  0  0  6  11  18  10  8  0  0  4  3  6  14  6  8  0  0  1  0  3  7  14  6  4  \n",
      "0  0  0  1  0  1  0  12  4  3  18  31  47  \u001b[31m63\u001b[0m  55  47  39  31  23  15  7  1  0  2  0  0  0  0  0  0  0  0  0  4  10  4  8  8  0  0  3  10  14  10  5  0  0  2  0  6  14  14  6  0  0  0  0  0  15  11  3  \n",
      "0  1  0  0  0  0  0  4  17  9  10  23  39  55  \u001b[31m68\u001b[0m  60  52  44  36  28  20  12  4  0  0  0  0  0  0  4  5  0  1  0  2  8  0  8  5  0  0  2  14  12  7  9  1  0  7  0  6  10  13  11  3  0  4  1  7  12  10  \n",
      "0  0  0  0  0  0  0  0  9  13  5  15  31  47  60  \u001b[31m76\u001b[0m  68  60  52  44  36  28  20  12  4  0  0  0  0  0  3  2  1  0  0  0  4  0  5  1  0  0  6  11  9  7  10  2  0  4  0  2  8  12  8  0  0  5  0  4  16  \n",
      "0  1  0  0  0  0  0  0  5  6  10  7  23  39  52  68  \u001b[31m81\u001b[0m  73  65  57  49  41  33  25  17  9  1  0  0  4  5  0  3  1  0  0  0  4  0  2  0  0  4  4  8  13  8  7  7  0  1  0  1  13  10  5  4  1  1  0  8  \n",
      "0  0  0  0  0  0  0  8  0  5  4  6  15  31  44  60  73  \u001b[31m81\u001b[0m  81  73  65  57  49  41  33  25  17  9  1  0  0  2  0  3  0  0  8  0  1  0  0  0  0  4  1  5  9  6  3  7  0  9  1  5  13  8  1  0  9  1  0  \n",
      "0  0  0  0  0  0  0  8  4  0  3  0  14  23  36  52  65  73  \u001b[31m89\u001b[0m  81  73  65  57  49  41  33  25  17  9  1  0  0  0  0  1  0  8  8  0  0  0  0  0  0  1  0  1  7  2  3  7  8  6  0  5  11  4  0  8  6  0  \n",
      "0  0  1  0  0  0  0  0  5  3  1  0  6  15  28  44  57  65  81  \u001b[31m96\u001b[0m  88  80  72  64  56  48  40  32  24  16  8  0  0  0  0  0  0  6  15  7  0  0  0  0  7  0  0  2  4  1  2  4  4  3  0  8  7  1  0  15  7  \n",
      "0  0  0  0  0  0  0  0  0  3  2  0  0  7  20  36  49  57  73  88  \u001b[31m106\u001b[0m  98  90  82  74  66  58  50  42  34  26  18  10  2  0  0  0  0  7  25  17  9  1  0  0  4  0  0  0  3  0  0  0  1  2  0  5  3  0  7  12  \n",
      "0  3  0  0  0  0  0  0  1  0  1  7  0  0  12  28  41  49  65  80  98  \u001b[31m111\u001b[0m  103  95  87  79  71  63  55  47  39  31  23  15  7  0  0  0  0  17  23  15  11  3  0  2  9  1  1  0  0  0  0  1  0  0  2  10  2  0  6  \n",
      "0  0  2  0  0  0  0  0  0  0  0  0  5  0  4  20  33  41  57  72  90  103  \u001b[31m121\u001b[0m  113  105  97  89  81  73  65  57  49  41  33  25  17  9  1  0  10  15  22  14  10  2  0  1  8  0  0  0  0  0  0  0  0  0  2  8  0  0  \n",
      "0  0  0  4  0  0  0  0  0  2  0  0  0  4  0  12  25  35  49  64  82  95  113  \u001b[31m129\u001b[0m  121  113  105  97  89  81  73  65  57  49  41  33  25  17  9  2  7  23  18  14  8  0  0  1  4  0  2  0  0  0  0  0  0  0  1  6  0  \n",
      "0  0  0  1  9  1  5  0  0  1  2  0  0  0  2  4  17  27  41  56  74  87  105  121  \u001b[31m134\u001b[0m  126  118  110  102  94  86  78  70  62  54  46  38  30  22  14  6  15  20  23  15  7  0  0  0  9  1  2  0  0  5  0  0  0  0  0  4  \n",
      "0  0  0  0  3  7  3  3  0  0  0  1  0  0  0  0  9  19  33  48  66  79  97  113  126  \u001b[31m139\u001b[0m  131  123  115  107  99  91  83  75  67  59  51  43  35  27  19  11  14  22  22  14  6  0  0  2  9  1  1  0  2  4  0  0  0  0  0  \n",
      "0  0  1  0  0  3  6  0  0  0  1  0  0  0  0  0  1  11  25  40  58  71  89  105  118  131  \u001b[31m146\u001b[0m  138  130  122  114  106  98  90  82  74  66  58  50  42  34  26  18  14  29  21  13  7  0  0  1  6  0  0  0  5  0  0  0  7  0  \n",
      "0  0  7  1  0  1  3  4  0  0  7  0  0  0  0  0  0  3  17  32  50  63  81  97  110  123  138  \u001b[31m153\u001b[0m  145  137  129  121  113  105  97  89  81  73  65  57  49  41  33  25  21  26  19  20  12  4  0  0  3  0  0  2  2  0  0  1  6  \n",
      "0  0  2  7  1  0  1  1  1  0  2  4  0  0  0  0  0  0  9  24  42  55  73  89  102  115  130  145  \u001b[31m159\u001b[0m  151  143  135  127  119  111  103  95  87  79  71  63  55  47  39  31  23  23  21  17  12  4  0  0  0  0  6  0  0  0  3  0  \n",
      "0  2  0  0  4  0  0  0  5  0  0  4  0  0  4  0  4  0  1  16  34  47  65  81  94  107  122  137  151  \u001b[31m164\u001b[0m  156  148  140  132  124  116  108  100  92  84  76  68  60  52  44  36  28  20  25  17  9  1  0  4  0  0  11  3  0  0  2  \n",
      "0  1  0  0  0  0  0  0  5  2  0  1  0  0  5  3  5  1  0  8  26  39  57  73  86  99  114  129  143  156  \u001b[31m169\u001b[0m  161  153  145  137  129  121  113  105  97  89  81  73  65  57  49  41  33  25  23  15  7  0  5  2  0  4  12  4  0  0  \n",
      "0  0  3  0  0  0  0  0  0  5  4  0  0  0  0  2  0  5  0  0  18  31  49  65  78  91  106  121  135  148  161  \u001b[31m175\u001b[0m  167  159  151  143  135  127  119  111  103  95  87  79  71  63  55  47  39  31  23  15  7  0  4  3  0  4  9  4  0  \n",
      "0  3  0  0  0  0  0  0  1  0  3  9  1  0  1  1  3  0  1  0  10  23  41  57  70  83  98  113  127  140  153  167  \u001b[31m180\u001b[0m  172  164  156  148  140  132  124  116  108  100  92  84  76  68  60  52  44  36  28  20  12  4  1  5  5  1  6  3  \n",
      "0  0  2  0  1  0  1  0  0  0  0  1  9  1  0  0  1  2  0  0  2  15  33  49  62  75  90  105  119  132  145  159  172  \u001b[31m185\u001b[0m  177  169  161  153  145  137  129  121  113  105  97  89  81  73  65  57  49  41  33  25  17  9  1  3  5  0  4  \n",
      "0  0  1  3  0  11  3  0  0  1  1  0  1  7  0  0  0  2  0  0  0  7  25  41  54  67  82  97  111  124  137  151  164  177  \u001b[31m195\u001b[0m  187  179  171  163  155  147  139  131  123  115  107  99  91  83  75  67  59  51  43  35  27  19  11  3  5  2  \n",
      "0  0  0  2  8  3  16  8  0  1  1  0  0  1  5  0  0  1  2  0  0  0  17  33  46  59  74  89  103  116  129  143  156  169  187  \u001b[31m200\u001b[0m  192  184  176  168  160  152  144  136  128  120  112  104  96  88  80  72  64  56  48  40  32  24  16  8  3  \n",
      "0  0  0  0  2  6  8  24  16  8  0  0  8  8  0  1  0  0  9  1  0  0  9  25  38  51  66  81  95  108  121  135  148  161  179  192  \u001b[31m208\u001b[0m  200  192  184  176  168  160  152  144  136  128  120  112  104  96  88  80  72  64  56  48  40  32  24  16  \n",
      "0  0  0  0  1  0  7  16  24  16  8  0  0  8  8  0  1  0  1  7  0  0  1  17  30  43  58  73  87  100  113  127  140  153  171  184  200  \u001b[31m213\u001b[0m  205  197  189  181  173  165  157  149  141  133  125  117  109  101  93  85  77  69  61  53  45  37  29  \n",
      "0  0  1  0  0  1  0  8  16  23  17  9  1  0  5  5  0  0  0  8  4  0  0  9  22  35  50  65  79  92  105  119  132  145  163  176  192  205  \u001b[31m220\u001b[0m  212  204  196  188  180  172  164  156  148  140  132  124  116  108  100  92  84  76  68  60  52  44  \n",
      "0  0  0  0  0  0  0  0  8  15  22  14  7  0  0  1  2  0  0  0  18  10  10  2  14  27  42  57  71  84  97  111  124  137  155  168  184  197  212  \u001b[31m230\u001b[0m  222  214  206  198  190  182  174  166  158  150  142  134  126  118  110  102  94  86  78  70  62  \n",
      "0  0  0  0  0  0  0  0  0  7  14  20  12  4  0  0  0  0  0  0  10  16  8  6  6  19  34  49  63  76  89  103  116  129  147  160  176  189  204  222  \u001b[31m243\u001b[0m  235  227  219  211  203  195  187  179  171  163  155  147  139  131  123  115  107  99  91  83  \n",
      "0  0  0  2  0  0  0  0  0  2  7  12  19  11  3  0  0  2  0  0  2  8  15  16  8  11  26  41  55  68  81  95  108  121  139  152  168  181  196  214  235  \u001b[31m251\u001b[0m  243  235  227  219  211  203  195  187  179  171  163  155  147  139  131  123  115  107  99  \n",
      "0  2  0  0  0  0  0  0  4  0  0  9  11  15  15  7  4  0  0  0  0  4  7  11  13  7  18  33  47  60  73  87  100  113  131  144  160  173  188  206  227  243  \u001b[31m256\u001b[0m  248  240  232  224  216  208  200  192  184  176  168  160  152  144  136  128  120  112  \n",
      "0  0  2  1  5  0  5  0  0  5  0  1  9  11  13  12  5  5  0  0  0  0  3  7  16  15  10  25  39  52  65  79  92  105  123  136  152  165  180  198  219  235  248  \u001b[31m261\u001b[0m  253  245  237  229  221  213  205  197  189  181  173  165  157  149  141  133  125  \n",
      "0  0  1  1  0  5  0  2  0  0  6  0  1  6  8  10  9  4  2  7  0  0  0  1  8  15  22  17  31  44  57  71  84  97  115  128  144  157  172  190  211  227  240  253  \u001b[31m268\u001b[0m  260  252  244  236  228  220  212  204  196  188  180  172  164  156  148  140  \n",
      "0  2  0  0  0  0  2  0  6  0  0  8  0  0  10  8  14  6  0  0  4  2  0  0  0  7  14  19  23  36  49  63  76  89  107  120  136  149  164  182  203  219  232  245  260  \u001b[31m273\u001b[0m  265  257  249  241  233  225  217  209  201  193  185  177  169  161  153  \n"
     ]
    }
   ],
   "source": [
    "smith_waterman(\n",
    "    \"MQNSHSGVNQLGGVFVNGRPLPDSTRQKIVELAHSGARPCDISRILQVSNGCVSKILGRY\",\n",
    "    \"TDDECHSGVNQLGGVFVGGRPLPDSTRQKIVELAHSGARPCDISRI\"\n",
    ")"
   ]
  },
  {
   "cell_type": "code",
   "execution_count": 11,
   "metadata": {},
   "outputs": [],
   "source": [
    "class State:\n",
    "    \n",
    "    def __init__(self, emission_probabilities):\n",
    "        self.emission_probabilities = emission_probabilities\n",
    "        \n",
    "    def set_change_probabilities(self, state_change_dict):\n",
    "        self.state_change_dict = state_change_dict"
   ]
  },
  {
   "cell_type": "markdown",
   "metadata": {},
   "source": [
    "## Question 3"
   ]
  },
  {
   "cell_type": "code",
   "execution_count": 12,
   "metadata": {},
   "outputs": [],
   "source": [
    "#encode the information about the automaton\n",
    "AT_rich = State({'A' : 0.2698, 'T' : 0.3237, 'C' : 0.2080, 'G' : 0.1985})\n",
    "AT_rich.set_change_probabilities({\n",
    "    #stay in the same state\n",
    "    \"loop\" : 0.9998,\n",
    "    \"CG_rich\" : 0.0002\n",
    "})\n",
    "\n",
    "CG_rich = State({'A' : 0.2459, 'T' : 0.2079, 'C' : 0.2478, 'G' : 0.2984})\n",
    "CG_rich.set_change_probabilities({\n",
    "    #stay in the same state\n",
    "    \"loop\" : 0.9997,\n",
    "    \"AT_rich\" : 0.0003\n",
    "})"
   ]
  },
  {
   "cell_type": "code",
   "execution_count": 13,
   "metadata": {},
   "outputs": [
    {
     "data": {
      "text/plain": [
       "{'emission_probabilities': {'A': 0.2698, 'T': 0.3237, 'C': 0.208, 'G': 0.1985},\n",
       " 'state_change_dict': {'loop': 0.9998, 'CG_rich': 0.0002}}"
      ]
     },
     "execution_count": 13,
     "metadata": {},
     "output_type": "execute_result"
    }
   ],
   "source": [
    "AT_rich.__dict__"
   ]
  },
  {
   "cell_type": "code",
   "execution_count": 14,
   "metadata": {},
   "outputs": [
    {
     "data": {
      "text/plain": [
       "{'emission_probabilities': {'A': 0.2459,\n",
       "  'T': 0.2079,\n",
       "  'C': 0.2478,\n",
       "  'G': 0.2984},\n",
       " 'state_change_dict': {'loop': 0.9997, 'AT_rich': 0.0003}}"
      ]
     },
     "execution_count": 14,
     "metadata": {},
     "output_type": "execute_result"
    }
   ],
   "source": [
    "CG_rich.__dict__"
   ]
  },
  {
   "cell_type": "code",
   "execution_count": null,
   "metadata": {},
   "outputs": [],
   "source": [
    "#run the HMM and generate a sequence up to the specified length, \n",
    "#returning a list of string and state pair tuples\n",
    "def generate_HMM_sequence(length):\n",
    "    \n",
    "    \n",
    "    "
   ]
  },
  {
   "cell_type": "code",
   "execution_count": 27,
   "metadata": {},
   "outputs": [],
   "source": [
    "import os"
   ]
  },
  {
   "cell_type": "code",
   "execution_count": 30,
   "metadata": {},
   "outputs": [
    {
     "data": {
      "text/plain": [
       "['3CYASRFB114-Alignment.txt',\n",
       " 'weeks 3-5.ipynb',\n",
       " '.ipynb_checkpoints',\n",
       " 'O96791.fasta',\n",
       " 'P63015.fasta',\n",
       " 'blosum50.txt',\n",
       " 'phaseLambda.fasta']"
      ]
     },
     "execution_count": 30,
     "metadata": {},
     "output_type": "execute_result"
    }
   ],
   "source": [
    "os.listdir()"
   ]
  },
  {
   "cell_type": "code",
   "execution_count": 22,
   "metadata": {},
   "outputs": [],
   "source": [
    "nuc_bases = ['A', 'T', 'C', 'G']"
   ]
  },
  {
   "cell_type": "code",
   "execution_count": 34,
   "metadata": {},
   "outputs": [],
   "source": [
    "string = open(\"phaseLambda.fasta\", 'r').read().replace('\\n', '')"
   ]
  },
  {
   "cell_type": "code",
   "execution_count": 36,
   "metadata": {},
   "outputs": [
    {
     "data": {
      "text/plain": [
       "48502"
      ]
     },
     "execution_count": 36,
     "metadata": {},
     "output_type": "execute_result"
    }
   ],
   "source": [
    "#the length of the phase lambda is 48502 so this is how large\n",
    "#the HMM generated sequence will be\n",
    "len(string)"
   ]
  },
  {
   "cell_type": "markdown",
   "metadata": {},
   "source": [
    "I found the most elegant way to model the HMM was using mutual recursion, where the 2 functions calling one another represents a change in state, and when n_remaining reaches 0 then the recursive stack that has been built up is returned (which will ultimately be a list of tuples of the string sections generated by each state, paired with a string stating the state that generated the section)"
   ]
  },
  {
   "cell_type": "code",
   "execution_count": 99,
   "metadata": {},
   "outputs": [],
   "source": [
    "def run_HMM():\n",
    "        \n",
    "    #start in either state with equal chance\n",
    "    if np.random.choice([True, False], p = [0.5,0.5]):\n",
    "        return generate_ATrich_region(48502, [])\n",
    "    else:\n",
    "        return generate_CGrich_region(48502, [])"
   ]
  },
  {
   "cell_type": "code",
   "execution_count": 97,
   "metadata": {},
   "outputs": [],
   "source": [
    "def generate_ATrich_region(n_remaining, accumulator):\n",
    "    \n",
    "    print(\"entered AT state, accumulator length:\", len(accumulator))\n",
    "    \n",
    "    #emission probabilities for each of the nucleotide bases respectively\n",
    "    #when in this state\n",
    "    emission_probs = [0.2698, 0.3237, 0.2080, 0.1985]\n",
    "    \n",
    "    #a continuous section that will be built up whilst in this state\n",
    "    section_str = \"\"\n",
    "    \n",
    "    #loop until we change into the other state by chance \n",
    "    while True:\n",
    "        \n",
    "        #whole recursive call finished and can be returned\n",
    "        if n_remaining == 0:\n",
    "            accumulator.append((section_str, \"AT_rich\"))\n",
    "            return accumulator\n",
    "        \n",
    "        section_str += np.random.choice(nuc_bases, p = emission_probs)\n",
    "        n_remaining -= 1\n",
    "        \n",
    "        #on each iteration we may by chance finish in this state\n",
    "        #and go into the other state\n",
    "        if np.random.choice([True, False], p = [0.0002, 0.9998]):\n",
    "            break\n",
    "    \n",
    "    print(\"finished in AT state, string length:\",len(section_str))\n",
    "    accumulator.append((section_str, \"AT_rich\"))\n",
    "    return generate_CGrich_region(n_remaining, accumulator)"
   ]
  },
  {
   "cell_type": "code",
   "execution_count": 98,
   "metadata": {},
   "outputs": [],
   "source": [
    "def generate_CGrich_region(n_remaining, accumulator):\n",
    "    \n",
    "    print(\"entered CG state, accumulator length:\", len(accumulator))\n",
    "    \n",
    "    #emission probabilities for each of the nucleotide bases respectively\n",
    "    #when in this state\n",
    "    emission_probs = [0.2459, 0.2079, 0.2478, 0.2984]\n",
    "    \n",
    "    #a continuous section that will be built up whilst in this state\n",
    "    section_str = \"\"\n",
    "    \n",
    "    #loop until we change into the other state by chance\n",
    "    while True:\n",
    "        \n",
    "        #whole recursive call finished and can be returned\n",
    "        if n_remaining == 0:\n",
    "            accumulator.append((section_str, \"CG_rich\"))\n",
    "            return accumulator\n",
    "    \n",
    "        section_str += np.random.choice(nuc_bases, p = emission_probs)\n",
    "        n_remaining -= 1\n",
    "        \n",
    "        #on each iteration we may by chance finish in this state\n",
    "        #and go into the other state\n",
    "        if np.random.choice([True, False], p = [0.0002, 0.9998]):\n",
    "            break\n",
    "    \n",
    "    print(\"finished in CG state, string length:\",len(section_str))\n",
    "    accumulator.append((section_str, \"CG_rich\"))\n",
    "    return generate_ATrich_region(n_remaining, accumulator)        "
   ]
  },
  {
   "cell_type": "code",
   "execution_count": 100,
   "metadata": {},
   "outputs": [
    {
     "name": "stdout",
     "output_type": "stream",
     "text": [
      "entered CG state, accumulator length: 0\n",
      "finished in CG state, string length: 3623\n",
      "entered AT state, accumulator length: 1\n",
      "finished in AT state, string length: 14720\n",
      "entered CG state, accumulator length: 2\n",
      "finished in CG state, string length: 6599\n",
      "entered AT state, accumulator length: 3\n",
      "finished in AT state, string length: 4949\n",
      "entered CG state, accumulator length: 4\n",
      "finished in CG state, string length: 444\n",
      "entered AT state, accumulator length: 5\n",
      "finished in AT state, string length: 2630\n",
      "entered CG state, accumulator length: 6\n",
      "finished in CG state, string length: 1568\n",
      "entered AT state, accumulator length: 7\n",
      "finished in AT state, string length: 691\n",
      "entered CG state, accumulator length: 8\n",
      "finished in CG state, string length: 2661\n",
      "entered AT state, accumulator length: 9\n",
      "finished in AT state, string length: 995\n",
      "entered CG state, accumulator length: 10\n",
      "finished in CG state, string length: 14\n",
      "entered AT state, accumulator length: 11\n",
      "finished in AT state, string length: 736\n",
      "entered CG state, accumulator length: 12\n",
      "finished in CG state, string length: 2172\n",
      "entered AT state, accumulator length: 13\n",
      "finished in AT state, string length: 4262\n",
      "entered CG state, accumulator length: 14\n",
      "finished in CG state, string length: 1177\n",
      "entered AT state, accumulator length: 15\n"
     ]
    }
   ],
   "source": [
    "result = run_HMM()"
   ]
  },
  {
   "cell_type": "code",
   "execution_count": 101,
   "metadata": {},
   "outputs": [
    {
     "data": {
      "text/plain": [
       "[('TTATTGGGGGTTATGCCCAGAGGAGCGGCCCCGGAATTCGGGATGGGCGGAAAAACGGCAGGGAACGTTATCTTGTTAGGGCAATAGGTTCTGCTCTCTCTGAGCCGGGCTTTCTTCAGTTGAGTCGCCCTAACCCTACCTGGCACGAGAAAGTATGTCCAGGGGGACTCCAAATAGGATGGACGAGGAATCTATGAGCTCACCACAGCCGAGCTTCATTGGCCCGGGACGACCAGGAGCTCTTAGCCGTCGGAATTGGCCCCACTCTAGGATGCGGACTCACCGTCCCCCACGGTATGGCCAACTGCTGACTTTTTTTCGTCTATGTGGAGATTGTTGCACACGCTCGAGCTCCCAAGGGCCTTGGTGACAGTCTAAGACGGCTAAGGTAAGCTAGGCCGATGGCGAATCCATGAATCGAATGTTCATACCGACAACGGGTAAGACTAACAAGCACCGAGGGCAACGCCACCGGCGTCGGATCAGGACCGGCCTATCTTGTCCCGAGCGAAAGTAGTGACCGTCCAGGCCCCAGGAAAGCCTCGCACAGAGATATAACCTGTATGGACCGTAAGCACAGAGTTTGCGGTGCTTGACCTATGGCGGGCTCGGGAAAGACGCTGGCAATCGCGGCTGGTGCACAGCTTGCCGTGCCGGATATGCGGCAGCCAGTAAGTGCGAGATATAGTCGACGATTAAAAGGAGGCGCCAACGAGTCCATCTATGAAATTAAGCTATGCAATCAATGCAGTGCCGAGCGGACGCCTGTTCTTCTCCGCTTATCGCCGCCCTAAGGCCAAGGGCATGCAGCAGTTCATAGGCAACATGGCGGTCTATAGAAGGTAATCCACCGGGGAGGTTGGCTGATACGACATGAAAAGCCGGGCCTCTCGTAGGCCAGGCGGAACACCAGCACACTTACCGACATGTCTGGCGGGGAGCACCACTAGTTAAGCCTAGGTCGCGGAGATGACCGATACCGATCAGTGCCGAGCTGGGCGCAGTCGCGGTCCTAGAGTCGGGGGATTTTTCGACTTCGGATTAGTTAGGGTTGCCCAAGGCGGCCGTCCTGTCCGCGAGAGCTCTGCGTTCTCACTCATGACTGCTACATTATCGCGGGCCGTAGGTTAGTACCTCGACTATATACGCGGCTAGGACTAAGTTCAGCCCCAACGATAGAGGGCTGAGAACCGACACAATTTTTTACCAAACAGTTGGAGTATGATATCAGCACATGAGGGGGAACTGTGTGGCAGAAGTTTTTCCCTTAGAAAACAAGCTGCGCCCGCAACTATTGGCTAGAAGAAGAGTCGAAACCCCCGACGAGTAATTAGGTAACGAAGTGCCCCCCTCAGACAAGGGTAACGTCGCTAAGTGCGTGTGCCGGGCCGAGAATGAATGACCATACAGTTGGTGTTCCTCCCGGCTGTGCCTTTATAACCAGAGAAGGGGGCTACCCTCAGTAGAGGGATTACTTGGTAAGCCGCTAACGGGATAATCAGCGTTACGCCTCGACAGGTGTGACGGCCCATTTACACTGCCTCTTGATTGCTGGTAGCTCACCCCCATTGTATGTAGGCCCCGATATCGGTCGGTTGAGATCCTAGTCTCTCATGGCAGCGACCGCCAGACCCGTCTAAAGCAAACTTCCTAAAGAAGCAACGGCTGCACCACAGGGTATTACCTAGGTTCGTATTGCTCATAAACCTCCGATACCCCCACCGCTAGTAGCTGCGCGCGAAAAGCTTCAAGCCCCGACTGGAGTTCACGCCATATAATACGTGTAACTCATGTTTCTACCTAGTGAGATAACCCTCGACGCCGAGCCGCACCGTGCCTACATTAGTGTATAACAATCGATTAGTTAGAAAGTCAACCTAAGTCTACACCGGGATCCGGGGGCCTGGGACGATTACACGCGGAACAACACGGAGCTTGGGAATAGGAAGTGTGGACATAGAAGGCTGAGAAGAGCCTAACGCCTGCATCGACAACGGGTGTCAATAACGTTACGGGGAGCCTGAGTTCTGTCGAGGAAGTAGGGGGACCCGGATCTGGTACATCGGTCAGTGCTCCTAAGGCGGAATATTCCACCGGGGCACGCGGTTGAGCCTAACGTGAATGAGACCTGGCTCCCGCCCTGTGGTGTCGTAAACTTCCTTTCTCCGGTAGGTTCGCGTGAGCAGTTCTCAGCGTCCCGAGGCCAATCTTTTGCTGCAGGATCTGTCAATTCCACACAGACGGCGTGCAGTGAGACACTAACCCGAGACTGCACTGGTTCACCAGAGAAGTATACGAGCCTTATGTTAAGCGAAGGCAGACACACCGAGGTTGGGTGGACTTCGCCGGAAAATTAGGATGTACAAGTTCATGAGGGTACAATTTACTCGGCATCGACTAACGCATCCCGTGACCCGGAAAACAATTTGTACCCGTTGATAACCTCCGGGGATCCGGAGAACAAAGTAGCGGGCGTAACTCAGTCACACAATTAGCCTCGTAATCGTTTCGGCAGACAATGTACGGACGCCGAAATGGTGATGCCGCGGCAACCCACACTAAAGGGCGGGGAGAGCGTGGGTCGGTTGAGGGGCTCTGAAGTAGACACTCGCCGGCATTCTAAGAGTCTACCGGGTAAAGGGGTATGGGGATGTGCCCAGCGTAACAGAGATGTCTGGGTAAAGGTCCAATCCGCGTGAATCGACGTGGCGTACGACCCTCGTCGACCTTTTGTCGTAAGGACCTAGAAAACCGTACCATACACGACCGCAGTGGGGAAATAGTTTGGGATAATATGCTTTCGGGACGTAGCAGCGGATATAGGTGCATACGTTGTTATCCTAACAAAGATGTATTAAGGGTTGAGTCAAAGGCCGTGTGTACGGGCCCGACACTTGCAAAATACTTCCAGACCGGATAGTCAGCGCGGAAGGGGATCCCGGTTCATGTTCCTTTAGAGGTATTAAGGGCAAGCTTCCGAGCGCTATAAAAATCATGGGGGTGGTCTGAGAAGCCGCCCGGCTCGGTTCGCAGCGAGGAGCCGTCGGTCCTTCGACCAAACAAATTTCCCGACCGAGTTCCATGCCCCAGTGTAAACTAGGTTGTTACCCTCCACATGAGACTCGAGAGCGAAGCGGATTAGGGCCGTGCGGGACGCCCCCAGTCTAGGCACATTGGAGTCTCAACGATCTCTCTCTGATGAAGGAGACACACGAGGAGTATAGGATGCATTACTACAGCTCAAGCGGTGCGAGAACCCCCAAGTCGATCTAACGACGCAGAATTCGGCCCAGGATGGACGGGACGGATCTGTATTCGTATATCTTAGGTAAATTCCCTCCGCTCTTCGTTATACCTCGTGACGGAGGGACTATTACCGCTCAATGCACCTGGCTGACCCGGGAAGTACCATATACAGCGTATGAGGACGTGGGGTGTGGATTGCCACTCAGATGGGTACTGGGAGGATAAGACCAGCGTGGTTACAGCAGACTGGGGACAGTCGTGTTCAAGTTTTTCGGCGTCACTTTTTCCCGTAACGCGGCTTCACGTTGGGTAGAGCAGCGGAAAATGACTCGATGCAGAGGCCGAGCCCTTAAAGTCTCTTGACGCTAGACTCTACA',\n",
       "  'CG_rich'),\n",
       " ('TGACTTATAGGCTATATCGTTCGCTGAAGGCGATAAGCGCTCTTTTTGTGGAAAATGTGACATTCAGTGACTACCCTCCCCTTCACTAAAGACGGCTTTCAGGCGTATTATACGAGAAGATTACTTAACGCCTGCTTTTGGTTCCAGCTTATGCTTCATTACAGACCCTTTTTCTGGTTATACGATAGCGCCGATATAACGGTGTGGTAAGTCAAAGAATTCCCTGGTTTACTGCCCGGATACGCCCTTAAACGCTGTTAGGGCAACGCGTGCGTTCGACATCTAATCTTTCTATATGCATTTTCTAGTTAACCTCGATTCACAGCCACAGAACTAGTTTAGTTCGACCGGCCTTTTTTCCTTCAACGGCGAACATTACTCGCGACCTATTCAACAAGGTGATGTTCGCCACACCCACAGACCAACCTTTGTAATATATTTTGGTCTAGAAGGAGTTTTGCCGGTAGGCACTTACGGGAAGCAATCAACACGTCACCGAGCTGCAGTTGACAGGTAGAAGATATTAATTTATTTCATGACAACCATGACAAGATTTTATTATTGATATTTTAGACCCTGTTTCCATCTGTGAATTCTTACGTTAAATTAACTCGGAATAGGATCTTGTGAGACTTTCTAATCTTGCGTTTAATTTCCCTGTGTAGGCTTTTTCACCGCCAAGCACAGAACGTAATAAATTAATGTATTTTCCTTAGGATTTTAATGCTTGCCATACGTTCTTGACATTACCTATCGCATTTTAGGTCCAGTTTGTAAAACATTCTAATATTCGTGGTACCCTTGCGGGTAGCACTAGTACAAACTGAATGGCTCCTTTTTTGCGTCGTGACTTATGTTCGTTATGACCCCTTTGGCCCGCACCTACGGTTAAACTTGGAAAATGATATAACTTTACTCTGACCTGTAAGCCGCGCATCGCGTATTGGTTGAAAGATTATATTGACTCTCAACCACGATGTCGGACATGGTATGTCGAAGTTGCTTTGTGACCAATCATAAATTAATTTAAACAAGCAGATTAGACATTCTAGAATCAAGACCTAAACGACTCCTTCACAAGTATATCCAATCACCATGCAGTCTGTGAGATTTCTAACAATTTCGTATTCGCATGTTCTACGTTTCTCCTATGGTATCTGAAGAAATATTTACATTAGGTGTGAGGCTTAGTCAATACGATTACAGATTCCCTATACTCTGTTGGTACAAAAACTATAATACCCTTTATTTAAGAACGCTTCATGTGGATTGGGGTCTGTGGCCGGTTGTTCATACATAATTGGATCATTTTTCCCACCTGAACAGGATGAGGTTGTAAAGAATCGTTTTAATACCCTTAGCATTGTCTCAAGTTCACTTCAGTCAAGCTCTAAATTTGAATTTATGCTTCATGTGTCAACTTATATCATAATTGCGCGTTGATAGAACATGACTGACTGAGTATACAAATCCAATACAATAAGAACTTAGTTATAATCATACAAGAGGGGAGTTTAGCCAATCTCTACACTAAACGGAGCATGTGCTACTCACTGTTCCTCACACGACAATTAATTTAGAGTTCTAAGAGTGCCTGTGAAATCACGGTTATGTTCGAACGATGCACATAGACTAATTGGTTTTCGGTCGCAATTTTCTACTTAGATATCTGTGTCGTTAATCACGGACGTTGAACAGCCCAAATTAAAAAAATTAAGCTTTATTTTACCCGCAATTCTTGACGTATCGAGAATTCCTGTTAACCTACACTTGCGTAGCTATTTAGGTATAACAGGTTTTAAATCGGCCTCTCACCTCAATACCATAAGGTATCAACACGCTGGTTAACTATAAGATACCCTTTTTTTTCATATTTATTTGATCTAACGTATGGCACGCGACTTTTACAGTCTAACGACTACCTAGTTTATTAATAGTCCTTTATTTCTACGGAATTTACTAAACTATCTTTCTTTTGGTGCTTTGAGTTCGAAACGAGTTATGAATGCAGCTTAGCCAAAACGTAATTGATTTCTCGGACATGGGGCCCAAGGGCCTGCTCAGCTTGAATATAAAAGTAGCAGGAGTTACAGTTGAAAAATTACGCATATTTAATAGGGTCATCTTAGCGTATTCAATTAAAACTATGCTAATTTTATGGTGATTGATTTGAACCAATGAGTGTTATGTAGTTGTTTTGCATGAAAACCCTAAGCGCCGATAATGCATCCTAGTAAATATATCCGTGTCTAGATCCACTATTTTTAACTGTGAGCGATTACCCTGTAATTTATTAAGATAACCGATATACTCTTTCAAATCATTCTCACTCATTAACTAATTACCCAGGGTGATCATTTCTAGTGTTTGATCTTCGTACAACGGTTTGGTTCCAGCTTCGGTAGTACTTAGATGCCGAAGGGTAGTCTTTTAAAGTGTTTCTATGTTGAGTTTGGCAGTTTGGAATTTAATCCGATTTACGCTTAGTGCGGACAAGTTTATCCTGAAGCCGTCACCAAGTAGTCGTTTTACTCTAGATGTATGATCTCCGATGGTCAGTGTCTTTACCTTTATGAATTAAAACAGATCGAATGAATGATAACTATGTACAATTTTATTAGGTGACTACTAAAGCCAGGTTTGCCCATACGAACAATCCAAGCTCTGCCATGTAAGTCCTTCCTAACTAGCGACTGGCGGAGCATGAGTTATATAACCTGTTTCGCGAAATTTTTATTTAAATGAAATTATGCATCCCTTGATCTATGTTCAGCACTGTTAATTATGGTACCCCTAAAGAAGTACGCAGAACCCAAACACTTGTTCCCTATGCTCCCGTATTGTGAGGAAGCATGGATTAAGAAGCGTTCTCATGCAAGTCAGATTTGACCTATGCTTATAATTATTATTTCGTCAAGTTAGACTCGGCTTTCGGGTGATTTGTATCGGAACAAGTACATCGTAGTATAAATACTGTTCACTACATTTGTCGAAGATAGTAAGGCGATGCAAGGGTTCCATAGAATATCGTGAACTTAGAGGTTTAATATACATTCCGGTTCGCTTTGAACTTTCCAGTATGTTACCAGTTTACGAGGTTTTAGTGTACTCGCGTCGTTGAGGAAGGCTAAGCTGTATTACCCGACGCTTGTACGGTCGTTTCTTCGATCGTGAGATAGAATTTGAAAACTAGAGCGGGATCCGTATTATCCATTACTGTGTTAGTTCATTAATTCCAAATCCTACGGAAGTCAAAATCCAGAATGTCTTCTCCCGCTGGGTATTGAGGCCATAAGCGGGAGAATACATCTATTAAAAAGGGCCTATTATTACTGTAAACAAGCAAACCACATCCTTTCATTTTATTCATATTCAAATTTTCGCATATTTGAGCATACAATTGTATCTTAATAAGAGCTAGCTCGTTTGCTTCCCTGAGGGCCTTTCTTCGTCCACCGTTATGTTCCAAGTAACGATTATTTGCTTTGCCTTGTTTCTTCAATATGGAGTTAGGCATTCTCAACGGCCGTGCATTACCACCCGTTGCACTTAAGGCCTGGGGTGAACAGGATAATCAAGGTACATTATAACTCGGCATAGAGACATCCAATAACAACGTTAGCGCACGGACATATAATATCAGGGACGTGTCCTACTGAGGTAGGCCTACGGATACGACCGTTGTATATCTGTTGTTTCCTTATCGCTTGCCTACCCTCATTGTTCATTGAACGGTCATAACCATATAAGCTGATCTGAGATAAATGGAGGTTCTAACCCGGTTGTATTTTATTTTGTTTTTCTTACATCATGGGTTTTTTCTGATTAACAATTAATTGCTATGCGCGCCCTATTAGCGGCAGTATTTAATTATGTCTAAGAACTAACAGCGGCCTAGAAGTAAGTGGATCCTTACTATCCTTTTCAACACCTGGGAAACCCCACGAACAGCACGGGCCTTTATTCAATCCCTCACATTAACCTTTTTGAGTTGTAACTTTATCGGTATGTTTAGTATAGACGCCACATTCATTAATCTACAAATTGTCTAAATTCACCGCCTTGATAACGTAAAATGGTATGGCAGAGCTTTTGATCTATTCCCCAATGTTTGGAGGATCTATTCACTTTCAAATGGTTATTATCAGCCTTCTCTGCAGGACCTTTGAAAGTAAAACTATTTGGGTTATAAATGCTGAAGTATACAAGCCCATACAAATATATGCTACGCGTCTTGTGACTCCATCGATAAATCGAATGCGCAATGGAATCTCAGGGTGGCTCTCGCGGTAGCCCGTTTATCTTTCTCTCTTTGTAAGTCAACACGATATGCGCAGAGATGATATCCTGACTGTTGGATATACCCACGACATTATCCCCGAATGATACTTCATGCAGTGATAAAAGCGCTTTGAAAAGGCCCACGCCATCGGCCAACTAAGCCGGCGAGTCCGAGCCCGCATTTCACGATGCATAAATTTCCGAACCGTTGCTGCTCGCAAGCACTCAACGACCAGGAGAACGCCTATATTTTAGTTTCTAGGTGTTTTTCTGCGGTTATGATAGCGTTCCAAATTTGTTCAGCCATGGTTTATGACTGGTATTTTTATCAAATGTATACCAGCTTGGTACCTTGGGCGCCTTAGACATAACATCTACGATATGTGGCATATGTAGATATAATTTTTAGGGGTCTTGCAATCCAATCCTGATTTGTGTAAATTCTCTAATCCTCGGCTCAAGTCCTTGGAGAACGAACTTATACCTGAAACCGTAGATTTAAGCTCCGTGTCGTCTAGTTTGTTGGTTGCCGTGCTCTAAGAAACTATATTACTATTTAGACTCTTATTATGCAAATGTGGTTAGGTCGTGTTCTGTCAGAGGGGCCTTTGCTCGATACTAATAACTCATCATAACTTATTGGGCTTATTAGTAATTAATGTCACACCGGATATCATCGGGATATAAGATGAGGTTAGATCCGGCTTGTGGTGTTGCAAGACAAGAGGCATGGGATGCAGGATCTGATTTTGCGAGCATAATACCGCGGCGGTTCGTTTACGGGCGATGGATTGCATTTTCTGCGCTGTCATTCTGCAATGACAGCCAGAACAGAACATACAGTAATATCCCCTCGCGGCTTTGAGACGTACGCTTGCTTCATATGTGTTCAGCGCTTAGCGGCTAATACATTATGCTTATAAAATCCAGTCTGCCATCTAAGCCATGTGTTAGTCGTTCTGCTGCTTATCTATCAAGAGTCAATATAAGACATCGAGCGTTATTCCGTTTTCCACCAAGTTCCTGCTCCTATCGCTTGCGTGTAGAGTATGTCTAGAGAGCAGGCTCTGCTTATAGATCGCGGTGTCGTTGAATATTGTATGCTATAAGCCTGTGCTAGTATCTGTGATAGCGTACTTTGATCTGCTACGTAATCAACCTTGCTTCCCATCTTCGTACTACGGCATCGCTCGTACGAATGAACGGTCTACCGATGAAACTTCCTTTAAGATATCTGATCGCTAAAAATATCTTGCAATATATTAACTCGTCCTAGTACGTGATCACGATCTCGCGGAATAGATTGCGGTTACTAATCTACAGTAAGAACAAACAAATCTATAAGTTGGGCTTTATCCTGGGATAAAACAGAGGGGGTATAGGGATTGCATCCAGAACTGTCCAAAGACTTCTGAATGAGGTAGCTTTACACTTGCAGTTTGGCATAACATATACGCCATGATGCAGTTAATTGCGGTGTGCGGTTTCGATAAATCGTCGGATGTGTAAGTACTGTAGGTAGCTTGATTTGATATAGTAGAGTAACACGTGGAATCTACCATGGCATGTTTTGTTATATATAAGGCACCCACCTTCCTAATATATCTTTGTTTCCCAGGTAATTTCTCACTCCACTTATATTTCTATTCCCAGTCCTATTAAGATCGTCAGTACTTGGAGCTTGCCACACTTCCCTGGCAAGACAAGTCAGTACCGAAGATGGGGACAGCAAGGTGCTTTTTAGCTAGATTCCATTTAAGGGTTTGTGTCCTCAGCATAGTAAGTGGGGGTTTAGCCTATCCGCGTAGTTTGCAATTCTTTGTGTTTATACGACGCTGGGGTTCATCGTACGTTTTCCACACTGGGTTCGGGAAACGTCAGCTTAGGTTAAATCTGCTGATGCCGAGTTCTTACCACGAATTACGACTAGGGCCTTGAGCACCGCGTTGGTTTTCTTACCAGTGACCGCTGCTATACTGTTGTTGTACCGGGACGCATTTTATCTTCATTCTGTAATCCCCTAGTATACATCTCAGCAACCCTAGGCGTGTTTATTTACAGGGTGGAATGTGTCTCGCACCGTGACCCGGGATCTAGAGATCTGTTACATTCTGCCTACTATTAAGACTATTCCGAAAAAAAATTTCTTGTGGCGGCCTACGATTCATCAGCGCTATTAAAGTTCACATCTCTGTGCAGTTATAGTATCGATTTTGATCCTTATAATCAGTATTAAGTTCTGGTATCTATGCTGCACTTGCACATCTATTCCTGACACCGCTATTCGTTGAGCATGAGCTCTAATAGGAGTACCGGAAATACTTGGACAGGGAGATAGTTAATCTACACGACCGTTCAGTATAAAACGTCGTAGGATGGCGCTCGTTTTAATTTGTTTCTTAACAGCTTATTTCTTTATGTTTTGCGCAGCTTAACTCTAATTTTGCGCTACATGAAGTTTAATACTTTCTATTGGTTTGAGTCTGAGCTTTTCGCCGATCTGATAGATTAAAACAAAAGAATATTAATACTCCGTGAAAAAAACGACGAGCGTGCGAAGTTTTTAAATCAGATTAGTTCATATTAGGTTACTAATGCAATAAAACGTGGGTGTTGGTCGCGTAGTTGTTTGATCAAAATGGACACATGGCACAGGTACATATCAGAGAGAATGCTTATGCCCGTACGGTATTTTTTTCATGACCTTGGTAGAATACACTGGACGATCATTCTTTTATAACTCGAGAATCAATTCCGTCCAGTGCGCAGTTACCTCATTCGTTTCTTTATAACTGCTCAAGCAACACGATCAAATCGATTAATTTTTTTTGTAGGCTTCTCTATAATAAATCTAATATATTTATTACTCGTACGAATAATCAGTAATGTTTAGGTAACATCCTCCGACCCCGCTACTACAAGGTGTAACGAACTTGAGTTTCAGAGGACGATTGTGTACGATAGCATTTTCTGATGGAATTCAAGGGTGATAGTACGGCGAATAATTTGGCCACTTCTGAGGTAGTCAAAGTATAGAGTTATCAAGACCGCAATCCACTTTAGCCGAATCTCGTGTACCTTAGGTCATTTTTTACGGAATACTACAGCTTGGCATTGATGTTTTGGGTTGTGTAGTTATCCATATACTTCAGTGTGCTCTTTTGATCTACCTCAATCCTATCCTTGGTTCTAAGCCCATTTAGAGAGTCTGTCTAGTAAGCGCTAAGTAAACCTTCTGCGGGGTAATTTAAAGTTTGTTATTGTTTCTAGATCTGATGGTGACTGTATTTCGCGACCTTACCACAAGGACCATAGAAGTAACGTGTCAGTCAAGTACACCGGCTTCACAGAGTGTCTATTTCTCAGTCGGGTACATAAACCCTCAGTGCGTTACTTATAATCGTTCTTAACTCTTGACAATTTGCGGTTTTAGGCACAGTGCTATTTTATCCAAGTTCGAAGGGACTTGTGTTGAACGAAGTTTAAGGTGCCAAACTCTAACTTAATTAAGCGTTTCCTCCTTTAACGCATTGCGAACCTGATGAAAAGCCTAGATACGCTCTTAAAAGGTGCTCTTGGGCATCAACAGTGATACACTATCTGAGTTACTAATATATTGCAACTGATTGGTTGATATTATCTCGTTCAGCTCCATTGGACTTTTTTTAAATATATCTATCTTTGCTTGATCGAATCGACTTTGGTGTCCTGTTCTTATACGACTTCTGGACTTGTGCTATAGTAAAATGAGATCCGTCACCATTCAAGTATGGAATACAATTGACGAAAAGCCACTCCAGCGTGCACACGTCAATTTTTTCCAGTTAGGCTAGATGGGATCCTCGTCGAATCTTACAATATTTAGCGACCTATTGGGGAGCTTAATTATGCCATTGGAGACGAAATTTAAATTTCCCGTGTTTCAACTCGATGGGATCGCCGATGCGGTAGCTCGAACCAAATCCTACCATCATCTGATGGCTATTAAAGCGGGTCTGGTATGCCATAAATTCAGGTTTACAAGTTATCAATGCCCTATTTAATATCAATGGTACTACTAGATGAGTCGTCTGGCATTAATATTTTGCGTTTCTAGCCCCGATGCTTATATGTAAATAAATCCAATGTCCCTTGGTGGGAGTTCTCATTATCTTATGGAACATTTACACATCGTTCTCTAATATACAAGTCCTAGTATTCTATGCGGTGACGGGAGGACTCTGACGTATGCTAAGTTTTCCTGCTGAGGCTCTCCTTTGAACTGAATTCAAAACAGTTAACCCTTATAGCCCTCATGCGGTTTGCCGACCTTTTTCTCTTCGTTAATATCTAGGCCCTTTCTCAAAACAGCGACGTAAATGCATATAATGAGTATCTCTTGTAAGAATTTATAAGCGCTATGTGAAGTCGGTTTCTATGCTTTTTAAAACCAGGCTACGAATTGCCCTATTCGATAAGTAATTCAGGGGCTAGACTGTCAGCTACATCCGCGTTGAACCTCTCACACGAGTAATGGCTATCACAACCCCAAAAGAACAATGAGTGTCTTGATGTTAGGTAACCTCTTGTCCCTTTTAACAATTTCGAACCAGGATACTGTTATATCTTAATCCTGAAACTGTCTAGTCGTAGCACCATTAGATCTTACTAACAATGACATGAATTGGCTTGTATTTTGAACGTTATGCGAACGGTGCTCAATTTTATTTGTACCTCAGCTAGGCACCTCAACCCGTAATTTGTTTGTTTCGGCGACGCTGTGGTTGTATATTACACTTTATCCAACAAAAGTTGCGATAGCTAATACCAAGACCGCGGTTCCTAAACGTTAGTAAACAACACTGTGAAGTGCGACCGGTTCAATAAACTATATAGTCCGGCCTTACATCTCGTTCAATTTACTCACTTATGTTGAGATTTGGTGTGATGGTCCTCCTGGGGTTAGTCATGGTCGGCACGACGGGCTTCTCCAAAATTTATTGTCTTCCTTATGAACTCCATCACAAGTTTAATTAACTTGTGAGCAGAGTTCCAACGTCGACCCGTCAGACAACTTGAGTGCTTTTAAGCTTATTCAACACACTGCCAAATCCTCATGTTCGCAAAATTCACATTATCCGATACTTCGATGCTAATAAACCGGGATCAATGATAAGCACGGTCTATTTCTTGCCTAATCAATGATCATGAGACACTGTGTATTCATAAACTATCTCTTACATATGACTTAAACTCCCCTAGTAATTCATGGCTCAGCTCGGCCCATAGGCCTACATTCTCTGGTTTTCTGTTAACTTTGCTCATTACTGGAATTAGCTCGAAACTATTTGAGGCCAGTTTATGGGTTAGGATACTTGTACCAATATAAAGAGCGCTCTTTAAAGCAGTATATCGCACGACAGTCTTGTCAGTTGCGTGCATCACGGTCATTAGGATTATGTTAAATGTGAAAGTCCTATTAGTTCGCTGTGTTAAGGAATCCTGTCATTTTGACGCTCAAGAGCAAAATTGAATGTGGTCGGATTGCCTAATTATAAACGTTATGGCTTGTTATTTCAATTGTCTGCCACTTGTTGCAGAGTTATAGCTGAAGGGCATTAGCGGTAAGCCGCAATACATACGAAGATCTGCACTAGGAGCGCCCCCATTACCCAGATTTGTACCTAACTGTGACTCAGTCCAGCACGTGCATGGATACAATCTTACTACCCGGGTCTCATTTAAATAAACGACTACAACTGGGATAACCATAATCAACCTTCTTTAGATTTTGCTTTGTGGAATTTACGTACGACGTGTTCTACAAGTCTACTATCCATGAGGCGGTATTTAAGGTTATAAGTACATTCCGGGAAGGCAACAAAATGGGTTTATTAACTAATGCCTTCTCAGGAGCTGAGCATTTATAGATATGAATCCTGTTCACACCCTCGGTCAACATGAGAGGTCTAGTTTGGTGTGCTTTAATTGAGTGTGTGGGTCAGTTTTCGTCCCTTGCAGGCGCCATTTCGAGTCAACATAGCTCTTAGCAGTATTGCTCGAAATCAACTTTCGCGTACTTGTTTCCACGTATATAGTAGGGTATCTAAAATCGCCAAGAAGTTCTTATAATGGATCGGGATTCTCTCTGCGTTCTCTAGAACCGTATTTACTGTTTAGTCTAGAATTATAACGCTCTTCATTACCTTGCATTTTCTCTTTGTCTCGCATGAGTGGGGGGTTTATATAGCACAACGCGCAATCATTCAATCGAAGCCATTGAGAGATTGTACCTGTGAAAGTCGCCCCGGTTTCAATGATCAAACTTAAGTTGCCCAACGAATTCGCATAGTGGTAGTTTTCAAGCCTGCGCCATCCTACTGTGGGTACTATAGACCTCCTAAAATGAAGAAAGGATTAACACCAATGACGACTATCGTCGTTCTTACTTCTTGAGGTGTCGTACGACGAGTTAGCGCCTCCTCCAACACGATGGTACTACATATAGTCAATGAGGTTGCGTGGATTAACTAGATACGCAGCACGAGACTTTGGAATGGAAACCTGCCTAAACGCATCGACTTACACGTCAAGAAATTATGACACTCGGTCACAACACTGTCTGAGGCTCAGTGAAAGCATTTAGGACAAAGACTTAATAAGTTGTCATTTAACAGGTTTACATTAAGCTGATGAGATTGTTTGTAGCTGTTTTTTGGTAGCAGGCTGCCGGTCTGAGAGTTTGATGCTTTTGAGATTCAGTCCTGAGCCCTCCTGTATGGGAAATATCGGTCCACCCTTAACAACAAGACTTCAGGACCAATCGGATTCAACTCAAGCGAAGTAGTTGTTTTAGATTAACCCAGTTTTTTGTTATGCACCACTTTCATCGTAAACTCGCATACTGAACAGCTTTGATCTGCGCCAATGCCATTCAGGTCCGGTAACAGCTAGCAGAATATGCCGGTGCTAAAGAAATTTGTTCGCATTTAACCTCTGTTACAGTCACTTTTCCTGCGAGATATCAAAAGTAGCAACCTTGTCCCTCCGTCCAGTAGACTTCAATAGATTGGTATCCTGAGAGAATTCTCTAGGGTTGCAATTGGAGGCATTAAAATAATGAACTGGTGTTTGTGTTTCAGATTTTGTACGTTACTCCCAAACATTGTTAAGTCTCTGTCGTCATCACGTATTTCAATTTGGTTATCAGATTCGTTTCCGTAGCCACACTCACCATAGGATAGTGTTGCGGCTCTTATCTACCTGGCGGATAGTAGTGATGTGGTGTTGAGCATGGAGTTATCTCGAGGATGATAAAAAGTCTCCCCTGCGGAACTATAAAAGACATCTACTGAAACCGGGGTATCCCCCAAATATCAATTAAACTTAAGCAAAAGCCGCTCTAGATAGTGATAGGAAGGTTAAAATATAGTCCCATTTTCACAAACAATTGGGCCTGTTTGAGATCAATGTTGGATTCACTTATATTCATCCCTTCTGATCAAATTCTGGTTGAAAAATCTCTTCTGGCATATTACTCTAATGACAGATGAATTGCCGTGCTGCGGATTTGTACTGTATACTGGTCGGATCTAAATATTGGATACATTTTGAAAATAGTGGCATTACCACGGGACAGTCAGCTTGTTGTGCCAAAGTGTAGTACAGTTCCCCATCCACCCGTTTGTACGCTAACAATTTATGTCTTCGATCGGGAGATATAATCCAAGCGGTTCCCCTCTGCTTGTGAATACGTAGTTAGTGAGAGTTTTTCTACTACGAAACCTTTAGCTCTCCACCAAGCTTTGATTGACAAATTACTGTCAATCACATAAGATTCAAGGCTCAGTTTGCTTTGTTTGCCCTTAAGCTACCCTACTTACTTATAGGGGGGGGGGCGTTTTAGGCGGTGCGATTTTATCAAAACAAGTTATTACGCTTACAATGATTAAACTTTAAAATGTTGAAGTATTGCTTCGGCAACTTTGTCAACCCTTAATCTAAAAGTTCAAGCTGGAAGTCTAAAACACGCTAATTTAGTGGTTACTAAGATACGCGGATCTATAAACGATGAGGTATAATTTGAAGAGCACAATCTTAATCGAATCGTCACACGCGAAGATACGGGTGCGGCTGGAGAGTCGGTAGCCTTTTTATCCTCATCCTACGAGCACCGAAGATGCAGGCTTTTCGATCATTCTCCTAGGCGCTTATTGACTTTATCATTAGGGAAGCGCCATACCGGTTAGTGATTCCAAGACAGTTTGGAACTCTTGCGTCTCCTGTTTTGGTTCCTAACTTTCCAGTAGTACCTACAACAATGGTCAAGCGCTGAATTGTCTCCGGTTTCCATCTAGATTTGAATAGGTGTCACAAACTGTTCTTTTAATTTGTGTATATGATTGTCCATACGATCTTTTAAGTCCTCTCACGATAGAGACCTAACAAACGTCGTCTTAAACATATCCATTTTTCTAGGGTATTATTAGTTTAACTGATCTACCCATGTTACATGACAGCGGATAGATATCTTGTTATTTGACCCTATTGGTTTGACAAGACTACGTTAAACAAAACATGTACCCATCATAAACGTGATCTCTAAAAATCGACAGCATGAGTACCCTACCAATTAAACATTGGAACTCCCTCCCAAAATATCATTGTTATTTTGTAGATTAAGATACGCCCACAGCCTGAAAGATATGGGACAACTCTTACTTCTGAGGTTTACGCATGCTCGATCTCACTATTTACTTGCAGAAATTATGACTAATCCGGTCTCTACGCCACCGGTGAAATTATTCCTGAAGTTAGGATTTTTAATTGTAGACTAACTCGCACAATTTCGAGGCTTCCCCGTATTTTCAACCCTATGGTGCTACCACTGCTGAGACCTGGGTGCTAGCTGAGGCGGGGAGGTCCACTGACAATTGATTACATGGTAGTCTCATCGTTCTTGAGTATCGCATCACGAAAAGAGGGCACAGGAGGATACTAATCGGGGGTCGGCTGGATGAATTTTTATGTGTTTTTGGTAATCATGCTTATAACTCATAGTGGCATTGTATGGCTATCAATTCTATATTTGATGCGTGATTTTTTGTTACTACAATCTGCTCGACCCTAGATACAAACTAAACTGTCATGGGATGCCTCTAAAACTAATGGGGACAACACGTTAGTTCGCTTTTAGGAAAACTTTTGGACGACGTGCCGTTACTTAGACCATAGCGTGCGCGCATTTTGTACGGTTGCACTCATAGCGCAGATATGATAGCAACTTGTTGCGATGTTAATCGTTTTAGAGGTTAACTATTGTTTCCACCTATAATTATTTGGTATTATACTTCCCTCACCTGTAAGGAGGGTCAGAGTTCTCAAGGTAACTACCGGGCTATAAAGACGACTCAAGCTTATTGTTGGAAAATAGTACATACAGTCTGCTTCATGCACAATGCAGTAACAAAAGGCACGGAATATTCCCCACGCGACCTGTGGTATGATTACGTGGTCGCGTAGAAGGCCCACCTAGCACACAACATTAATTAATGGCTAATAGGTAGTACGTCCGTCTATACATGCCACGTAAGCCTAAAGGAAGGGGAGCTATTAATATAATTTACTGAGCCTAATGTGGGGTATGCGGGGTACCTTTCGCCAGTAATTTGCTCCTTATAACGTCTGTAAACTGCAGCATCTAGAGCTACTGCAACAGATGACGGCACAATGGCTCTTTATTCGTATTTCACGTTTAGGATCTTAGACATACCCAGGACGTCTGCACTAATGAGCACAAATACGCGTATTATAAAAAACCAGATAATCTTTGAGAGTAACTCATGTGCCCCGAATTGTGTAATGATACAATTTTTCTAGCTCAATGAGTCACGTGTTATTACTTAAGTAGATATACGCGTATATTAGCGGAAGGTCGCGTGTAGACACCTAGGCTATAAAATGTCAAGACATAAGTTTAACTAGCTTTCGATTTTCTTTTATCGAAACACAAATTTGTTTAATCAGCTCGCGAGATAACGCTGCAATCATACATTATCTCTCGCCCGAGATAAATGGATCTCGTTACCCCACCGACAATCTTTCTTAAACTCATCTTCGATCACGTACCCTGTCTAAGTACTGCTTTTCATTATACCAATCAGGACAGTTTACTCTTATAACCATTGCAACATGGCGGTGTAACTCTACTTTTGTAGTTCGATGGCTATAAGTACGTACATTCTACCCTTATGTCCCAGTGACCCGGCATGATCCATTCTATGCTCTGCAGCGTAGTTCAGACGGTTCTTGAGTGTGGTTGTCAAACGAATTCTTGGCCCTCTAGATAGGAGGTATTGCCAGTTTGCCTTATCGCCACTAAAATTTCATTGGCAAGCACCATCCTAAATTGGGGGAATGGCAACTGATAGTAATGTTATAGTTTTTATATAGATGTATAG',\n",
       "  'AT_rich'),\n",
       " ('GGATTTTAGCCGCGGCCGTCTAGAAAAATATAGAAAGGATACTCCAACGCTCAGCGCGCCGACATCTGGCCGAGCTAAAGCTATGGCGAGGGACTGACACATCAACTACTTTCGAACACGGGATTTTATCATCCTACGATGGGGTAGAAGAGTAGAGGTAAGGCGGCAGTAGATGCCGTAGGGAATCCCTGATTCAGCAGTTGACTAAGCGTGTATCCAACTGTGCTTGCTGGGACGCCACCGATCCGCTGGAGTGTCCGCAACTCGAGTATTCAGCGCGGTGATAACACGCTAACTCCCGCGATGTCTAACGGAGATCGCAAGCGGGGAGGGTTCCATCAGGTCGAACCGGCGGGGCCGCACATGTTCGTTTTCAACTTGGAATCGTGGACTCACGCCGGGAAGTGAGTAACAACGTCCGCCAGTACCCGCTGGGTCCAACGAGGGGTAGCCTACAGCAAGCTAGAGCCCAGAGATGAGTTTCGTACGAGGATGGGCCGGTAAGCATGCGTGAAATGGTTGCCCCACCGTCGATAGGCGAATACGGATGCCGAACAAACGTCGAATGATTTGCACGATCCCAGCCTAAGCCGCTAAAGTAGGTCATGTGGGTGGGGCAATAACAGCATAAATTATCCGCATCCGTCTCATGCGTCCAGGAGATCACTGCGCGCCGCTATTAAATGTAATAGTCCGAGCTCGAGGAGCCCATTCTCGCGTGGGGCGGTCGGACGCTAAGGTGGAGATAAAACTTAGCTGCCACTTGTTCGTAACGACCCATAGGGCCCCGGCCGTCTAACCTCCAGGGAGACTATAAGATACGGGAGGATTGGGCACAGTGTGCTGCGGGGGACCCGAAAGCACGGGCTGTAGAATCATCGGCCCTTCAGCATGGCGAAAATGAGGCCCGCGCGCTCCGCCAGAACAAGAGAGCGTAAGATAACACGAAGCCCCTTATACGAGGGTGTCTGGGACACAAGGATAGGCTAGATGATGTTATACCGTCGGGTCTGGGGCTGGAACTCCTGAATTCTCGTAATCTTTTCTCTAATGGGCAGGGGGTTTTCTCCAGGGTTAAGTGGGGTGGAAGCAAGACAGGCTACGTTGCTTGTGGATACCCCGTCCGAATAACGGCCACGACTGCGGAGGCTGTACAGCGATTTACCCACCAGACCCAGGTGTGACGGATACGCAACCGAGTAAGCGTCGCAGGGAGATTGGAACTCCCTCTAAATCCGGCCGCCCTTTGCGCTAGTCCAGCCCTGCCACACGTCTTAGCGGAAACGGAGAGGGCGTTAATAGGTCGTCAGAAGGGGGCAATGCACGAAAGATTGAACCCGAGGTAATCCACGACCCGATTAGCTAAAGCTACACCTATGTTTTCCAAGCAAAGGTAGCGTGCCGACAATGTTGTGAACCGGACGAGCGTCAGCCAGAACCAGCTAATTTCCAATGGGGGCTTAAGAGATGGCTCTCCAATTAGTACCTAACCGCCGTGGAGTGAGGGGCAGCGGACGCGTCTCCGCTGGGATTAATTCCGACAAATGACAAGTGCTAAGGCGCCAACTCAGCTGCGCACAGTGGCCACCGAGGTTGCATTGTTGGTGAGACCTGGCTATGCTTTTGCGATCTCGACGGGTATCAGATAGAAGGGGCCGGGCCGAACGTACCCAGAGTTCCTCAACCCGCAGACGTTCCTGGATCTCAGGTGAAAGTCCGCGCAGCCACTAGGTAAGACGGTCTAGCGGCAAGCTCCCCCGCGCCCCCCAACCAAGTTACGGCCTACAAAACCCGAGAGCAACCACATCTGGGCCCGGCCTAGGACGGATTGGCAATGGGATTTCGGTCCCCGTTAGAGGGTGGACCCGTCGTTGACCTATTGGCCCTAAAAGTGTAAGTGCGTACGCTTCTGCATCTTCCTCGCCAACGGAAAGTTAAGGGGTGCGCGCGTCCATACGCACACAGGTGGTTGATGGTGTTACGAATTGGAACTGAGCAGGTCAGGGTCCTCCCTCCCATTGAGCGATGTTTACGAGACGGGGATGGCTGCTAATATGCCCGCAACGAGCCTACGATCGATGGGAATGGTTAGAGAAGGCGAATGGAGGTAAGGTTCCACCCGGATACGACTACGCGAACCTTTGGCCCCCTCGGAAAGAGCTAGGCGGGGGGTGGAACCCGGGGTCACTGTGGCGAACCCAGTACGATGCTAATCCATGGTTTGGCACGCCTGATAGTTAGTCGACCACGTTCGAAGTGGCGAGAGGAGACAGTGCCAACGCCGGCACCAATAGCGCCGAGGTGCTGCGAGGCTAACCGCGTTATGTGTTCCTGAGGTCTGTGTCTTCTCGCTTCTCGCCGCTTTTGGGCAGTGCGAGTGGAGCGTCTAGAATGTGAGGTGAATGTGAGAGCGTCATGCCCCAATGACGAAGAGAATTCCGGACTCAACTAGTCCAGTCTACCCCCCGCTGGCGTGAGATTCAAGGGGAGCTAGATGTTCACTGCGTGAGTTGCAGGGAAAGACGTCGATCTGGCGCGCGGTGCCACCTCAGGTCAGAGGGGCTCCACTACTTCCCCCCGGGTAACAAGCACGACAATGAGCCCAATCGATCTACGATGGCGACATTCAGGGAACGATATTCGAGAGCGCAATAGGTGTACCAACGCTTGATGGTTCGGCTCGTAACCTGAGTCAGCCCCATCTAGAATTCGGCCGGTCAACGCGGTTGTCTCGTCGTGTGCTCGCACTAACGTGGGGTTCATAGCTAGCAAGGGCTGCCTAATGCGCGACGGAAAGAAATAAACAAAGACCAGTGCATCCGCCACCGGGTGGAGAAGGGCGAGACGATATCTCAGCCACCAACTCGCAAGAGTAGCCCCGCAGGGGGAAACTCGCGTAGGACGAGTACGATGCAAGGTTGCATCGCGAAGGAACACCTGTCACAGGTATGATCAAGGCGATCAGTACCGACTAGGCGGGTCTGTGTCAGTCTGTAGCAAGCCAACCATCCTCGAAGAGCCCCAACCTAGGCATGCTCCGCAGGGGGAGAGCCGCCAGCGCCACAATCTACGGATATTGTGAAGGGTGGGGGGAGAGGCGAAGGGATGCATACCCTGCGGCTAAAGGTATACACGTCCAGTGGTACTTACATTTGGAATCTAAGAAACATTTCCTGTGAGCGGATAGCCTTCGGGGGGAGGGTTGCTCCATCGAGAGCATAGGATCGCAGTGAAGGACATACGCACTTAAGGACAACCCGGGTATCAAGGTTTGCGCTGTGTATGGACTACTAGTGTACTAGGGGTACAGGAGACGGCCCTTGGCGAATGACGCGGAAGTCAACTGATATTCGGCTTCCGGGACGAACTGGAATGCAGATTGAAAATCAACCTGATGGGAGGTTAGCCCAAAGCTCCCTGCTACGGGCTTCAGGAAATTAAGGCCATATGGCCGCGCCGAGCGTCGGGCGAGGTAATAGGAATTGCACCGCGAAGCGCCGGGTTACTGTAACAACATACTAAAAGCCTACTTGCGGGCGTGAGATGCATGTCCCTTTCAGAATATGGGTAGCAATGTAGCCCGGCGGAATCACCACCGCAACAACTTAAGAGTAGAGAAGCGGGTGGTACAAAATTGAGGCTCGGCAGTCCAACTGTTGACGCTTTAGGCACCACGTGAATCGCCCAAAGTCGTGAAAAAATAACATATGACTAAAGAGCTGCAGGAGTGGTGCGAGCTTTTTCCGGCGACGAGGTTTCGAGGACCCTCTAGTCGGGGCCATGGTATGCAAGAGAAATACTTAAACGCCAAGGACTCTCCTTAGTCAGGGACCCACGCTCAGACAAGCGAGCTACCATAGCTAGTAGCAAGGACATCTGGGGAAACGTGCATAGACGCTCCAGCGGTGGTAGGAATAATCAGGAGTCCGAGCGTGGAAGTAAGGAGCTTCTATCGTATAAAGGCAGGTCCGCCGGACATATTTTCATGGCGAACGTGACAGGCCTGCGCAAGCTGAACGCTTCCGGGGCGTCCAGACCCACCGGTCGTGCTTTGTGAACTGGACCCCAGATTAGAGGCGGATGGGCATCGAGTCCGGCGCAAGCCGTCCGTCTACGCATAGCGAGCCAGGTGCGCTTAGAAACTCGGATAGATGTAATATTTGAAGGCAGTCTGGGCTCCGGCCAGTCCAATACAGATAGGTCGTAGGTCTGCTCGATGCGCGCGGTATGAGATGAATAGTCCGGGTGCGAAGACGCAACGTCACCGCAGCGGGGTCGCATGAGAACGCTTAATCCTCCGGGGTTGAACTAGACACCATTTGTTCGCTGGACGAGGCGTTCAAATAAAACCCTGGGAACGGTGCATAATGGACAGCAAGATCCGGAGGCATAAACCCTGTGCGCCCGGCGTACCAGCACAGTCGCAGGAACCATAAACCCGGAATTATCAGATGAAGTGACAGACGGCGCTAAGAGGCGTTCAGATAGGGAGGGGGCCGGTCTTGCAACGAATAAGGTCGTCTCCCGTCAGGGGCTGGTTTGGGCGGGAGGAGTGCAGGTCTGTAGACATCGTCTTCAAGAGCGTCTGGCACGCTCGACCTGTTCAGGCCTCCTACGGAGGCGGTGGTGGCGCTCGCCGGACCGAAGTTCAGATGCGTCACGGGAACTGAGCTTATAGTACAACGGGCCGCGGCAAAGAACGGGCCGGGTGCGAGCATGGTGGAGCCGACAAAACGACCGTCGTGGTATGAGAGTCCATACCAAGCGGCTATACGATCGAACCCCGAGCAGTTGGGTGGAGGAGCGCATGGGCTACCTACCATCTGGGAAAATTACTGTTCTGGCGAAGGTACCGAGCACGCCAGGGGTAAAGGAAAAATCTACACGGACGTTAGCGTCGAAAAGACGCAGACCAGAGCGCAATAGGGCTCCGAAGTGTAACTGTTATTCCGCACGGGAGGTGCTAGGGGATTTTTTCGCCGCGAGATGAAGCAGGACGTCCTCGTGACATAACCTCCAGACGCGGGTAACCATGCGAGCGCATTTGAGGTACGGTAATCCGAGGGGGCCCGTCCGCGAGTAGGCCCTAGTAAGACTTGTTGGCTAGTTAGCCCACTTCCCCGTTGGCCCATGCAGATCTTAAACGTTCGGCCATTGACAGGTAGCGGGGCGGGCCTCGTGGCCGGGCACAACTAAACGAAGGTTGGCCGACGCCACTTTACATGGTTAAACCCAGGACATAGTGCCGCGATAAAAAGCCTATACCAGGTAGCATTCGAAATAAAGCCTGAGGGTATAAACAAGACCACCGCCCACCAAGCTGCGGATTTATGCTACTCGCAAAAGGCACGGGGTCTGAGGCTGCTCTTATCAGTTGACCACGCGGTTGAGTACATATTGAAAGCACAGGCAGGATCATCACACGGCGAGGACAGCTTGGTGGGAGCTATACAACCGGCTTAGGGGTAGTTGAGAGCGGGAAGTGGGCATACAGTCCGATCGCCTAGGGGGGTATCAAGTACGGAAGGGTCTTTGGGTCCCCTCACTAGCCGTAAATCGCCTGCCTCACATGTTCACCGGCTAACAATGAGACCAAAGAGCATAAAGGAGGGTGTGAGCACAGGGGAGCCTTGACTTGCGTGCCGAGCTCCTCCGGCTTCGGACAGAGTATGAGGCCGAGCGCACGAGCACAGAGTGCTGTATGCGGGTGGAGCCTAACTCGAGAACGCGTTCCCGGAATCGCTCCGGGACGAAGATAAGCAAGAAAGGGGCCAGGGTAGCTCCTTGTTGAATGTTGGGTGGTCATGTTGCGCAATAGAAAATTCGACACCGTCACACTGTGAGGGAAATGCACTGCGATCCTTCGACTGGGCGAGATACGCAGGGATGGGGTCAAACCTGGAGCTAGCCAAGGGGGCTTTTTGTAGCAGGAGCTCGCGGCTCATACAGCTCCGGGGGCAGAAAGCAGAACAGAAGTCGTAACAGTGGAGCTTCACTACCGTCAGGATTGCTAAAGTGGCAGTGCGGAGTAGTCAGAGAGTATGAGAGACTCGCGATTAGTAACTTGGACGAGGTTGATCGACCAATAGATACTTCCGCGCTCTGATTCGGTGCCGTAACAGTGTGCATAATGGAATTAAATAGGCCGTCCTGGTCGATTAATATCTAGTCAGAACGAAGCTACATGGGGCGAACAGGCTGAGATGGCGGCGCATCCCCTGAAGTCAGACGGAAAATGGGTCTTTGAAAATCGTCTGACGCGACTGGTTCGGGATTGTGTCGTTGGCGCGGGCCTCTCTTGCGTCAGAGCCAGATCACTTGGGACGTCCCGAATTTGTCCTCAAGAGGTGTATATACTACGGCAAAGACACAGGGATGCTCATGGCCGACCAGCGGGAATTCGGTGACTCCGTCCCCCCCCCATGCCTATTCTTCATCAGCAGTGCGAGACGTATTACAAGGTCTAAGGGAAGTACAATTACCCGAGATGTATGTATCTGGGTGCGTGCTTGAGCGAGGGAACTCTATTAAACTACTGCGCACTGCAGGTTCGCCTAGGGACAAGTGAGGGTCGGAGTTAGAGGGCCGTGGACAGGAAA',\n",
       "  'CG_rich'),\n",
       " ('AAAGACCATTTCACATTGGCGCAGACCACGTTATTTAAGGTTGTTCACTAGGCTATTAGTATCTAACTACTCGCTTTGAAGTATGTTAAGCTATATTAAATTAATAATAATGTAATTAAAGCGGTTATGTGGTTTAGCGTTAGATTTTTTCCATTGCCTCGTTGGATCAATTGCTTCATGCTAACAATTATTCGACGCTTATCAACCTTGTGAGATGATACCACGAAACTGCCCGGATCTAAATAACGTCCCGTCTCGGACAGGATGCTTGTTTCTAGTTTTGATGTCCGATAGACGCGGCCATTTTTAGGTTATGTTGTCTGCGTACATTTGGAATCTATAAGGAATGTGCTATACTCCTCCAATGGTTATCTGCTACAGCCTTTGTAAGAATCCGGGCGGATTAACCCTACACAAATGAACCATCTTCACTGGGCCCACTTTACGGACTCGCTCCCTAGAATTCTTGCTATGGTTGAAAGAGCAAGGTTCCTTCGGGAACTGTGAGGTCTTCTGTTGATTACGCTTCTTGCGAAGGGGTTTCCTTCCTATATCCCGTACTGTCGGAAATCTAGGATACCGATGTACGCCTATCAGTATCCTGCTGCCAGTGTAGTACGCATTGGGGCTCAAGTATCAGCTGCATATTTAGGCGAAATCAAATTTTTTTGGGTGGTACGGTAGTAGTTTGATAGGTATTTCATCCCGTTTACGCTAGCGTCGTATTTTGAAAAATCGTAGCTAGCGGTCAGTGTAATTCCCCCGTTAATTGGCATTTTCTCGCGACTGTCTTACTAAAAAGCCTATATCTATGCAGATTCGGGCCCTACCAATTCACATGCATGATATAGTTCGCCGCCGCAACTCTAGATATTGGACATTATAGTCACTCTTTTGTCAATGTTATTTATCAACTCCAACCCACGTGATTTCGCGTGAAAGTCAGGATTTTACTTGCTATTACTTTTTGATCGGTCACTAGAAAAGATAGGATTAAAACGTGGTCCTAACAAAAACCATAAGGACATTCTCGATATACTTGACCCTTAACAGACCACTGCGGGGCTCACCATTTATTAGGACGCAGTCTATACACCAGTAGCTTGAGCCCTGGTCCCAACATTCATTAGCGCGGATTAAAACTCTCTACCAAGGTCGCCTTCAATCTATGCGGCGTTGATACAATCTGTAACTTGGTACTAAACGGTACACAATGTTCAGTCTTCGAGTTAATTGGGGTAATCTAAATGAGTAACGGCTACTTAGTGATTCCGCATCTTGTACAGTCCATATCGTACTTCGTAATATCTAACCTATAGAGTATTGCTTGCCTCTGCATTTAAGGAGCATTATCTGTGTTTAATACATACCTGTGCGCTCTAATGTGTCCGCGTCTTTACAATGGAACTCCAAAAGACAGGTCCGGACGTATTCTCAACTGACTTACTCCTTTTGCCTACTTGTACAATTTATGATAAGCTGAACATCAATAGACAGAACGTAATAATTGATTAGTTGCCAATGTTCCGGCAGGGGAAAAATGTCTACATTGCGGAGCATGCTGATTTTGGGAGACATCTCCTCGGGACGGTTTCCATCTAACCCCAACCTTAAGGTTAGAACTGTGTAATCGATAAGTATTAACATCACCAAATATCAACATGTGCTTTTATACATCCTCATGGGCTAATGCCGAACCGTAAATCATGTCTAAGTGGAGCACCCGTGGTTATGGTATCGACTTTTATCTCGTTTTACGGATCCATATACAGTAGTTTGAAACGTTAGGGATAAGAGATGTTGGAAGAACATATTTTAACGCCGGCGCATATAGGCATCTGTTTTTATTTGTTACTGGTCCTATACAACGCGGGAATTATTAGGATGACCACAGATTCCTTATTGACCTCCCAGCCATCGGATCAGTTCAGGATTCGTGTTGCTGTTTCGCTCTGACCAGCATAGTTTATACTCATACATATGAGAGCAGCTGTCACTCACAAATAAGTAAGCTCCCATCTTCCTCACAGTACACTCGTTATTACTTTAGATAAACCATTTTTCAACAAAACAAGGAACGCACATTTCTGAGAATAGTATGGATCTCAACTAAGATGTAGTTCGACAAGATGTCAGCCACAGGACAATCAAGTCAGTTACCGTGATGCCGGAAAAATATTAACATGTTTGAATCTACTTACTGGATACTACTCGAAAGTGGATTTTGCAACGGAGGAATCGGCCCCAGTACCATATCAATTGCGATCTAGGAGGCTTGATTTAATCAAGACGTGCCAGTAATCATTATGTCAGATCCCAGCATCAATAATTTCACAGTCTATATACTTATCACTACTGATTGTTCGTTAAAGCAAGGATAATCCTAGGCATTTAAAAATGGTCTCTGGGTTTATGCTTCCTGAGGACCAGCTTCACTATTAAGGAGGATTATAAATGCAAACTCTCACCTGAACGATATCGCACACTAGCAGGAACAAGGGTGTCGTGTCCAGGCTATTTGCGACTTTTCTGGTTCTATGCTCCTGGTGTAAGATGACCATTCTAAGATATGTCCGATACTCAGTATAAGTTTTGCATCAAGACGTCTTTTGCGGTACTTTAAAGAAAACTATCGCCCCTTGTTTGTTTTGCTGCGGGTCACTCCTTCTGCCCCTCAATACAGTTCGACAGACTAAATTCGCATATAATAGGGCATAAGGTTTCTTGGTTGGACACGCAGATAAGACCGTATAATGGAAGTTAATTCGCAAATCAGGCATTCATATGGTAGGGTAAGAGTGGTGTCAATGGCCTCCTAAGCATAGGTGAGCCACTGTTCTAACCCGCTTTAATGCACTCATTCACGGTAATACATGGGAAGTCGTCGTCACATTGTTCACCGGCAACTGTAGCCCATAGCATTTGTGGACAAAACTAGGATCATATCGTCTGATGATTTGTGGTTCGACTGGGGATTCCCGATCTTTCATGATTACTCGACCGGTCGGCAACTAGAGGCCTGGTTCTTTGTAGTCTCTATCACATGATTGCTACTTTTACTTCTCTTCTGTTTGTTTATCTGTCTGTCGAGATTTCTCTTACGGCATTGCTGGTCATCTCAGTCACGTTTGTACTCTACTCGTAGCATTATGATGTTGCCCACTTTTTTGGAGAGAATGACCTTACACATCATGGTCGATCTACAGCGCTTGTAGTTCCCCAAATCTTGCCACAGTCGACTGTTACAAGTAACGCAATACTTAGGCACTTCAGTTTTTGTTGGTTTTCTATCTTGTTTAAGCTAGAGTTACGAGCCAACATGTTGTGCATCTTATTCAAGTGAATTTAAATTAGATGATCTCAGTGATATTCTGCTTCACTTTGGTTTGACACGGTGATGTCAAACCCCCTCTACTACGCAAGTGCTGCGGTTTGAAAAGGGTTTTTTTTAAGTGGACAAGATATACCCGATTGAGTAGACTATCTATCTCAAGGACGGTCACGTGTTCCTCATATGTATGGGCAGAGATCCCAAAGATCCGTAAGACATTAAAAATGCAACACACTATTTGTGTGGGGAGACTTGACCAAACAAAATAGTTAAGCAAGTTCTTGGCTAACTTTATATTCCAACAACCTATGTCCTAACTCTGGAAAGTAGCTCACTTGATACAAGGACTCAATCCGCAAAACCCAAATTCCTCGCCAGAGGCTTCATATAATGAATACTAAAGCTGGGTATCTATACAATTAGTCTCTTGGCGGTTTCAGATTGATCAATGGTACCTTCGATCCTCTCATTGCTTAAGTTGAGAAACAGAAATGCATTGTAGTGATATCAGTGTTTCGAATGAAGAATATTTCTGACAGAAGTGGTTATCTGGAACCGTCCTTGAGTGATCAGTTATCTAACTTTTTAAAGAACAGGACCCCTATCACTACATTCTACTTCCTGATACTGGACCGTCATTGTATAGCTTTTGAATACAGGCTTTAAATAATGAATAAAGCACGCATGGCTTGTTGTGATATTAAGGGCACATAATCTTCCGGGAAATAAGAACAATCTTTATTCTACCGTTTTGGCTAATCCGCTCAATTTTCAATGGCTAGAATGTATTACTGGTTTCAGGCGCAATCACAACCTCTTGTGGTGCAGTACCTCACCTACGTTCGTTGTTGTAAGGTTAATACTAAGGCACACAATAAGCGGATGATATCTAATTGCTGTATAAGTATATAGGGCTACCGTCGAATATGTCCATATGTTGTCTACGACCTTAATCCTAAACGTCCGAATGTTGAAGTTTCTTGTGAGACCTTAGTCCACAGTTCACTGGTAGGCGTCGTAGGGAATCATCGGACCAATTTTCTATAGAGTCTGACGGAATAGCCATTGTACTCTGTAAGCTGTTTTATACAGCTTGTTGCTGGACCAACCTATATACAACATTTGTGCCTTTCTTGATTTCTATGCACGTATCTTAATCTATGGGCCCCAAAGGTTATCGCTTCAACTATTTCCGTGTCACATATGTTATAAAAGAAACGCCATGGACCCTCGGGTCATCATAGTCGACACTGCCTCATTTGATCGCTGCTAAATTTGGCTATTCGCCGTAATAGTATAGGTCAAGACTATAGGAATTTATAAAGAATGAGATTGAAATATACCGTATTCTGAGCAACTGTACAGATGAGACAGATGGAGAGTAGAATAAAAGGAGTTTCACAAGATAGTAGCTCTCATATACAGGATCTCCAAGCGTCGAGAAGTTATCGTATATTTATGTATTCCATATCTCTGAGCTGAAAGAATCTTCTGTGGGTTCAGAACTTGTGATTCATATCGTCAGTTCCTACCCTCGCCAACATCAATGACCGTAATCCACATTCTGTTCCTTGTCATTCTAAGTTTCTCGAATAAATCCTCCAAAATCGTTACGATG',\n",
       "  'AT_rich'),\n",
       " ('CAGAGTTCCGACTTCGCTCGACGCATTAGGGGCAGTCTCCTGTCGGCTATGTAGTGGACGAAATTTCAAGAGAATGTGAGGAGGTCAGCTTCGTTGGGCCCTCTTACGGGCGAAACACACAGGGCTCCGTTAGCCTGTAGGACGAGACGGGGGAAAAATAATGCGTACGCGTATTTGTACCGGGGTCGCATCGTATCCGGAATACGAGTCTCGCCGGTCGTCGGTTGCTGATGCGACAGCCAGGTCCGATGCTGCTCTAGTGTGCCGCGCGCTACTCGCAATTCGAGCTCGCTTACACCGTGCTTGTTGGGCCTGAGTAATAGGGGCCGTCAATTTCGACACCCCGGTGGTGCAACAAAAACGGACTCGATGCGAGGTCTAGACTCGGCCTTGACGAAAACGGGGAATTGCTATAAGCCGGCCTGCTAACGCAACGCTAACAGT',\n",
       "  'CG_rich'),\n",
       " ('CGTATGGGTTGTTGCGCTTTTTAGTTTTTATCCAACATAAAGCGGACGCAGTCTCCTCCTATGGAGTCCGCTCTGATTTCCTGCCTTTATTTACTTAGTACTCTACTCTTCGTAATTGATACTGTATGTTTACCGAGACACTCGCTAAGAATTTGAGGCAGGTTTCGGTGTTGTGCTAGTAGCCCGGCTTTCGGCAACAAACCTAAGTACAGTTGTGATATGCTTTTACCTGGAGCGAGAATTCATAGGAGATGGATTCGTGGAGAATTAACCAACTTCTCTATTCTTTCTCATATAAATTCTCAGTCGATTCCTCTATTATATTCACCCATCTGGCGAGTTGGCAGTGAACATGATTCTCGGAGTACTAGGTATCGGAATATGTTCTGCTATCGTTTTCTGTAGTCTTTGACGAGCCAGTCGATCTAACTCATTTAGTGCGGACTCCATGTCTCGAAGTTCTGTCACCTTTGCGAAACTTTGCCTTAATGTATCACACTGAAAAAGTTGAGCTGTAACGCCCGTGATTGCCTTTTAGGTCGAATCAACCATTATGTTCAAGAATAGAGGGTACTCAAACGATCGATGTTAAATGGCATGATTGCCGTCATTTTTTATCCTGGCACATCTGAATTGTATCTAAACTACAATTAACCAGCACGCTAAGCTTAATAGGAGATGTTGGTGAGTATCTACGCCATTTTCTCGTTCGAATTTCGTCACGAGAGTTATACAATAGGGATATGCCCTTGTAACCCTATTACCAGGCTGAGCTTTGAACATACTAACGCCAGAGCTCATTATAGTGGTATAACAGGCCGTGGCTGCATAGGATGTGCCATTATCACTATTTTGGTTTAACCATTCCGATCGAGCATAAATCCTAAAGTTGTCAGATCATGCTGAATCTGTGTCCGAGTGTTTTTTTCTTACTCAAGGCACCTGGTGCCTCGACAAACCTCCTGTGGTGTAAAAAATGTTTTGACCATTCCAGTAAGTTCCCGTGCAATCTCGTAGCAGATTGAGCGATAAGTCTGTATCGAATAGGGTGTAAGGGCGTTATAGGCTTCATTATCGCGTTTCATTTAATACGAGCGCAATGTCTTTACCCGTCGATAATATTGCTTTTAGGGCATACTCTCACTTTCTGCCTGCGTATTTTATGCAAAAAATTAGTATTTTTGCTTACAGTCAATATCGCCTGATTTTTTGGTATCGTGTGTCTGTTTTTGGCCTAGTTTAAAGTCCCATCCCGAAGCCGTTGGTGAAAGCATCCAGTTGTCACATACCTGCAGATCGAATTTACGTCGAGGAGCGACACTTATCGGGATGTAGATTACCATGAATTAACTCTGTGACTGGCATATTAATGGGATTCATGTACCTTCGGTTTTCCTATTATCTATTTATTGACTTATCCTTTTTTGTGCATGCTATGTCCGTACTAATATATGGAACCTGGGTTCTCAAGCTATATGGCATCAAAGGTTGTCACATCGGCGTTTACGTAAAATTACTGAGTTTCCTATATTTATAATGATCGACGCTTGGAATCTTAAACGAACCATGTGCCTCAGGTAGGTAGAGATTGATCGGTTCATTAATTTTTTCTGTTCGCCATCAAGTGGATAACTATGCTATCCAAGGACATTATATAACTCTATTCACTTCACTGACATTCGGTTAATCAGATTGCAGACTCGACCTTAAAATTTGCTCAATAATATTTAAATACCAAGTACTCTTTAAACGCCTCAGGTAGACTCTAGAAAACTTGATCTTTTCCGAACGTTTCACGGACATGTATTTTTTCTACTCAGTGAATAGTTTGGTATTCGGGTTCAGATTCGCCCGAGCAGTGTTCCGCCATGATCAGCAGGTTCGTCTGACTGTGAATCATCCGAATGCTTTCGTAATAGTCGTTCTGCTGTTCTAGAAAGTTTAGTGACATGTGGTTTAATTCGGAGCCTAAAACGAGACCCGCCGTGTACCTTCCTAAGTCAATACTAGGTATCTGACTAACTGAGCCATCCTAACTGATCAAGGCCAGATACCACGACCAGTAGGTAGCGGAGGTAGTGTAGTTACGAGATTAAACGCAGCACGGTGGCAAGCTTGATCGTCGGACCTTCCATTTCGGCCCAGACTTTACTCTTTAATTTTCATTCCCAGTCTTGACTTGGGCAGTTACCGGCGCTATAATGCAAAATATCTTTCTGTGTTTCTCTGGGTAGAGGCTTGACAAAATTTTTTCAGTCGCTCTTCGAGATCTCTTAACAGTTGTGCTAGGTGTATGTTCCTGAGCCCCTCTTGTAGAACGCAGTGCGCAATGTCTCAATGGATCGTACTACTTGTGGCCGGGTATGCATATTATTACCTTTTTAACAGCTGGTACACGTTAGTCTTCAACGCATAGTTTACAGAGTTTTTATTTAAGTTAATATGTACATCCACAATCCATTCCCGATATCCGGGTTCCTTAAGTATGATCAATTTTTATCTCGGCGAGAAGGTCTATGTGACTGCTTTTAAAATTCTTGCCTCTTGGAGAGGGGTGGATCCTTTGAGAGATCAGCCTATGCATTTAGTCCATAAACGTTGATTATTGGGGGCTAGGCTCAAGGTTATAC',\n",
       "  'AT_rich'),\n",
       " ('GGACTGAAAAGTACAGGTGAAGAGTGGTCACACCCACACTGCGCCAAGCCAATTGTGCACTATCTGCCTCAAGACCAAGAATTTGCGGTTACACGCAGAAAATAAGTAGATGGAGCTGAAATTCCGCGCCCGCGTATTTGTGGCCTAGACATGAATATGTGACTCCAAGTGTCTCACGTGGGAGAGTGGGGAGTGCGCGGGATTGAAGGGGTGGGCCTGATGAGGATCTAGAAGCGACGGCGTCCGAGCACCGCAAGAGGCCTAGGCGCTCACGGTACGTCTACTTCCATATCAGTTACCTGGGGCACTCTGGCATCTTGCCCTAACATGCGACCACCTGAGCGCCTACGCCGGCGCTGCCCCTGCCATCAGCGTGAGAGCTTATGCCAGGTATGTCGGCTTAACCATCTCGGATAGGCGCGCGAAGCCGTGGTAGCGCCGTGGGTAAATAAATGTAACAAACAGTAGCGAGTGCCCATGGCTTGAAGCGAAATCTCAGATAACGAGAACTCCATGCGCCCTGGTGAGACACACCATCACGCTACGAACCGGCCTCTCTGGTACGTCGGTGCAGCCGCGAAATGCGTACATGAGTGGGAAGGTGACTAGCGGCGTATCGGAGCGCCTGTGCCGCACTCGTAGCGGGATCGGTCTGCTGTAGAGGAAACTTGGAGGGGCCGTCGGTGCTATAAAGGCTCGGGGGCTTTCGCAGTTGCTCATCGCGTTCCTTGGCGTTGTTTGTGTACATCGGACGCTGGGTTATTGAGCCTCGGAACGCGGGACGCGGAGGTGGCTCATAGTCCATACCGAATCCGGTAAAGCCACTAGCGGGCTGATGCTGTGATTTCCTAAGGGCGGCCGCCTAATCACTGGAGGGCTAGACCCTGTGAAGAGTCTGGGAACTCAATGAATCCGAAACGTATTTCACCGGAGTTAGTGCTACTCATCTCAGCTGGTGTCTAGTTATTTGGGATTAACAGCGGGGAGGGCGGGGTGTTAACGGGGGTGTTGTGATTTACTATGGCGGGCCAAGTCAAGCATTGTCTCCTCTTATAAAGCCTTCGTGACATTCGACAAGAGGGCCGCTGACGGATCGGTCGGGTCAACTGACGGCTAGGGCCTCCAGAATAGTTCCTTCGAAGACCCACATAATTTATGCGCGCCGACGAATACCTGACCCTGCGGTGATAAAATGCTGCGCATGCCGAAAGTACACCGTCCCCTGGGACGGTGACACAGGTAGGCAAATGGGGGTTCCAACGATTGACGGGACAGCCAGGGTGGGGTTTCTCTACGACGTGCGAGTAGACCTTTTTACAGTGCTCCTCATTCGCGATCGACCAAACGGGCAAGACTAGCCGACCGCACATTCTAAGATCCCGTGGTAATTGCCTGTAGAGTTAAAGCTCGCGCCCGATGCTACTATCCTACAGACCGATGGAGATCTGGAAGATGAAATCTTCCGTCAAGGTGGCAGTGAGGGACTGGTATATGGCCTACAGGGTTCTTAGCCCCCATGGGCGGTCAAGTTATGTATCACGAAAGAACCCGGACGCACTTTCCGCGTG',\n",
       "  'CG_rich'),\n",
       " ('ATTATCGAGTTAAATCTGATTGTAGCCATGATAGGGCTGGTCTCAAGAGGGCATGTGCATTGGCACATCTATATTAGCCAGGAACGGCGACTGTCGTATTGGAAATATTGTATGACGAGACCCTCTTCTAGTCTTCTCGATCATATGTTTCTCACCATTGTAGATGATAGCAATCAGGTTGACTTCTTTGAATTTCCAGTACCCAAATGGTGTTCACACGCGGGTTCACACCTACTAAACAAAGCTTCAGTGGGCGATTTACTTATGCTTCTATGCCTGGGCGGCCCGCATCGACCCGGAAGTACTATGCATTTTCATACAGACACAGATTCTTTGTATAAATTGTTCCTACTGATGACTACAATGACCTCAACGCCGGATTGCGACGATATCACTATGATCAAGTTTAAATCATAATTAATGTCGAATGTTACTTTGCGCATGCTAAACATCATATCGCCTATCGATCTCCTCATGTAACTGATATTCTTGCTTAACTGAAGCAACTTTAGACTCTTTGGTATGTTATAAAGGGAGTCTATCTAGTGGTGTATTCGGGAACGTATAATATGCAAATATAACAAGTGAATTATTAGTGGAGGCTAAGCTTTGACTGCTCGAACAGAAAGATCAACATATTTAAATCTGGCTTAGGTTGGAGAGACGTATCTCTATTTCTTGATACCGGCCC',\n",
       "  'AT_rich'),\n",
       " ('GTAAGAGAGGGTATGAGCCGACGCGAAGGAACTACCTCGCGATGGTCAGTCTAGCGAAGTTGGCGGTCGACATTCATTTCCCCAGCGAAAAACACGAGGGGGCGGGAATCGAATCGAGGCGGGTAGTCAAACGAAGGCATGGCCTCAAAGGCGCATAGAGATTAGTGGTTTAACCTAACGCGCCGACACGCTGCGTTAGTCAGCAAGGTGATCTTTAGGCGATGTCAATTGTCGGGATGCGGTGGTCACCCGCCGGATTATCTCTTCAGGCCGGGGGCCTTACGGCGGATATGACTCGGGAAGTCTGCCCAGAAAGCTTGGATGACCTGCGCCAGATCAGTCCCCACAAGGTAGACGCGCTTACGGGAAGTGCGGGAGGTACGGAGCCGGGCGAACCGGACCCCCCGGCTCATTATTTGCGGACACAAGAAAGGGCTCGGGAATTGCTTGGCAAAACCCGCTAAGGACTCGTGCGAGGGTGGTATCCATGGGCCTAGCAATTAAAATTTGTTTAGTCGTCTGTAAGAGGGATCGATGGGTCCATTCGACGTCGATCTATGGAGTCTTATAAGTTGGTGGTTCGTAGCTAAGCTTAGGAGATTTCTCTTACAGTGCGGTTTCCAGCATACGCGACTCATCCGGAACAAGGTGGGACCGGCGGGCACGTTGTATGCTTGGCTTCAGGGGTACTAAATATGACCGGGATTACGCGCGTAATCGCACTAAGAGTAAAGGCGAGGAAGGGCCCGATCTGAGCGATCTAGACGACCGATTTATACCGTGAGGTCCAACATCCGCCCCGAACAAAAGGACCCGGGCACAGTCCTCATAGTATGGTGTAAGAAGAGAGACTGTAGATGCGGTGAATATCGCGAGAGCGGGACAAATCAGCTATCCACTAGAACGACGGGTGCACACGTTGGCGGCGTTGGGACACCACCGGGGGGTCTTGGAACTGCACAGTCAGAAACTCCGGCGGCCACGAGAGCACCGACCCAACCGCGGATAGAAATAGGAGTATTCAAAAAAGGCGAGGAGCTGCACCCTGTTTTCGTAGTAAGCTATCGGGTCGGCGTCTATTGAAGGCCTCTAAGTTATCTGATACCTTTCAGTTAACGGGATGCCATACACACTACTATAAAGCGTATAGGACGTCTTCATGGCCGACGCGCATCCAGTGCAGTAACTCATGTTGATCCGCGTATTACCTCAGACTCAGTTCTGACCACATTGGCCGACCTTCCGGTTGTTCCGAGAACAAACATTCCTACTAATCGCCGAGCCCAACGTTGATAGAGGGACATGGTCACCCGTGCCGGCCCGTTCCTCTTGGCACGACCCGTCTAACGGCCTAAGCGCACGGCTGTGCATCGCGCAGTCTTAGGGCAACGCGTTTATCTCAGATAGTATTAGCGAAGACCCGCGCGTTGGTGGGCGCAGGCCCAAAGGAGGGCCAATTCCACACGGAATCGGGGCAAAGACACGACACCGGCACGGGGGTAGGCGCGCTGCAATCGGGGAGTGGGGAATACGTTTGCCACTCCGGTGGGTACGACGTCCGACTCAGGTCGACGTTGATCCCTCATTTGCGGAAACACGGAGGCCTCGGCCCTGGGCGACCTAACCCGCTATCGGGCGGGCTTTGACGTGAAGGCCCCCCAGCAACTCTGGAACTCGGGGAGATCACCTCTCGTTTAAGGTCCAACGGGTGTGCGGGCACCCAAATGCGACTAACCGATTGCGGGCCGTCCACGGGCAGCACGAGCCTGGCGTGTTAGAACCGTGAATAGAATAGAAGCATGTAAGTAGTCTCGCTGGATGCCAATGGGGGCCCACCAAATGCTTGACCACCATGAAGATAGGGATGAAACGGGGAATCCTTGACGCACTGCCGGACCCGGCAAGGTCTGGATTCAGCGAACCGCATAAAAAAAGCCGGGGGCAACAACCTCAGATATCCAACCTTCTGGCTGCCGGTACATGCGAGTATCAGGTACTATTGGGATTGACGCGCGCTATCGGAGGGAGTTGCGACAGGATGGAAGACTGTTATACGACACGCTGAGGACGTCTGGCGTGCGCTTCAGACGTGGGTCGAGTCGCCCTCGAAGACAGCGAAATACTCATGAGGCAAAGGGGACCCAAGAGGGAGGACGTAAAACAGACTAAAAGGTGTGCAGAGAGATAACCTTTAATGAATTGTAGTCGCGAAACACAAACGCGATGACGGTCATCAATAAGTCCGTGGGAGAAAGAGGGAGCTCCTTTGGAAACGGTCCTGGGGCGTTTTGCACAGGAGCAGAGCACCACGTACAAATTAAAGCCACCGGGGACTCTGTTAAACGACAGCCTGGTCCGGGTCTCCTTTGCAACGAGCCACTCGGCGAGATTTGGTTGAAACGAGAGTTTTTACTGACCAGTCCGATATCGTTAAGGTGGTGTTTACTTGGCTAGACGAACACCTAGGCGGTAGGACCGGTGCGTAGTGAGTGAGGAGAAGCGGCCAGCAGTTGGTAACCGGGGCTCCGGAGCACAATAAATCGCAACGTCCGTTTAGAAGTTGAACGAGGGAGTCTTCAGTGGACTTAACGCCAATATAAAGAGTCAATGGCAAGCCGCGTGTGAATCCCCTGCCAGTCCAATTCTGGGTTCCAGGAATTG',\n",
       "  'CG_rich'),\n",
       " ('AATATATTTTATTATTATCTGTCTGGGTCATGCCTGCTGATATTGTCATTCATTTCGTTCTTTTAGATCCTGAGCCGTTGTGCATCCTGCTGTACTCAATCATATCTGCAGAATTACATGTTTTAAGAGTCATTCTAAACTCCTACGATGTAGTGGTCGTTACGATGCGCATACGTAGTCTAGTTCGCGTTTTTAGTTTTCCGATGATAAGAATTGGTATTGAACGCCCATGACCAGTTCTACACAATCGACGTAACGAAAGTGGTGACTTGTTGGAAATGAAGTTTTTTCTAGCATGAAATATATCGGTCCGCCTTTTTTGCCTGAATGAGTCCACGTCTCATTTTCCATTTTCCTTGAATACCACTACAAGATAAGGGTGTACGGTCAATTTATAACCAGGGCACACTAGTCACGTCGTTAACAGGGTGTCATGAGACTCTACCTAATGCTCCGTGGGTGTTACACTTTTCAATACGAGTTCTCGTTATCGGAGTTATCTTGGTATCCCTTTTCTGCTTCACTGACTATAGAATGTGTCTTCATGAATTCTTACCTGTTCTGTTCATTCCGAATATACCCTGGGGATATGTTCTCTCGTGGCTTATCACATTTCAGTCTTGTTCATTTCTTTCATCTATATAAACAATTTATCAGAACGCATTCAAGGCCTACTTTAACGAGCAGTACATGAGCTACTACTCGCATATGTGCAAAATTACGTGTGCCCGTTTATTATGTAGCATGTCTCGATCCTGGCATCCTATAGGGAGCTGCATGTCAGGAGACTGCCATTCTTCCTGCCAAATCAATGTAATCGTGCTGGCTGTTGTGTTTCAGGCATCAAATTTCGCTTCCGTGTATTTTAAACGGACATTCGGAACGCTTTTTCTAGATGGTGAAGGAATCTAAGGGGTGAGGGTATATAAACGACCTGCTCATAACTTTTGCATATTCGGCACGATGGGTAGGCCAAAAAGTGAAAAGGCCGAAAA',\n",
       "  'AT_rich'),\n",
       " ('CTAGAGGACGGTCA', 'CG_rich'),\n",
       " ('TAGTGCGTTTCATGAATGATATTGTGAAGAATGTGTTAGATTTTAAGGTAACCTATCTTAATCGACTTCATCTATATCCTTCATCTTGCTTGGGTGAATTTACTGCCTTTTGCTCTGCTGTTTAGTTTCCCACACACGGTGATGAGCGTACAATTGCTCCTTAAATTGATATGATCATAAAGCCTACGGCGTCTGCAATGAATTCATCAGAATTCTTCTACAGAGAGCCAATGAAACTCTTAATTCATCTCTATCGACTAGTCCTCTTTCGTAGCGAAAGTGCATGTCAGTTTATCGGTTTGCCGACCAGCATTCATTTCTCTGTAAACCGCGTACTTATGATTTTAGATGCTAATGGGAGAAGGAGAGATGAAACCCTTGAATCCAAAAACAGTTAAATATTACAACTGCGGATGGAATTGGACGCGACCATGAGCTGTCAAATATCAATCTCAAAAAAGGTAAAATACCCCCCAATACCATCTTAGTACCTTAGAGACCTGCAGAAATTCGGACATGATTATTCCGCAGCCGAAAGTATAATACCACAATTATACTTTAACAATGGGTTCCATCTTTCTTAATCAATAAACCTTTGATGTATCGCATTCAATTACAATTTAAGTACGGTGTGTCTCAAATAATCTGTATAGGAGCAACATTAACTCGGTAACAGAACAAAATATTGCTGACAATCGTTAATTGCGGCCTTTTGTTCTGTTATATTCTGCAGAAG',\n",
       "  'AT_rich'),\n",
       " ('AATACATGACTCCGGCCCTAGGAACACACTCATCTGAAGACGGGTACCAGGACTAGGGACGTCGTACGTCGATGTGTGACTCCGCCGGTATGGGAACAAAGGACGCCACCTGTGCGACACTGGTTAAATCCATTGATTGGTTTGCCAGGGGCCCGCTATTAGACAGAAGTCGTGCCGGACCTCGTACCTGGAGCACGTCGGCGTTGACTATCATGTCGTTGCGGCCCCGTAAGACGCTCTGAAGGATTATACCAACCCAGAACGTCCAGCGTGATCAATTTCAATCTTCGTACGGTTCGTAGTCGAGCGTCGGTTGTCGTGCTGTAGGTAGGGGCAGAACCTTCTGTGGGGGACAACAAAGCCCGAGCTCCGAGAGCACGTGAGGATGAATCCGAATTATTGGCTAATTAGGCACATACGGCCGCACTACCACATAAGGATACACACGCTAGCACAGCAGCCGTTGGCCGGGAGAATCGGCTGGATCAGGAGAGTATCCGTGGTTCAGATAAGGTTTCCGGCGCACAATACTTCGAGGCGAGCAGGTTGGCTTATCGGGAACAAGGTCGCATCGCCTAAATTCGGCGAATTGAGTAAGAGGCACGGGCCGTAAGCCTAAGTGGGCTCCGGTGCATTGCCGGCTGGTGCGGATCCCCCTGAGCTGAGGACAACGAATGTTTGCGCGTGAGACTAGAGCTCCGCCATATGTGGGGTATTGTTGAGCGGGCCCGGCTGGTATACAGGACACGGCATGAAAGAAGTCTCACAACCAAGCGTCGGCTCTCAACGTTAACAAGAACGCGAATTGGGTGGAAAACCCGGATTGAGCCAACTGCCCGAAGGAGAGACGTGTCTCCGGGGCGTCCCGAGAGGCGGGAGGCTAGCCCAGTCTAAAACGAGCCCCATGGGGGTTGTCTGGCCTTGCAAGACGTCATAGCCCCACTACGCGAAAAATGAGCCTTGCGGCACACGTCTGGGCGCTAGATCACCGTATACGACTTAGCCTCAGACCAGAGACAGTGAGGCCCGGGAAATAGCCTGTGGTTGCGCATCCGGACCGTGAGCCGCTGGAATACGAGGCAGCGTGAGACTAGCTGCAATGCGAGTGCTGCGTTCGCTAAACCATGGGTCGCCACCCCGATGCACACCATGGGCTGTTGTTCAAGGGGGGATCCGCGAGTAATCCCAACCGCAGGTACGGGCATAGCTGGCCGGGTTCATAAGGGCGATAACTACGTGATAGTGGCCGTGCGGCCGAGTGAGGAGGAGGGAGTTCCCCGTTATATTATGGCCCGCGGAATGTTGGGTAGACTCGGAAACCGTCCACTGAGGGGACGTTTATACGGTTGATACAGGGCGCGACGGGGGGCTACTGAGACACGTCGTAGGACCTTCACCTGGAAGGCCAGGGTAGCACCTTCTGTGGTTGTACGGGGTCAGTTCGGGTCTTCCAGCCAAGTTTAGTCGAAAGGACGTTTGTAACAGAGCTGTCGCGTATCATAACGTTGATGCCAGGCGAGTGCAGGACGACGGGTCCATGAATGGAAACGGGCGGCGTCGATCCGTCGGAACTTGATATAGGTAGCGTGTACCACGTGAGGGTGATCTAGCTGGGTCGGTGCCGGAGGGCCTAGGTGGCGGCCAACGCGCAGGCTCTGGACGCCAAGTGACTGGATTTACACCGTCTGTGCTTTTACCCAGCATTAGTTGCGAAGCGCGTTGAGAGCCACGTCGTATATGCAGCCTGTAATCTTTTCGACGACGCATCTATACACTTCTTATATGACGATTCTAAAAGAGGTCGAGGGGCCCGATTCTCATTATGCGGAGCCGGGGACCGGTTGGGGCGTGTGCAGCACTTACTTTTATGACGAGGACAAGCTTTCCTCTTTCAGAGGCCGTGGTCGCCCGAAAGATATGCGGTCTGCCCCTGAGGATAGTGTCACCGTGGATCGGTGGATGGTCCGTGAGACACAGTTGTGGGGTCGTAAGACAGCGTTGCAACCGCGACTTATAAGGTAGTAGGCGGAGGGCGGATATATTGATCCGCATGCGCCCTCAAATAGCCCATAAGCAAGAGCCTGACGTTGGTTCTCCAGGTTTGGTTTACGGGGCTGGGTCTGGAGTAAATAGGAGGCGCAGGGAGGTGACGAGTGAGTCGATGGTAGAGGT',\n",
       "  'CG_rich'),\n",
       " ('CTCACAATGGCTCCATGGTGGGACACGCACCAGATTTATAGAAGCGTGATTCCGACAAACGCGTGTGCTTACGATTAGTTGAATAACAACTTAATAAGTGGTTGACTCGATCACAAACCTACCAAGATTCACGTAGATTGTTGTTTTTGGTTTCCTAGCTTGAGTAGTGCCCTCAATTCAGTTTTAGCAACAGAAGTGTATAATCCTCGAGATGATACTTTGCATTAAATCATTAGTAATGTTCTAAACTGAACAATTTCCACGTTTTTGTTTACTATCCCCGACACTGGTATATCTAATGTATTTCCAGTCTTGTGTCCAACTTGGTTAGGTTATTGAGGTCTGCTCCTCCGTATTTTACTTTGTTGCTTGAGACGAAGATGCGAATTATTGTTTAACAGAACCACCTGTATAGGCTCGGTCGCAGCACTAAAGTTTCTTCTTTTTTTCTCGAGACCTCGGTAGCACTGAGGACAGTTACCAAAGTTTCCGGAACTAACTGGAGACGCTGCCCTTTGTATTATCGATTTGCGTTAATTTGCTTAATTATGGCACACTTTCATGTAGTGATCTGCCGGGTCCAGTAGATGTAGTATGTCCTCGTGATGTCTGTTTTCTACAGGTCGTGTGGGGGTGTTTGTGATCCGCGGCTACGGCTCCCGGGCTTAACATTGAAAGGTGACGGTAAATACCTGCGTCACTTGATTATTACTTGTGGCGACATCTGCTATAGTGTAGAGCACCTTTAAAAACGCGCTTATACTAGTTCTAAGAGTCTTCAACGGTATTTGATCTTACGTTTAACTTAGGTTGAGTGTGTGTTATTTCAGGCTGTTGCAGAAACTACCGTCTCCTAATAAGTAAATGCCAGATCCCGCGAGAAATCATTGCCAATCATTTATAGAACCTATAGGACAGACGTAAATTCGCTATGTACGGAGCAAGTTATACGACAATATTTACATTATAACTTGTATTCCACCGACTTTCAAATTATGCAGCCTTGGCGGGTTCACCTTTGTAGAGTTGGCTGTCACCTTTTAGTCCAGTAAATACATTAACCACCGCTGGGGTGTAAAAGGACGAGTAATGCAACGCTCACTTGCACGGTCTAAGTTGAAGCCTTACGTTCACTAGGAAATACGAAATACCATAGGCATTTGATAGTGTTACATAGTCTAAAGATGTGGGGTGATGACTTATTAAGACTCTGTATAATCGCTGAGTTCAACTCGTGTTAATCCCAATATTCAGGTGCCTTAAACACTCATAAGCTGGTGTGGGATTGATTCCATTAAGTATGCAATCCTCTCCTCCTTTTTTCTAGACAAGTTATACAAGAATTGGTGTTATGATTTTGCAATATCTTTTTAACAACTTGCCAGGCCTTGAATTTTCGGAATTTCATCAGCGTCATACTCATCATCATTTACCTGAATATAATAGTGATAACGAAATTTCCTGATATTCCGATTTAGATGATAAGTCAAGACTGAGCTAAAGCTGTCATTGCAATCTCATCCTGAACTTGATTTTGCGCATTGTTTATCCAAGATCGCAACAGTTTTTAGCGATACATAGAATCATAATCCTTAGTCGGAGAATACCCGTTGTGGCTACCAAGGTCGTCCCCTGTGTCCCATACCGCTCTGAGTGTCGCAATAATCTACCTAATCAAGTCACTTTATACCCGACCCAATCTTAACACAAGTCTATTGCGAATAACACAATTGGCCTGGTGATTGATCACAAGATGGTTAGGGTAGGGGGCTTATTTTCCCGTGGTGGTTGTACTTAATTAGGTTCGGTTCGGTCTCGTACTTATCACCGGGGCTTCGATTTAGTAGAACGGGGACCTCTTGATAGAATTCTTGAAAATCATCTTTGCTAATCATCGATTTCACTAAGTATGGATCTGATGGCTGGGCCTCCCGGCGGTTGGTTAGCAACAAGCTTTAATCCACTCGAGCGATGCTACCTTTTTCAGGCGTAGCATTGATACTTTATGTGCCGTCCACCTGTACCCCCACCACTCAATCGTAATTCAATTTACCGTAAACTTATACTTGGATTGCCCTGCAATTTTAAAGTCACAAAAGAAGTCACACAAAGCGTCTATGGAAGCTTTCCTACACTGGTCAGTTATATCTGATTGTGAACTCGTTCCTTGATTCCAATCATTACGTACGTGAAACTGTCCAATGATTCATTGATTTCTCCTGTATTTGTTATGGCTTTGGTTCGAAAAACGAATGGACTTTTTAGACTCCAACTATTGGTGCTTTTGCTTTTAACTAGTATTACGAAACTTCAGCGATTTATAAAAAGCACAAACCGCGTTGTAGTAGGCTTGGCATGGACGCTGATATCTCAAATACGTAACAGTCCGCACCATTCTTACTTGAACTGTCAGAAATCATGTAGAATTCGGTTGGTTTGGCTTAGTGACTGGTATGGCGACGTATAGAATCTCTGGTGTTATGAGATCCAATATAATCGATAAGTCTGAGATCCCTAAGAATTTCATCTGCTATTGGTCTTAATTAAAGTGCAGTTTTGCCTGTCTAGCAAAGATTGCTCGGGACATCCTATGGGATAAGTCGAACTCGTAATAATCATGTAACTCTATGATCTAACCTATCCGTCGGCATCAAGCAGGGGGCGCATGCCGCACATAGATTCATAGGTTCCGTATTCACCCCCCGACCGTATGTTTCCTTATGATTACCTCAACCAAACTACAGATTGCGTATGTAAGAAGGCTTTAGATATACATCTTTTTAAGACCCATTTCGCGCACAAGGTTTTATTCATACTACTATTATAGTTCATTATTGATATGTTAAAATTGATATCTAAACTGCGACAAGACTAGGGTCCCCAATTCATAGGATATTGGACAGAAAGGTACTATTTATGAGAACGGATTATGGCCTATAAATCATCTTTGCTGACGCTAGATTGATTCGTTTCCTGCATTCTCAGCGGCGTTATTCTCGATACACACACTCGCAGTACAAGGTTTCGATGACAGGTGTCACTACTGAAACACATTACAACCTTCTCCGATCTTTACTATAAAGACAGAGCACTGGAGATATCGTCTAGATGGTCGGATATGTTTTTAGCATGATTGTGAGGCTCAATTGGAATGTCTCTGAATTAATGAGTTTGTCAGTCACAGGGTTCATATAACAATAGAGTGTACCGCGATATACTTGTTCTTTTCACATAGTTGTTGAGAGTGGAGAAACCTTAATAGGTAGTGCATGGTTCTTTTTGTATAATTAGATCTTTTGATCCGCTTTATTAGCCTTTGTGCCGCCTTTTATTCTGCGTTAAAAGATTGCGAGGGTGATGTGGTGGAATGTTTTCGTAGTGGACATAATGGTTCTAATGAAGCCTTAACGACTGTCTATTTCCCATTGACTAGGTGCGGGCTACTCTAAAATTACTATAGCCCGATAATGATCTTTTAACAATAATTCGAGCATCGATATACCTAGGTGCTCCCGGATGACCTGGTTAGCCTTTGTGTGTTCTTGATCCTACATAACAGGATAAACCCTATACAAATATAAATTTTCAAATGTTTAACGTGATAAGGGGACCCGGTACGGTAGGACAAGCCATTATGGATCTTTAATAGACTCACAGGTCGTAAAAGGTTGCGAGTAAGTGGACTCTACCTGGCTATAAGACATGGGCTTATCTAAGTGAAGCTTAAATTGAAAGGAAAAAAGAACATACTCACTGTGTCAAATCCGTCCGGTTTTACCTATTCCTGGGTTGATTCATATGGGTTACCGTATCAAACATTATTGAGTTGTATCGCCGGTGGCAATCAATATCGAGGCGTTCCGAAAATTTCAATCCAATCCATCTAACAGTAAAAAAACTGGATGGCGTAACCACTAGCGCTTATTAGAGTCTTCCTTTTTTACAGTAATCCTTATTAAACTATACTTCGAGCCACCTGTCCGGCGCGAGTCTCTTGCTACGGCCTTTCTGACGTGGGATTGAAACCTATACTGTATCAACGTATAAAAGATTTAGTGCGATAGGATTTGTTGTATCTAAAGGGTCAATATGACTCTTTACTACAACTCACATTTTGGTTGATACTAAGATCGCGGATTATGGTCTATGAACATAAATGCATGTATGGAGATTACTCTATGAGCACACATTACTAACACAATTTTGAAACCTCAGTCGTCGTAACTGAGATCCGCTTTCTATATGTTCCGTCGGTCAAATTG',\n",
       "  'AT_rich'),\n",
       " ('AAGCAGGGCGTGGATCAACCATAGGCACATGCTTAGGGATACCAGGACAGTGATGACGACGTACAGCTGCTTAGAACACGAGTGCAAGTAGGGAGTACGTGCAAGTTACAAAAGTAAGCGAGCTGATATAACGGACGTGGGGTGAAATCCTGGCGATAGGGCAGTACTCGCGGCATCCCCGTGACAGGTGTCGTCGGACCTAATAGGGGGTTCGAGACTTTCAATTTACTGCGTTGGGGCGTACCACGGTGTGGAGGCGTCCCCATCGAGGCCGCAGTGACGATCCCCAGATGTCGCAAGTTAATACTAATCGGTACCATCATATCATGGACTATGTGGATTCTCCTGTACACTCGCAGATACACCGTAGCGAGGACACGCCGGACACGCTAATCACTGCCCGTGGTAGCCACATAGGTCCCCTACAGCTCCGACCCGTTGGCATATACCTGTAGCGGTAATGTGCTGAATAGGTTGCGTGCCCACCTCGGCAACCGGACAAAAGCAAAAGCACCGGGCCAAGCGGGCGAAGTCATAGCCTATCTACTGGTTAGCCGGGAGTGTGTGCAAGCAGGGGCGATGATGTGACGCAACCCAGCTCCCCAGGGATTGTGCATAGGCGAACTGAGAGAGAAGGAGTGATCCCTTGCCCCGTGTTGCTGTGCAGGTTGACAATTCGCTAACTTGCCGGTTAGGGCTTCGTGGAAAGATTCCACGCAAGCCAGGACCAATGGGGAATGATCTCTAAGCATCCTACCCTATGATAGCTTCTTGAGTTCAGAGGGAGGAGCCGGAGTCCATCCACGCCGCGTCTGAAAGGTGTGCCCTCTAGTCTCGGGCTTCTTTACGGGCTGAACGAGGTGCATGGTAACGCCTCGTTTCTGAGGACTAGGGGTGGTCGTTCAGTCAAAGGTTGGCATGGGAGGTTACGATATGCCTCTAGTTAGATGGGGAATAGCGCTGCTGTCCTATGCTTCATTCACTGCTACTTCGACAGAATAAGGGCTAATGGCCCGTGCGACACACCAATACTCAGGGCCTCAGTGGGCGGGACACTCGCGTCGCCTGGCGGCGCCCTTCTAATGCTACTATTAGGCGCCCTCCAGAGCCCAGTGACTACCTCTGTTGCCAGCCCTATGGTGCGCAGAACATTTGATACAAGGAACTGAGCGTTCTT',\n",
       "  'CG_rich'),\n",
       " ('TCTTTAAATTGCCCGCCCATATATGCGACAGCTACTTTGGTCCTCGTCTTGGTGCCTGTCAAGTCTGTAGCTTTAACATTGCTGACCATTTCGTGAGACCAGTTTCACATAAGACCCTTTCTGTATTCTGTCATTGTATCCGTCCCGAACAGTGAGAACCCCCGTTACCAGTACAGGTGAACGTCTTCACCAGCGGGGTCCTGCTAATGAGTTAATTAGCAGATTGTTGTGCCATATTTGTCAACATAGAAAACGATGACAGCCTAATCTCACGCATTGAGCCTAGCTTTTGCGCTCGGAGTCCACCTCAACAATGACCTTCCCGACGATCTTCTCATCAACCGTAAATTGGGCGTAATATTTCTATCGGCTAGTGAGATGGTAGGATGTATGTTTTGATATACGTTTTATAAAGCTACTCAATGCTTTGTAATTTTTTATCTGACCATATTTTTTATGTGCTATTTTAGAGTGGTCGGGTCTATGAATTGCCCGTAGTCAATATAGTTTATTAAACGTTGTATATTATCGGCAACTGAAAGACATAAGAGCAACTTTTTAATAGGTCGAACTCTTGTGTCGACTCAACAGCACCTCCGGTAATACAAATTGTTTTTGTCTACTTTTACTACGGCGCGTACTTGGAGGTTACTGACGATGATTAACGCCGTCCCAATTATCCCCTTGTTTCTAAGTTTAACGACTCTCAGGTGGAAGCACTGACTTTAGAAATTTCGTTATCCCACACGCCCTGTATCTAACTCGTTGAAGTAAAGGCTCTCTCATAGAAGATTTGGTGAAGTCTACCTGCATCACATTGTGGACTGTTGAATTCCTCTTAACTTGAAGTATGTAATAATCGTGCGGCATTTACATTTGCACAATTTGAGGTTTAAGCTATAACGAAAATCAAGAGAGGTTCTCATCTTATGCCATAACGGAGGATCAGAGTTGTTCATGTATTTGATATTAGATCTTTTTTAAGGTGTAAAACTACCTTCTGTTTATTGTCCTTGGTAATTAATTAAGAAAATATTTTAGTAGTCTTGCGTTGCTGTTAGGATGCGTTGCAGACCCTTAGGATTGGTCTTTTTTAATTAGGACTCTGTATCGCCATTTGTATACATAGCTTGTCTTCTAGGAGCGACAATTCCTGCTATTTTAGCTCCAGGTACGTTATCATATAGTTAAAACTATAATTTGAATCTAAGACCAACGTTATCATCCCAAACAAAATTAGGGGTAGTTACTAACTTATGAA',\n",
       "  'AT_rich')]"
      ]
     },
     "execution_count": 101,
     "metadata": {},
     "output_type": "execute_result"
    }
   ],
   "source": [
    "result"
   ]
  },
  {
   "cell_type": "code",
   "execution_count": 102,
   "metadata": {},
   "outputs": [
    {
     "data": {
      "text/plain": [
       "48502"
      ]
     },
     "execution_count": 102,
     "metadata": {},
     "output_type": "execute_result"
    }
   ],
   "source": [
    "sum(list(map(lambda x: len(x[0]), result)))"
   ]
  },
  {
   "cell_type": "code",
   "execution_count": null,
   "metadata": {},
   "outputs": [],
   "source": []
  }
 ],
 "metadata": {
  "kernelspec": {
   "display_name": "Python 3",
   "language": "python",
   "name": "python3"
  },
  "language_info": {
   "codemirror_mode": {
    "name": "ipython",
    "version": 3
   },
   "file_extension": ".py",
   "mimetype": "text/x-python",
   "name": "python",
   "nbconvert_exporter": "python",
   "pygments_lexer": "ipython3",
   "version": "3.8.3"
  }
 },
 "nbformat": 4,
 "nbformat_minor": 4
}
