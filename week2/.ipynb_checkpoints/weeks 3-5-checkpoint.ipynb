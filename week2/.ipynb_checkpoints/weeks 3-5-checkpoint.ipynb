{
 "cells": [
  {
   "cell_type": "code",
   "execution_count": 12,
   "metadata": {},
   "outputs": [],
   "source": [
    "import numpy as np"
   ]
  },
  {
   "cell_type": "code",
   "execution_count": 14,
   "metadata": {},
   "outputs": [],
   "source": [
    "#the log odds of one amino acid being substituted by another\n",
    "blosum50 = np.loadtxt(\"blosum50.txt\", dtype = 'i')"
   ]
  },
  {
   "cell_type": "code",
   "execution_count": 15,
   "metadata": {},
   "outputs": [
    {
     "data": {
      "text/plain": [
       "array([[ 5, -2, -1, -2, -1, -1, -1,  0, -2, -1, -2, -1, -1, -3, -1,  1,\n",
       "         0, -3, -2,  0],\n",
       "       [-2,  7, -1, -2, -4,  1,  0, -3,  0, -4, -3,  3, -2, -3, -3, -1,\n",
       "        -1, -3, -1, -3],\n",
       "       [-1, -1,  7,  2, -2,  0,  0,  0,  1, -3, -4,  0, -2, -4, -2,  1,\n",
       "         0, -4, -2, -3],\n",
       "       [-2, -2,  2,  8, -4,  0,  2, -1, -1, -4, -4, -1, -4, -5, -1,  0,\n",
       "        -1, -5, -3, -4],\n",
       "       [-1, -4, -2, -4, 13, -3, -3, -3, -3, -2, -2, -3, -2, -2, -4, -1,\n",
       "        -1, -5, -3, -1],\n",
       "       [-1,  1,  0,  0, -3,  7,  2, -2,  1, -3, -2,  2,  0, -4, -1,  0,\n",
       "        -1, -1, -1, -3],\n",
       "       [-1,  0,  0,  2, -3,  2,  6, -3,  0, -4, -3,  1, -2, -3, -1, -1,\n",
       "        -1, -3, -2, -3],\n",
       "       [ 0, -3,  0, -1, -3, -2, -3,  8, -2, -4, -4, -2, -3, -4, -2,  0,\n",
       "        -2, -3, -3, -4],\n",
       "       [-2,  0,  1, -1, -3,  1,  0, -2, 10, -4, -3,  0, -1, -1, -2, -1,\n",
       "        -2, -3,  2, -4],\n",
       "       [-1, -4, -3, -4, -2, -3, -4, -4, -4,  5,  2, -3,  2,  0, -3, -3,\n",
       "        -1, -3, -1,  4],\n",
       "       [-2, -3, -4, -4, -2, -2, -3, -4, -3,  2,  5, -3,  3,  1, -4, -3,\n",
       "        -1, -2, -1,  1],\n",
       "       [-1,  3,  0, -1, -3,  2,  1, -2,  0, -3, -3,  6, -2, -4, -1,  0,\n",
       "        -1, -3, -2, -3],\n",
       "       [-1, -2, -2, -4, -2,  0, -2, -3, -1,  2,  3, -2,  7,  0, -3, -2,\n",
       "        -1, -1,  0,  1],\n",
       "       [-3, -3, -4, -5, -2, -4, -3, -4, -1,  0,  1, -4,  0,  8, -4, -3,\n",
       "        -2,  1,  4, -1],\n",
       "       [-1, -3, -2, -1, -4, -1, -1, -2, -2, -3, -4, -1, -3, -4, 10, -1,\n",
       "        -1, -4, -3, -3],\n",
       "       [ 1, -1,  1,  0, -1,  0, -1,  0, -1, -3, -3,  0, -2, -3, -1,  5,\n",
       "         2, -4, -2, -2],\n",
       "       [ 0, -1,  0, -1, -1, -1, -1, -2, -2, -1, -1, -1, -1, -2, -1,  2,\n",
       "         5, -3, -2,  0],\n",
       "       [-3, -3, -4, -5, -5, -1, -3, -3, -3, -3, -2, -3, -1,  1, -4, -4,\n",
       "        -3, 15,  2, -3],\n",
       "       [-2, -1, -2, -3, -3, -1, -2, -3,  2, -1, -1, -2,  0,  4, -3, -2,\n",
       "        -2,  2,  8, -1],\n",
       "       [ 0, -3, -3, -4, -1, -3, -3, -4, -4,  4,  1, -3,  1, -1, -3, -2,\n",
       "         0, -3, -1,  5]], dtype=int32)"
      ]
     },
     "execution_count": 15,
     "metadata": {},
     "output_type": "execute_result"
    }
   ],
   "source": [
    "blosum50"
   ]
  },
  {
   "cell_type": "code",
   "execution_count": 32,
   "metadata": {},
   "outputs": [],
   "source": [
    "#map the characters with their indices\n",
    "blosum_index_map = dict(zip(['A','R','N','D','C','Q','E','G','H','I','L','K',\n",
    "                    'M','F','P','S','T','W','Y','V'],\n",
    "                      [i for i in range(len(blosum50))]))"
   ]
  },
  {
   "cell_type": "code",
   "execution_count": 60,
   "metadata": {},
   "outputs": [
    {
     "data": {
      "text/plain": [
       "{'A': 0,\n",
       " 'R': 1,\n",
       " 'N': 2,\n",
       " 'D': 3,\n",
       " 'C': 4,\n",
       " 'Q': 5,\n",
       " 'E': 6,\n",
       " 'G': 7,\n",
       " 'H': 8,\n",
       " 'I': 9,\n",
       " 'L': 10,\n",
       " 'K': 11,\n",
       " 'M': 12,\n",
       " 'F': 13,\n",
       " 'P': 14,\n",
       " 'S': 15,\n",
       " 'T': 16,\n",
       " 'W': 17,\n",
       " 'Y': 18,\n",
       " 'V': 19}"
      ]
     },
     "execution_count": 60,
     "metadata": {},
     "output_type": "execute_result"
    }
   ],
   "source": [
    "blosum_index_map"
   ]
  },
  {
   "cell_type": "code",
   "execution_count": 36,
   "metadata": {},
   "outputs": [],
   "source": [
    "#given the bases to consider swapping, get the blosum log probability score of swapping them\n",
    "#by looking up the corresponding index of the chars and then accessing that index of the matrix \n",
    "def get_blosum_score(char1, char2):\n",
    "    i = blosum_index_map[char1]\n",
    "    j = blosum_index_map[char2]\n",
    "    return blosum50[i][j]"
   ]
  },
  {
   "cell_type": "code",
   "execution_count": 147,
   "metadata": {},
   "outputs": [],
   "source": [
    "#assumes that the blosum50 field is accessible in its environment\n",
    "def needleman_wunsch(str1, str2):\n",
    "    \n",
    "    #our penalty score\n",
    "    d = -8\n",
    "    \n",
    "    #initialize an empty matrix\n",
    "    height = len(str1) + 1\n",
    "    width = len(str2) + 1\n",
    "    \n",
    "    #explicitly object data type so that we can store tuples\n",
    "    matrix = np.zeros((height, width), dtype = \"object\")\n",
    "    \n",
    "    #initialization step, mark the cells at the sides of the matrix\n",
    "    #as incrementing by the penalty, and mark the \"arrow\" directions all as north/west\n",
    "    count = 0\n",
    "    for i in range(width):\n",
    "        matrix[0][i] = (count,\"w\")\n",
    "        count += d\n",
    "    count = 0\n",
    "    for i in range(height):\n",
    "        matrix[i][0] = (count, \"n\")\n",
    "        count +=d\n",
    "    \n",
    "    for i in range(1, height):\n",
    "        \n",
    "        for j in range(1, width):\n",
    "            \n",
    "            char1 = str1[i - 1]\n",
    "            char2 = str2[j - 1]\n",
    "            score = get_blosum_score(char2, char1)\n",
    "            \n",
    "            #direct implementation of the dynamic programming step\n",
    "            matrix[i][j] = max([\n",
    "                #each cell contains a tuple of score and direction so extract the score\n",
    "                (matrix[i-1][j-1][0] + score,\"nw\"),\n",
    "                (matrix[i-1][j][0] + d,\"n\"),\n",
    "                (matrix[i][j-1][0] + d,\"w\")\n",
    "            ], key = lambda tup: tup[0])\n",
    "    \n",
    "    print(matrix)\n",
    "    \n",
    "    #F matrix has been generated, now need to perform backwards algorithm\n",
    "    #start at the bottom right of the matrix\n",
    "    i = height - 1\n",
    "    j = width - 1\n",
    "    \n",
    "    #path of cell transitions we will build up\n",
    "    path = []\n",
    "    \n",
    "    while True:\n",
    "\n",
    "        print(\"Path contents:\", path)\n",
    "        \n",
    "        #end condition, we have retraced the path\n",
    "        if i == 0 and j == 0:\n",
    "            break\n",
    "        \n",
    "        #the direction we need to go in\n",
    "        dr = matrix[i][j][1]\n",
    "        \n",
    "        print(\"at indices:\",i,j,\"and the dir is:\",dr)\n",
    "        \n",
    "        if dr == \"nw\":\n",
    "            path.append(((i,j),(i - 1,j - 1)))\n",
    "            i -= 1\n",
    "            j -= 1\n",
    "            continue\n",
    "        if dr == \"n\":\n",
    "            path.append(((i,j),(i - 1, j)))\n",
    "            i -= 1\n",
    "            continue\n",
    "        if dr == \"w\":\n",
    "            path.append(((i,j),(i, j - 1)))\n",
    "            j -= 1\n",
    "        \n",
    "        "
   ]
  },
  {
   "cell_type": "code",
   "execution_count": 148,
   "metadata": {},
   "outputs": [
    {
     "name": "stdout",
     "output_type": "stream",
     "text": [
      "[[(0, 'n') (-8, 'w') (-16, 'w') (-24, 'w') (-32, 'w') (-40, 'w')\n",
      "  (-48, 'w') (-56, 'w') (-64, 'w') (-72, 'w') (-80, 'w')]\n",
      " [(-8, 'n') (-2, 'nw') (-9, 'nw') (-17, 'nw') (-25, 'w') (-33, 'nw')\n",
      "  (-41, 'w') (-49, 'w') (-57, 'w') (-65, 'nw') (-73, 'nw')]\n",
      " [(-16, 'n') (-10, 'nw') (-3, 'nw') (-4, 'nw') (-12, 'w') (-20, 'nw')\n",
      "  (-28, 'w') (-36, 'w') (-44, 'w') (-52, 'w') (-60, 'w')]\n",
      " [(-24, 'n') (-18, 'n') (-11, 'n') (-6, 'nw') (-7, 'nw') (-15, 'nw')\n",
      "  (-5, 'nw') (-13, 'w') (-21, 'w') (-29, 'w') (-37, 'w')]\n",
      " [(-32, 'n') (-14, 'nw') (-18, 'nw') (-13, 'nw') (-8, 'nw') (-9, 'nw')\n",
      "  (-13, 'n') (-7, 'nw') (-3, 'nw') (-11, 'w') (-19, 'w')]\n",
      " [(-40, 'n') (-22, 'n') (-8, 'nw') (-16, 'w') (-16, 'nw') (-9, 'nw')\n",
      "  (-12, 'nw') (-15, 'n') (-7, 'nw') (3, 'nw') (-5, 'nw')]\n",
      " [(-48, 'n') (-30, 'n') (-16, 'n') (-3, 'nw') (-11, 'w') (-11, 'nw')\n",
      "  (-12, 'nw') (-12, 'nw') (-15, 'n') (-5, 'n') (2, 'nw')]\n",
      " [(-56, 'n') (-38, 'n') (-24, 'nw') (-11, 'n') (-6, 'nw') (-12, 'nw')\n",
      "  (-14, 'nw') (-15, 'nw') (-12, 'nw') (-9, 'nw') (1, 'nw')]]\n",
      "Path contents: []\n",
      "at indices: 7 10 and the dir is: nw\n",
      "Path contents: [((7, 10), (6, 9))]\n",
      "at indices: 6 9 and the dir is: n\n",
      "Path contents: [((7, 10), (6, 9)), ((6, 9), (5, 9))]\n",
      "at indices: 5 9 and the dir is: nw\n",
      "Path contents: [((7, 10), (6, 9)), ((6, 9), (5, 9)), ((5, 9), (4, 8))]\n",
      "at indices: 4 8 and the dir is: nw\n",
      "Path contents: [((7, 10), (6, 9)), ((6, 9), (5, 9)), ((5, 9), (4, 8)), ((4, 8), (3, 7))]\n",
      "at indices: 3 7 and the dir is: w\n",
      "Path contents: [((7, 10), (6, 9)), ((6, 9), (5, 9)), ((5, 9), (4, 8)), ((4, 8), (3, 7)), ((3, 7), (3, 6))]\n",
      "at indices: 3 6 and the dir is: nw\n",
      "Path contents: [((7, 10), (6, 9)), ((6, 9), (5, 9)), ((5, 9), (4, 8)), ((4, 8), (3, 7)), ((3, 7), (3, 6)), ((3, 6), (2, 5))]\n",
      "at indices: 2 5 and the dir is: nw\n",
      "Path contents: [((7, 10), (6, 9)), ((6, 9), (5, 9)), ((5, 9), (4, 8)), ((4, 8), (3, 7)), ((3, 7), (3, 6)), ((3, 6), (2, 5)), ((2, 5), (1, 4))]\n",
      "at indices: 1 4 and the dir is: w\n",
      "Path contents: [((7, 10), (6, 9)), ((6, 9), (5, 9)), ((5, 9), (4, 8)), ((4, 8), (3, 7)), ((3, 7), (3, 6)), ((3, 6), (2, 5)), ((2, 5), (1, 4)), ((1, 4), (1, 3))]\n",
      "at indices: 1 3 and the dir is: nw\n",
      "Path contents: [((7, 10), (6, 9)), ((6, 9), (5, 9)), ((5, 9), (4, 8)), ((4, 8), (3, 7)), ((3, 7), (3, 6)), ((3, 6), (2, 5)), ((2, 5), (1, 4)), ((1, 4), (1, 3)), ((1, 3), (0, 2))]\n",
      "at indices: 0 2 and the dir is: w\n",
      "Path contents: [((7, 10), (6, 9)), ((6, 9), (5, 9)), ((5, 9), (4, 8)), ((4, 8), (3, 7)), ((3, 7), (3, 6)), ((3, 6), (2, 5)), ((2, 5), (1, 4)), ((1, 4), (1, 3)), ((1, 3), (0, 2)), ((0, 2), (0, 1))]\n",
      "at indices: 0 1 and the dir is: w\n",
      "Path contents: [((7, 10), (6, 9)), ((6, 9), (5, 9)), ((5, 9), (4, 8)), ((4, 8), (3, 7)), ((3, 7), (3, 6)), ((3, 6), (2, 5)), ((2, 5), (1, 4)), ((1, 4), (1, 3)), ((1, 3), (0, 2)), ((0, 2), (0, 1)), ((0, 1), (0, 0))]\n"
     ]
    }
   ],
   "source": [
    "needleman_wunsch(\"PAWHEAE\", \"HEAGAWGHEE\")"
   ]
  },
  {
   "cell_type": "code",
   "execution_count": null,
   "metadata": {},
   "outputs": [],
   "source": []
  }
 ],
 "metadata": {
  "kernelspec": {
   "display_name": "Python 3",
   "language": "python",
   "name": "python3"
  },
  "language_info": {
   "codemirror_mode": {
    "name": "ipython",
    "version": 3
   },
   "file_extension": ".py",
   "mimetype": "text/x-python",
   "name": "python",
   "nbconvert_exporter": "python",
   "pygments_lexer": "ipython3",
   "version": "3.8.3"
  }
 },
 "nbformat": 4,
 "nbformat_minor": 4
}
