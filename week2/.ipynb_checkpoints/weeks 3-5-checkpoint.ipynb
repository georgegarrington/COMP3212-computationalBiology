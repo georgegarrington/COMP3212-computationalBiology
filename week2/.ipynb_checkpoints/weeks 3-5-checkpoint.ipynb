{
 "cells": [
  {
   "cell_type": "code",
   "execution_count": 1,
   "metadata": {},
   "outputs": [],
   "source": [
    "import numpy as np"
   ]
  },
  {
   "cell_type": "markdown",
   "metadata": {},
   "source": [
    "# Task 1: Write a program to implement Needleman-Wunsch for proteins\n",
    "\n",
    "The np library function is used to parse the text file containing a matrix of numbers into a numpy nd array, and then a dictionary is created mapping the letters of the blosum table in the correct order to indices so as to be able to access scores at an index of the blosum50 table corresponding to 2 chars with the get_blosum_score function:"
   ]
  },
  {
   "cell_type": "code",
   "execution_count": 503,
   "metadata": {},
   "outputs": [],
   "source": [
    "#the log odds of one amino acid being substituted by another\n",
    "blosum50 = np.loadtxt(\"blosum50.txt\", dtype = 'i')"
   ]
  },
  {
   "cell_type": "code",
   "execution_count": 32,
   "metadata": {},
   "outputs": [],
   "source": [
    "#map the characters with their indices\n",
    "blosum_index_map = dict(zip(['A','R','N','D','C','Q','E','G','H','I','L','K',\n",
    "                'M','F','P','S','T','W','Y','V'],\n",
    "                  [i for i in range(len(blosum50))]))\n",
    "\n",
    "#given the bases to consider swapping, get the blosum log probability score of swapping them\n",
    "#by looking up the corresponding index of the chars and then accessing that index of the matrix \n",
    "def get_blosum_score(char1, char2):\n",
    "    i = blosum_index_map[char1]\n",
    "    j = blosum_index_map[char2]\n",
    "    return blosum50[i][j]"
   ]
  },
  {
   "cell_type": "markdown",
   "metadata": {},
   "source": [
    "## Needleman-Wunsch implementation\n",
    "\n",
    "For implementing dynamic programming, I believe the most elegant technique is to store \"pointers\" directly in the elements of the matrix as was discussed in the lecture, so the \"direction\" that the current cell \"came from\" whose value results in the maximum value is marked with either \"n\", \"w\" or \"nw\" corresponing to north, west or north-west. \n",
    "\n",
    "By doing this, once our \"forward step\" is finished, in our \"backward step\" we simply start from the bottom right corner of the matrix and can retrace this path direction: when moving \"north west\" no characters were substitued or eliminated so the character at the relative i/j indices in both strings stays the same, if we move \"west\" then we know a character was eliminated from the string along the \"left\" of the matrix so we append a dash to represent this, similarly if we move \"north\" then we know a character was eliminated from the string along the \"top\" of the matrix so we also apend a dash to represent this. \n",
    "\n",
    "Once we reach the top left of the matrix our backward step is complete and the function prints the resulting strings that show eliminations/substitutions."
   ]
  },
  {
   "cell_type": "code",
   "execution_count": 508,
   "metadata": {},
   "outputs": [],
   "source": [
    "#assumes that the blosum50 field is accessible in its environment\n",
    "def needleman_wunsch(str2, str1):\n",
    "    \n",
    "    #our penalty score\n",
    "    d = -8\n",
    "    \n",
    "    #str1 is the chars on the \"left\" of the matrix\n",
    "    #str2 is the chars along the \"top\" of the matrix\n",
    "    \n",
    "    height = len(str1) + 1\n",
    "    width = len(str2) + 1\n",
    "    \n",
    "    #explicitly object data type so that we can store tuples\n",
    "    matrix = np.zeros((height, width), dtype = \"object\")\n",
    "    \n",
    "    #initialization step, mark the cells at the sides of the matrix\n",
    "    #as incrementing by the penalty, and mark the \"arrow\" directions all as north/west\n",
    "    count = 0\n",
    "    for i in range(width):\n",
    "        matrix[0][i] = (count,\"w\")\n",
    "        count += d\n",
    "    count = 0\n",
    "    for i in range(height):\n",
    "        matrix[i][0] = (count, \"n\")\n",
    "        count +=d\n",
    "    \n",
    "    for i in range(1, height):\n",
    "        \n",
    "        for j in range(1, width):\n",
    "            \n",
    "            char1 = str1[i - 1]\n",
    "            char2 = str2[j - 1]\n",
    "            score = get_blosum_score(char2, char1)\n",
    "            \n",
    "            #direct implementation of the dynamic programming step\n",
    "            matrix[i][j] = max([\n",
    "                (matrix[i-1][j-1][0] + score,\"nw\"),\n",
    "                (matrix[i-1][j][0] + d,\"n\"),\n",
    "                (matrix[i][j-1][0] + d,\"w\")\n",
    "            ], key = lambda tup: tup[0])\n",
    "        \n",
    "    #F matrix has been generated, now need to perform backwards algorithm\n",
    "    #start at the bottom right of the matrix\n",
    "    i = height - 1\n",
    "    j = width - 1\n",
    "    \n",
    "    #path of cell transitions we will build up\n",
    "    path = []\n",
    "    \n",
    "    #the 2 string substitution visualizations we will build up\n",
    "    str1sub = \"\"\n",
    "    str2sub = \"\"\n",
    "    \n",
    "    while True:\n",
    "        \n",
    "        #end condition, we have retraced the path\n",
    "        if i == 0 and j == 0:\n",
    "            break\n",
    "        \n",
    "        #the direction we need to go in\n",
    "        dr = matrix[i][j][1]\n",
    "        \n",
    "        #chars stayed the same\n",
    "        if dr == \"nw\":\n",
    "            path.append((i,j))\n",
    "            str1sub += str1[i - 1]\n",
    "            str2sub += str2[j - 1]\n",
    "            i -= 1\n",
    "            j -= 1\n",
    "            continue\n",
    "        \n",
    "        #eliminate char from str2\n",
    "        if dr == \"n\":\n",
    "            path.append((i,j))\n",
    "            str1sub += str1[i - 1]\n",
    "            str2sub += '-'\n",
    "            i -= 1\n",
    "            continue\n",
    "        \n",
    "        #eliminate char from str1\n",
    "        if dr == \"w\":\n",
    "            path.append((i,j))\n",
    "            str1sub += '-'\n",
    "            str2sub += str2[j - 1]\n",
    "            j -= 1\n",
    "    \n",
    "    path.append((0,0))\n",
    "    \n",
    "    print(\"\\nIndices of path found starting from bottom right:\\n\\n\" + str(path) + \"\\n\")\n",
    "    \n",
    "    print(\"\\nString comparison, dashes represent if a character was eliminated:\\n\\n\")\n",
    "    #reverse the strings as they have been built up backwards\n",
    "    print(str2sub[::-1] + \"\\n\")\n",
    "    print(str1sub[::-1] + \"\\n\\n\")  "
   ]
  },
  {
   "cell_type": "code",
   "execution_count": 509,
   "metadata": {},
   "outputs": [
    {
     "name": "stdout",
     "output_type": "stream",
     "text": [
      "\n",
      "Indices of path found starting from bottom right:\n",
      "\n",
      "[(7, 10), (6, 9), (5, 9), (4, 8), (3, 7), (3, 6), (2, 5), (1, 4), (1, 3), (0, 2), (0, 1), (0, 0)]\n",
      "\n",
      "\n",
      "String comparison, dashes represent if a character was eliminated:\n",
      "\n",
      "\n",
      "HEAGAWGHE-E\n",
      "\n",
      "--P-AW-HEAE\n",
      "\n",
      "\n"
     ]
    }
   ],
   "source": [
    "needleman_wunsch(\"HEAGAWGHEE\", \"PAWHEAE\")"
   ]
  },
  {
   "cell_type": "code",
   "execution_count": 510,
   "metadata": {},
   "outputs": [
    {
     "name": "stdout",
     "output_type": "stream",
     "text": [
      "\n",
      "Indices of path found starting from bottom right:\n",
      "\n",
      "[(34, 33), (33, 33), (32, 32), (31, 31), (30, 30), (29, 29), (28, 28), (27, 27), (26, 26), (25, 25), (24, 24), (23, 23), (22, 22), (21, 21), (20, 20), (19, 19), (18, 18), (17, 17), (16, 16), (15, 15), (14, 14), (13, 13), (13, 12), (12, 11), (11, 10), (10, 9), (9, 8), (8, 7), (7, 6), (6, 5), (5, 4), (4, 3), (3, 2), (2, 1), (1, 0), (0, 0)]\n",
      "\n",
      "\n",
      "String comparison, dashes represent if a character was eliminated:\n",
      "\n",
      "\n",
      "-SALPQPTTPVSSFTSGSMLGRTDTALTNTYSAL-\n",
      "\n",
      "PSPTMEAVTSVEA-STASHPHSTSSYFATTYYHLY\n",
      "\n",
      "\n"
     ]
    }
   ],
   "source": [
    "needleman_wunsch(\"SALPQPTTPVSSFTSGSMLGRTDTALTNTYSAL\", \"PSPTMEAVTSVEASTASHPHSTSSYFATTYYHLY\")"
   ]
  },
  {
   "cell_type": "markdown",
   "metadata": {},
   "source": [
    "# Task 2: Smith-Waterman implementation\n",
    "\n",
    "As was dicussed in lectures, the Smith-Waterman algorithm is nearly identical except we now add an extra constraint to ensure no cells in our F matrix can be negative. When generating the backwards path, instead of starting from the bottom right of the matrix we now instead start from the maximum cell of the matrix so the location of this is stored in a variable such that once our \"forward step\" is finished, we know exactly which cell to start from and follow our direction strings stored in the tuple at each cell until we reach a cell containing a 0."
   ]
  },
  {
   "cell_type": "code",
   "execution_count": 511,
   "metadata": {},
   "outputs": [],
   "source": [
    "#assumes that the blosum50 field is accessible in its environment\n",
    "def smith_waterman(str2, str1):\n",
    "    \n",
    "    #our penalty score\n",
    "    d = -8\n",
    "    \n",
    "    #str1 is the chars along the \"left\" of the matrix\n",
    "    #str2 is the chars along the \"right\" of the matrix\n",
    "    \n",
    "    #initialize an empty matrix\n",
    "    height = len(str1) + 1\n",
    "    width = len(str2) + 1\n",
    "    \n",
    "    #explicitly object data type so that we can store tuples\n",
    "    matrix = np.zeros((height, width), dtype = \"object\")\n",
    "    \n",
    "    #the cells at the edges are now marked as zeroes\n",
    "    for i in range(width):\n",
    "        matrix[0][i] = (0,\"zero\")\n",
    "    for i in range(height):\n",
    "        matrix[i][0] = (0, \"zero\")\n",
    "    \n",
    "    #keep track of the max seen \n",
    "    max_seen = 0\n",
    "    #also keep track of its index\n",
    "    max_index = (0,0)\n",
    "    \n",
    "    for i in range(1, height):\n",
    "        \n",
    "        for j in range(1, width):\n",
    "            \n",
    "            char1 = str1[i - 1]\n",
    "            char2 = str2[j - 1]\n",
    "            score = get_blosum_score(char2, char1)\n",
    "            \n",
    "            #direct implementation of the dynamic programming step\n",
    "            matrix[i][j] = max([\n",
    "                #the new case added for smith waterman\n",
    "                (0, \"zero\"),\n",
    "                #each cell contains a tuple of score and direction so extract the score\n",
    "                (matrix[i-1][j-1][0] + score,\"nw\"),\n",
    "                (matrix[i-1][j][0] + d,\"n\"),\n",
    "                (matrix[i][j-1][0] + d,\"w\")\n",
    "            ], key = lambda tup: tup[0])\n",
    "            \n",
    "            #keep track of the biggest cell value found as this\n",
    "            #will now be our starting point\n",
    "            if(matrix[i][j][0] > max_seen):\n",
    "                max_seen = matrix[i][j][0]\n",
    "                max_index = (i,j)\n",
    "        \n",
    "    #we are now starting at the index containing the max value \n",
    "    #instead of the bottom right of the matrix\n",
    "    i = max_index[0]\n",
    "    j = max_index[1]\n",
    "    \n",
    "    #path of cell transitions we will build up\n",
    "    path = []\n",
    "    \n",
    "    #the 2 string substitution visualizations we will build up\n",
    "    str1sub = \"\"\n",
    "    str2sub = \"\"\n",
    "    \n",
    "    while True:\n",
    "                \n",
    "        #the direction we need to go in (or a zero)\n",
    "        dr = matrix[i][j][1]\n",
    "        \n",
    "        #termination condition, the path stops at 0\n",
    "        if dr == \"zero\":\n",
    "            break\n",
    "        \n",
    "        #chars stayed the same\n",
    "        if dr == \"nw\":\n",
    "             \n",
    "            path.append((i,j))            \n",
    "            str1sub += str1[i - 1]\n",
    "            str2sub += str2[j - 1]\n",
    "                        \n",
    "            i -= 1\n",
    "            j -= 1\n",
    "            continue\n",
    "        \n",
    "        #eliminate char from the string along the \"top\" of the matrix\n",
    "        if dr == \"n\":\n",
    "            path.append((i,j))\n",
    "            str1sub += str1[i - 1]\n",
    "            str2sub += '-'\n",
    "            i -= 1\n",
    "            continue\n",
    "        \n",
    "        #eliminate char from the string along the \"left\" of the matrix\n",
    "        if dr == \"w\":\n",
    "            path.append((i,j))\n",
    "            str1sub += '-'\n",
    "            str2sub += str2[j - 1]\n",
    "            j -= 1\n",
    "    \n",
    "    #we finished at indices i,j therefore it must be a 0 and the final\n",
    "    #node in the path, so add it to the path \n",
    "    path.append((i,j))\n",
    "    \n",
    "    print(\"\\nIndices of path found starting from maximum:\\n\\n\" + str(path) + \"\\n\")\n",
    "    \n",
    "    print(\"\\nLocal match substituted strings, dashes represent if a character was eliminated:\\n\")\n",
    "    \n",
    "    #reverse the strings as they have been built up backwards\n",
    "    print(str2sub[::-1] + \"\\n\")\n",
    "    print(str1sub[::-1] + \"\\n\\n\")"
   ]
  },
  {
   "cell_type": "code",
   "execution_count": 512,
   "metadata": {},
   "outputs": [
    {
     "name": "stdout",
     "output_type": "stream",
     "text": [
      "\n",
      "Indices of path found starting from maximum:\n",
      "\n",
      "[(5, 9), (4, 8), (3, 7), (3, 6), (2, 5), (1, 4)]\n",
      "\n",
      "\n",
      "Local match substituted strings, dashes represent if a character was eliminated:\n",
      "\n",
      "AWGHE\n",
      "\n",
      "AW-HE\n",
      "\n",
      "\n"
     ]
    }
   ],
   "source": [
    "smith_waterman(\"HEAGAWGHEE\", \"PAWHEAE\")"
   ]
  },
  {
   "cell_type": "code",
   "execution_count": 513,
   "metadata": {},
   "outputs": [
    {
     "name": "stdout",
     "output_type": "stream",
     "text": [
      "\n",
      "Indices of path found starting from maximum:\n",
      "\n",
      "[(46, 45), (45, 44), (44, 43), (43, 42), (42, 41), (41, 40), (40, 39), (39, 38), (38, 37), (37, 36), (36, 35), (35, 34), (34, 33), (33, 32), (32, 31), (31, 30), (30, 29), (29, 28), (28, 27), (27, 26), (26, 25), (25, 24), (24, 23), (23, 22), (22, 21), (21, 20), (20, 19), (19, 18), (18, 17), (17, 16), (16, 15), (15, 14), (14, 13), (13, 12), (12, 11), (11, 10), (10, 9), (9, 8), (8, 7), (7, 6), (6, 5), (5, 4)]\n",
      "\n",
      "\n",
      "Local match substituted strings, dashes represent if a character was eliminated:\n",
      "\n",
      "HSGVNQLGGVFVNGRPLPDSTRQKIVELAHSGARPCDISRI\n",
      "\n",
      "HSGVNQLGGVFVGGRPLPDSTRQKIVELAHSGARPCDISRI\n",
      "\n",
      "\n"
     ]
    }
   ],
   "source": [
    "smith_waterman(\n",
    "    \"MQNSHSGVNQLGGVFVNGRPLPDSTRQKIVELAHSGARPCDISRILQVSNGCVSKILGRY\",\n",
    "    \"TDDECHSGVNQLGGVFVGGRPLPDSTRQKIVELAHSGARPCDISRI\"\n",
    ")"
   ]
  },
  {
   "cell_type": "markdown",
   "metadata": {},
   "source": [
    "# Task 3: Testing the BLAST algorithm\n",
    "\n",
    "These are my results of the BLAST sequence comparison for the Pax6 mouse protein and eyeless protein for fruit flies, alignment is apparent in query 5: "
   ]
  },
  {
   "cell_type": "code",
   "execution_count": 506,
   "metadata": {},
   "outputs": [
    {
     "name": "stdout",
     "output_type": "stream",
     "text": [
      "RID: 3CYASRFB114\t\n",
      "Job Title: sp|P63015|PAX6_MOUSE Paired box protein \t\t\t\t\n",
      "Program: BLASTP \n",
      "Subject:tr|O96791|O96791_DROME Eyeless protein (Fragment) OS=Drosophila melanogaster OX=7227 GN=ey PE=4 SV=1 ID: lcl|Query_38263(amino acid) Length: 101\n",
      "Query #1: sp|P63015|PAX6_MOUSE Paired box protein Pax-6 OS=Mus musculus OX=10090 GN=Pax6 PE=1 SV=1 Query ID: lcl|Query_38261 Length: 422\n",
      "\n",
      "Sequences producing significant alignments:\n",
      "                                                                  Scientific      Common                     Max    Total Query   E   Per.   Acc.                        \n",
      "Description                                                       Name            Name            Taxid      Score  Score cover Value Ident  Len        Accession        \n",
      "<tr id=\"dtr_<@dflnFrm_id@>\" ind=\"<@dfln_blast_rank@>\" class=\"<@trtp@> dflLnk\" >\n",
      "<td class=\"l c0\"><span class=\"ind\"><@dfln_blast_rank@></span><input type=\"checkbox\" id=\"chk_<@dfln_blast_rank@>\" class=\"cb\" name=\"getSeqGi\" value=\"<@dfln_id@>\" onclick=\"configDescrLinks(event,this)\" /></td>\n",
      "<td class=\"lim l c2\">\n",
      "<div class=\"lim n\">\n",
      "<a title=\"Go to alignment for tr|O96791|O96791_DROME Eyeless protein (Fragment) OS=Drosophil... \" class=\"deflnDesc\" hsp=\"<@dfln_hspnum@>\" len=\"<@dfln_alnLen@>\" ind=\"<@dfln_blast_rank@>\" accs=\"<@dflnAccs@>\" seqFSTA=\"<@dflnFASTA_id@>\" gi=\"<@dfln_id@>\"  seqID=\"<@dflnFrm_id@>\" id=\"deflnDesc_<@dfln_blast_rank@>\" onclick=\"DisplayAlignFromDescription(this);\" href=\"#alnHdr_<@dflnFrm_id@>\">tr|O96791|O96791_DROME Eyeless protein (Fragment) OS=Drosophil... </a>\n",
      "</div>\n",
      "</td>\n",
      "<td class=\"c3\">-246.0 </td>\n",
      "<td class=\"c7\">9.00   %</td>\n",
      "<td class=\"c1 l lim\">\n",
      "Query_38263      \n",
      "</td>\n",
      "</tr>\n",
      "\n",
      "Alignments:\n",
      ">tr|O96791|O96791_DROME Eyeless protein (Fragment) OS=Drosophila melanogaster OX=7227 GN=ey PE=4 SV=1\n",
      "Sequence ID: Query_38263 Length: 101 \n",
      "Range 1: 1 to 101\n",
      "\n",
      "<table class=\"alnParams\">\n",
      "<caption class=\"hdnHeader\">Alignment statistics for match #1</caption>\n",
      "<tr>\n",
      "<th>NW Score</th><th>Identities</th><th>Positives</th><th>Gaps</th><th class=\"aln_frame \">Frame</th>\n",
      "</tr>\n",
      "<tr>\n",
      "<td>-246</td>\n",
      "<td>42/478(9%)</td>\n",
      "<td>43/478(8%)</td>\n",
      "<td>429/478(89%)</td>\n",
      "<td class=\"aln_frame \"></td>\n",
      "</tr>\n",
      "</table>\n",
      "Query  1        MQN----------------------------------------------------S  4\n",
      "                M+N                                                     \n",
      "Sbjct  1    NVIAMRNLPCLGTAGGSGLGGIAGKPSPTMEAVEASTASHPHSTSSYFATTYYHLTDDEC  60\n",
      "\n",
      "Query  5    HSGVNQLGGVFVNGRPLPDSTRQKIVELAHSGARPCDISRILQVSNGCVSKILGRYYETG  64\n",
      "            HSGVNQLGGVFV GRPLPDSTRQKIVELAHSGARPCDISRI                   \n",
      "Sbjct  61   HSGVNQLGGVFVGGRPLPDSTRQKIVELAHSGARPCDISRI                     101\n",
      "\n",
      "Query  65   SIRPRAIGGSKPRVATPEVVSKIAQYKRECPSIFAWEIRDRLLSEGVCTNDNIPSVSSIN  124\n",
      "                                                                        \n",
      "\n",
      "Query  125  RVLRNLASEKQQMGADGMYDKLRMLNGQTGSWGTRPGWYPGTSVPGQPTQDGCQQQEGGG  184\n",
      "                                                                        \n",
      "\n",
      "Query  185  ENTNSISSNGEDSDEAQMRLQLKRKLQRNRTSFTQEQIEALEKEFERTHYPDVFARERLA  244\n",
      "                                                                        \n",
      "\n",
      "Query  245  AKIDLPEARIQVWFSNRRAKWRREEKLRNQRRQASNTPSHIPISSSFSTSVYQPIPQPTT  304\n",
      "                                                                        \n",
      "\n",
      "Query  305  PVSSFTSGSMLGRTDTALTNTYSALPPMPSFTMANNLPMQPPVPSQTSSYSCMLPTSPSV  364\n",
      "                                                                        \n",
      "\n",
      "Query  365  NGRSYDTYTPPHMQTHMNSQPMGTSGTTSTGLISPGVSVPVQVPGSEPDMSQYWPRLQ  422\n",
      "                                                                      \n",
      "\n",
      "\n",
      "\n",
      "\n",
      "\n",
      "\n",
      "\n",
      "\t\t\n",
      "\n",
      "\n",
      "\n"
     ]
    }
   ],
   "source": [
    "alignment = open(\"3CYASRFB114-Alignment.txt\", 'r').read()\n",
    "print(alignment)"
   ]
  },
  {
   "cell_type": "markdown",
   "metadata": {},
   "source": [
    "# Task 4: Programming a HMM model to generate CG rich regions and  AT rich regions\n",
    "\n",
    "I found the most elegant way to model the HMM was using mutual recursion, where the 2 functions calling one another represents a change in state, and when n_remaining reaches 0 then the recursive stack that has been built up is returned (which will ultimately be a list of tuples of the string sections generated by each state, paired with a string stating the state that generated the section)"
   ]
  },
  {
   "cell_type": "code",
   "execution_count": 431,
   "metadata": {},
   "outputs": [],
   "source": [
    "def run_HMM(length):\n",
    "        \n",
    "    #equal probability of starting in either the AT state or the CG state\n",
    "    if(np.random.choice([True, False], p = [0.5, 0.5])):\n",
    "        return generate_CGrich_region(length, [])\n",
    "    else:\n",
    "        return generate_ATrich_region(length, [])"
   ]
  },
  {
   "cell_type": "code",
   "execution_count": 432,
   "metadata": {},
   "outputs": [],
   "source": [
    "def generate_ATrich_region(n_remaining, accumulator):\n",
    "    \n",
    "    #emission probabilities for each of the nucleotide bases respectively\n",
    "    #when in this state\n",
    "    emission_probs = [0.2698, 0.3237, 0.2080, 0.1985]\n",
    "    \n",
    "    #a continuous section that will be built up whilst in this state\n",
    "    section_str = \"\"\n",
    "    \n",
    "    #loop until we change into the other state by chance \n",
    "    while True:\n",
    "        \n",
    "        #whole recursive call finished and can be returned\n",
    "        if n_remaining == 0:\n",
    "            accumulator.append((section_str, \"AT_rich\"))\n",
    "            return accumulator\n",
    "        \n",
    "        section_str += np.random.choice(nuc_bases, p = emission_probs)\n",
    "        n_remaining -= 1\n",
    "        \n",
    "        #on each iteration we may by chance finish in this state\n",
    "        #and go into the other state\n",
    "        if np.random.choice([True, False], p = [0.0002, 0.9998]):\n",
    "            break\n",
    "    \n",
    "    accumulator.append((section_str, \"AT_rich\"))\n",
    "    return generate_CGrich_region(n_remaining, accumulator)"
   ]
  },
  {
   "cell_type": "code",
   "execution_count": 433,
   "metadata": {},
   "outputs": [],
   "source": [
    "def generate_CGrich_region(n_remaining, accumulator):\n",
    "        \n",
    "    #emission probabilities for each of the nucleotide bases respectively\n",
    "    #when in this state\n",
    "    emission_probs = [0.2459, 0.2079, 0.2478, 0.2984]\n",
    "    \n",
    "    #a continuous section that will be built up whilst in this state\n",
    "    section_str = \"\"\n",
    "    \n",
    "    #loop until we change into the other state by chance\n",
    "    while True:\n",
    "        \n",
    "        #whole recursive call finished and can be returned\n",
    "        if n_remaining == 0:\n",
    "            accumulator.append((section_str, \"CG_rich\"))\n",
    "            return accumulator\n",
    "    \n",
    "        section_str += np.random.choice(nuc_bases, p = emission_probs)\n",
    "        n_remaining -= 1\n",
    "        \n",
    "        #on each iteration we may by chance finish in this state\n",
    "        #and go into the other state\n",
    "        if np.random.choice([True, False], p = [0.0002, 0.9998]):\n",
    "            break\n",
    "    \n",
    "    accumulator.append((section_str, \"CG_rich\"))\n",
    "    return generate_ATrich_region(n_remaining, accumulator)        "
   ]
  },
  {
   "cell_type": "markdown",
   "metadata": {},
   "source": [
    "Let's generate a DNA sequence of length say, 30000 in order to test the Viterbi implementation:"
   ]
  },
  {
   "cell_type": "code",
   "execution_count": 461,
   "metadata": {},
   "outputs": [],
   "source": [
    "tups = run_HMM(30000)\n",
    "tups\n",
    "\n",
    "#Concatenate the strings generated in each section into one normal string in order to test our Viterbi decoder\n",
    "orig_sequence = \"\".join(list(map(lambda x: x[0], tups)))"
   ]
  },
  {
   "cell_type": "markdown",
   "metadata": {},
   "source": [
    "# Task 5: Viterbi algorithm implementation\n",
    "\n",
    "The viterbi algorithm is divided into forwards and backwards parts, in the \"forwards\" part 2 lists of cumulative likelihoods are built up for both the AT_rich and CG_rich states using the log version of the formula from the slides to prevent underflowing, taking into account the state transition probabilities and emission probabilities within each state on each new \"column\" generated, keeping a pointer to the state that the current node came from. \n",
    "\n",
    "The backwards algorithm simply retraces this path from the end of the two lists of cumulative likelihoods, starting with the node that has a greater cumulative likelihood and building up the decoded sequence from here by following the pointer directions. \n",
    "\n",
    "Mutual recursion again turned out to be an elegant solution for modelling switching between the AT/CG states in the backwards algorithm."
   ]
  },
  {
   "cell_type": "code",
   "execution_count": 463,
   "metadata": {},
   "outputs": [],
   "source": [
    "#takes as input a DNA sequence string and returns the estimated sections of the sequence that are \n",
    "#AT rich regions or CT rich regions, represented by the characters 'A' and 'C' respectively\n",
    "def viterbi_decode(sequence_string):\n",
    "    CG_cumulative_probs, AT_cumulative_probs = viterbi_forwards(sequence_string)\n",
    "    return viterbi_backwards(CG_cumulative_probs, AT_cumulative_probs)"
   ]
  },
  {
   "cell_type": "code",
   "execution_count": 464,
   "metadata": {},
   "outputs": [],
   "source": [
    "#takes as input the observed sequence string and returns 2 lists of cumulative likelihoods for each of the \n",
    "# \"nodes\" in the AT/CT region \"rows\" in the viterbi diagram \n",
    "def viterbi_forwards(sequence_string):\n",
    "        \n",
    "    #nucleotide base symbol emission probabilities\n",
    "    AT_emission_probs = {'A':0.2698,'T':0.3237,'C':0.2080,'G':0.1985}\n",
    "    CG_emission_probs = {'A':0.2459,'T':0.2079,'C':0.2478,'G':0.2984}\n",
    "    \n",
    "    #state transition probabilities\n",
    "    AT_stay_same = 0.9998\n",
    "    AT_2_CG = 0.0002\n",
    "    CG_stay_same = 0.9997\n",
    "    CG_2_AT = 0.0003\n",
    "    \n",
    "    #how I will model the \"rows\" in the viterbi algorithm diagram, using 2 seperate lists\n",
    "    #i.e. the cumulative probabilities for being in either state \n",
    "    #and generating a letter at some point in the sequence\n",
    "    \n",
    "    #lets model the cumulative probability of the start state as 0\n",
    "    #and the probability of transitioning from it to either the AT rich \n",
    "    #or CG rich state as 0.5 for both \n",
    "    AT_cumulative_probs = [(0,\"end\")]\n",
    "    CG_cumulative_probs = [(0,\"end\")]\n",
    "        \n",
    "    #the \"forward\" part of the viterbi algorithm\n",
    "    for char in sequence_string:\n",
    "        \n",
    "        #the cumulative probabilities in the predecessor AT/CG state nodes\n",
    "        last_AT_val = AT_cumulative_probs[-1][0]\n",
    "        last_CG_val = CG_cumulative_probs[-1][0]\n",
    "        \n",
    "        AT_max_val, AT_state_came_from = max([(last_CG_val + np.log(CG_2_AT),\"from_other\"),(last_AT_val + np.log(AT_stay_same),\"from_same\")], key = lambda tup: tup[0])\n",
    "        CG_max_val, CG_state_came_from = max([(last_AT_val + np.log(AT_2_CG),\"from_other\"),(last_CG_val + np.log(CG_stay_same),\"from_same\")], key = lambda tup: tup[0])\n",
    "        \n",
    "        AT_cumulative_probs.append((np.log(AT_emission_probs[char]) + AT_max_val, AT_state_came_from))\n",
    "        CG_cumulative_probs.append((np.log(CG_emission_probs[char]) + CG_max_val, CG_state_came_from))\n",
    "    \n",
    "    return CG_cumulative_probs, AT_cumulative_probs"
   ]
  },
  {
   "cell_type": "code",
   "execution_count": 465,
   "metadata": {},
   "outputs": [],
   "source": [
    "#takes as argument the accumulator string that will be built up with As and Cs to represent which state the\n",
    "#node is in \n",
    "def cg_state(i, acc_string, cg_cumulative_probs, at_cumulative_probs):\n",
    "    while True:\n",
    "        acc_string = \"C\" + acc_string\n",
    "        if(i == 0): return acc_string\n",
    "        if(not cg_cumulative_probs[i][1] == \"from_same\"):\n",
    "            i -= 1\n",
    "            break\n",
    "        else:\n",
    "            i -= 1\n",
    "    return at_state(i, acc_string, cg_cumulative_probs, at_cumulative_probs)\n",
    "    \n",
    "def at_state(i, acc_string, cg_cumulative_probs, at_cumulative_probs):\n",
    "    while True:\n",
    "        acc_string = \"A\" + acc_string\n",
    "        if(i == 0): return acc_string\n",
    "        if(not at_cumulative_probs[i][1] == \"from_same\"):\n",
    "            i -= 1\n",
    "            break\n",
    "        else:\n",
    "            i -= 1\n",
    "    return cg_state(i, acc_string, cg_cumulative_probs, at_cumulative_probs)"
   ]
  },
  {
   "cell_type": "code",
   "execution_count": 466,
   "metadata": {},
   "outputs": [],
   "source": [
    "def viterbi_backwards(cg_cumulative_probs, at_cumulative_probs):\n",
    "    \n",
    "    #the index we start from, both lists are of the same length\n",
    "    index = len(cg_cumulative_probs) - 1\n",
    "    \n",
    "    #start in the state that has the greatest cumulative likelihood\n",
    "    if(cg_cumulative_probs[-1][0] > at_cumulative_probs[-1][0]):\n",
    "        return cg_state(index, \"\", cg_cumulative_probs, at_cumulative_probs)\n",
    "    else:\n",
    "        return at_state(index, \"\", cg_cumulative_probs, at_cumulative_probs)"
   ]
  },
  {
   "cell_type": "code",
   "execution_count": 467,
   "metadata": {},
   "outputs": [],
   "source": [
    "decoded_sections = viterbi_decode(orig_sequence)"
   ]
  },
  {
   "cell_type": "markdown",
   "metadata": {},
   "source": [
    "## Getting information about the length of each section\n",
    "\n",
    "Let's write a simple function that we can use for getting information about the length of each section, this iwll be useful for comparing the generated sections with the guessed section sizes returned by the viterbi decoder. Unlikee the HMM model which returns a list of tuples, the viterbi decoder returns one long string where 'A' represents a nucleotide within an AT-rich state and 'C' represents a nucleotide within a CG-rich state, so we will design it to handle both types of data structures. "
   ]
  },
  {
   "cell_type": "code",
   "execution_count": 468,
   "metadata": {},
   "outputs": [],
   "source": [
    "def get_section_info(input):\n",
    "    \n",
    "    if(type(input[0]) is tuple):\n",
    "        return list(map(lambda tup: (len(tup[0]), tup[1]), input))\n",
    "    else:\n",
    "        i = 0\n",
    "        sections = []\n",
    "        while i < len(input):\n",
    "            if input[i] == 'A':\n",
    "                size = 0\n",
    "                while i < len(input) and input[i] == 'A':\n",
    "                    size += 1\n",
    "                    i += 1\n",
    "                sections.append((size, \"AT_rich\"))\n",
    "                continue\n",
    "            if input[i] == 'C':\n",
    "                size = 0\n",
    "                while i < len(input) and input[i] == 'C':\n",
    "                    size += 1\n",
    "                    i += 1\n",
    "                sections.append((size, \"CG_rich\"))\n",
    "        return sections"
   ]
  },
  {
   "cell_type": "markdown",
   "metadata": {},
   "source": [
    "Now using this function let's compare the sizes of sections in the actual sequence that was generated with the sequence that has been decoded into estimated state sections:"
   ]
  },
  {
   "cell_type": "code",
   "execution_count": 469,
   "metadata": {},
   "outputs": [
    {
     "data": {
      "text/plain": [
       "[(2986, 'AT_rich'),\n",
       " (3199, 'CG_rich'),\n",
       " (1070, 'AT_rich'),\n",
       " (2635, 'CG_rich'),\n",
       " (5251, 'AT_rich'),\n",
       " (6793, 'CG_rich'),\n",
       " (6325, 'AT_rich'),\n",
       " (769, 'CG_rich'),\n",
       " (972, 'AT_rich')]"
      ]
     },
     "execution_count": 469,
     "metadata": {},
     "output_type": "execute_result"
    }
   ],
   "source": [
    "#The original tuples generated by the HMM\n",
    "tup_info = get_section_info(tups)\n",
    "tup_info"
   ]
  },
  {
   "cell_type": "code",
   "execution_count": 470,
   "metadata": {},
   "outputs": [
    {
     "data": {
      "text/plain": [
       "[(3017, 'AT_rich'),\n",
       " (3127, 'CG_rich'),\n",
       " (1111, 'AT_rich'),\n",
       " (2664, 'CG_rich'),\n",
       " (5222, 'AT_rich'),\n",
       " (6796, 'CG_rich'),\n",
       " (6324, 'AT_rich'),\n",
       " (761, 'CG_rich'),\n",
       " (979, 'AT_rich')]"
      ]
     },
     "execution_count": 470,
     "metadata": {},
     "output_type": "execute_result"
    }
   ],
   "source": [
    "decoded_info = get_section_info(decoded_sections)\n",
    "decoded_info"
   ]
  },
  {
   "cell_type": "markdown",
   "metadata": {},
   "source": [
    "The sizes are remarkably similar so we can assume the Viterbi decoder is working! Now let's find a way of displaying this visually:"
   ]
  },
  {
   "cell_type": "markdown",
   "metadata": {},
   "source": [
    "## Visualizing the differences in state sections between the original sequence and the decoded sequence"
   ]
  },
  {
   "cell_type": "code",
   "execution_count": 471,
   "metadata": {},
   "outputs": [],
   "source": [
    "#HELPER FUNCTIONS FOR VISUALLY COMPARE TO USE\n",
    "\n",
    "#generate a colour array corresponding to states\n",
    "#Blue for AT rich state, Red for CG rich state\n",
    "def gen_colour_arr(tups):\n",
    "    states = list(map(lambda tup: tup[1], tups))\n",
    "    colours = []\n",
    "    for state in states:\n",
    "        if state == \"AT_rich\":\n",
    "            colours.append(\"blue\")\n",
    "        else:\n",
    "            colours.append(\"red\")\n",
    "    return colours\n",
    "\n",
    "#get the start x positions (left) for each of the rectangles\n",
    "def extract_x_pos_arr(tups):\n",
    "    y_pos_arr = [0]\n",
    "    for i in range(len(tups) - 1):\n",
    "        y_pos_arr.append(tups[i][0] + y_pos_arr[-1])\n",
    "    return y_pos_arr"
   ]
  },
  {
   "cell_type": "code",
   "execution_count": 484,
   "metadata": {},
   "outputs": [],
   "source": [
    "#Takes in order the tuples and the decoded string generated\n",
    "#and visually draws their differences\n",
    "def visually_compare(original_tups, decoded_str):\n",
    "\n",
    "    #list of states paired with lengths\n",
    "    orig_tups = get_section_info(original_tups)\n",
    "    decoded_tups = get_section_info(decoded_str)\n",
    "    \n",
    "    #list of widths, left x positions and colours for drawing the graphs\n",
    "    orig_widths = list(map(lambda x: x[0], orig_tups))\n",
    "    orig_lefts = extract_x_pos_arr(orig_tups)\n",
    "    orig_colours = gen_colour_arr(orig_tups)\n",
    "    decoded_widths = list(map(lambda x: x[0], decoded_tups))\n",
    "    decoded_lefts = extract_x_pos_arr(decoded_tups)\n",
    "    decoded_colours = gen_colour_arr(decoded_tups)\n",
    "\n",
    "    #get the center lcoations of each rectangle so we can draw text on it\n",
    "    orig_centers = []\n",
    "    for i in range(len(orig_widths)):\n",
    "        orig_centers.append((orig_widths[i] / 2) + orig_lefts[i])\n",
    "    decoded_centers = []\n",
    "    for i in range(len(decoded_widths)):\n",
    "        decoded_centers.append((decoded_widths[i] / 2) + decoded_lefts[i])\n",
    "\n",
    "    #draw our custom graph\n",
    "    fig, ax = plt.subplots(figsize = (15,5))\n",
    "    ax.barh([\"Original\"],\n",
    "           orig_widths, left = orig_lefts, color = orig_colours)\n",
    "    ax.barh([\"Decoded\"],\n",
    "          decoded_widths, left = decoded_lefts, color = decoded_colours)\n",
    "\n",
    "    #draw the state length in the sequence size on the rectangle\n",
    "    for i in range(len(orig_centers)):\n",
    "        ax.text(orig_centers[i], 0, orig_widths[i], ha = \"center\", va = \"center\", color = \"white\"\n",
    "               ,fontsize = \"medium\", fontweight = \"bold\")\n",
    "    for i in range(len(decoded_centers)):\n",
    "        ax.text(decoded_centers[i], 1, decoded_widths[i], ha = \"center\", va = \"center\", color = \"white\",\n",
    "                fontsize = \"medium\", fontweight = \"bold\")\n",
    "\n",
    "    ax.legend([\"AT-rich region\", \"CG-rich region\"], bbox_to_anchor = (0.5,-0.3), loc = \"lower center\", ncol = 2)\n",
    "    ax.get_legend().legendHandles[0].set_color(\"blue\")\n",
    "    ax.get_legend().legendHandles[1].set_color(\"red\")\n",
    "    ax.title.set_text(\"Size of each state section in original vs decoded sequences (number of nucleotide bases in each section, widths are proportional to sizes)\")\n",
    "    ax.get_xaxis().set_visible(False)\n"
   ]
  },
  {
   "cell_type": "code",
   "execution_count": 485,
   "metadata": {},
   "outputs": [
    {
     "data": {
      "image/png": "[encoded data removed]",
      "text/plain": [
       "<Figure size 1080x360 with 1 Axes>"
      ]
     },
     "metadata": {
      "needs_background": "light"
     },
     "output_type": "display_data"
    }
   ],
   "source": [
    "visually_compare(tups, decoded_sections)"
   ]
  },
  {
   "cell_type": "markdown",
   "metadata": {},
   "source": [
    "# Task 6: Running the Viterbi decoder on the lambda phage genome"
   ]
  },
  {
   "cell_type": "code",
   "execution_count": 476,
   "metadata": {},
   "outputs": [],
   "source": [
    "phage_lambda_seq = open(\"phaseLambda.fasta\", 'r').read().replace('\\n', '')"
   ]
  },
  {
   "cell_type": "code",
   "execution_count": 477,
   "metadata": {},
   "outputs": [],
   "source": [
    "decoded_phage = viterbi_decode(phage_lambda_seq)"
   ]
  },
  {
   "cell_type": "code",
   "execution_count": 478,
   "metadata": {},
   "outputs": [],
   "source": [
    "phage_tups = get_section_info(decoded)"
   ]
  },
  {
   "cell_type": "code",
   "execution_count": 479,
   "metadata": {},
   "outputs": [
    {
     "data": {
      "text/plain": [
       "[(177, 'AT_rich'),\n",
       " (22323, 'CG_rich'),\n",
       " (8725, 'AT_rich'),\n",
       " (1962, 'CG_rich'),\n",
       " (5179, 'AT_rich'),\n",
       " (8128, 'CG_rich'),\n",
       " (2009, 'AT_rich')]"
      ]
     },
     "execution_count": 479,
     "metadata": {},
     "output_type": "execute_result"
    }
   ],
   "source": [
    "#The predicted state section sizes in the phage lambda sequence\n",
    "phage_tups"
   ]
  },
  {
   "cell_type": "markdown",
   "metadata": {},
   "source": [
    "Now, let's visualize the sections of the lambda phage as we did before when comparing our generated sequence and it's decoding:"
   ]
  },
  {
   "cell_type": "code",
   "execution_count": 507,
   "metadata": {},
   "outputs": [
    {
     "data": {
      "image/png": "[encoded data removed]",
      "text/plain": [
       "<Figure size 1080x216 with 1 Axes>"
      ]
     },
     "metadata": {
      "needs_background": "light"
     },
     "output_type": "display_data"
    }
   ],
   "source": [
    "phage_widths = list(map(lambda x: x[0], phage_tups))\n",
    "phage_lefts = extract_x_pos_arr(phage_tups)\n",
    "phage_colors = gen_colour_arr(phage_tups)\n",
    "phage_centers = []\n",
    "for i in range(len(phage_widths)):\n",
    "    phage_centers.append((phage_widths[i] / 2) + phage_lefts[i])\n",
    "fig, ax = plt.subplots(figsize = (15,3))\n",
    "ax.barh([\"Original\"],\n",
    "       phage_widths, left = phage_lefts, color = phage_colors)\n",
    "for i in range(len(phage_centers)):\n",
    "        ax.text(phage_centers[i], 0, phage_widths[i], ha = \"center\", va = \"center\", color = \"white\",\n",
    "                fontsize = \"medium\", fontweight = \"bold\")\n",
    "ax.get_xaxis().set_visible(False)        \n",
    "ax.title.set_text(\"Visualization of decoded AT-rich/CG-rich regions in the Lambda Phage genome\")"
   ]
  },
  {
   "cell_type": "markdown",
   "metadata": {},
   "source": [
    "As before, blue represents an AT-rich region and red represents a CG-rich region. Notice the tiny spec of blue in the left representing the tiny AT-rich section found, it's too small for the text label to fit in it."
   ]
  }
 ],
 "metadata": {
  "kernelspec": {
   "display_name": "Python 3",
   "language": "python",
   "name": "python3"
  },
  "language_info": {
   "codemirror_mode": {
    "name": "ipython",
    "version": 3
   },
   "file_extension": ".py",
   "mimetype": "text/x-python",
   "name": "python",
   "nbconvert_exporter": "python",
   "pygments_lexer": "ipython3",
   "version": "3.8.3"
  }
 },
 "nbformat": 4,
 "nbformat_minor": 4
}
