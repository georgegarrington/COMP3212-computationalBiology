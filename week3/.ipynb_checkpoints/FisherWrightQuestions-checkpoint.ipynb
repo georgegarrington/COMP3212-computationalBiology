{
 "cells": [
  {
   "cell_type": "markdown",
   "metadata": {},
   "source": [
    "# The Fisher-Wright Model"
   ]
  },
  {
   "cell_type": "markdown",
   "metadata": {},
   "source": [
    "The notebook explores the Fisher-Wright (or Wright-Fisher) Model describing evolution in a sexual population.  Sexual reproduction plays a subtle role of decoupling traits at different parts of the genome.  This allows us to consider each trait separately.  We will model a realistic genome at the end of this tutorial to demonstrate that this assumption is a good model of reality.\n",
    "\n",
    "We assume we have a population of fixed size $P$ that evolves from one generation to the next.  We assume that there are two types of individuals: those with trait $A$ and those with trait $B$.  We assume $B$ is fitter (produce more offspring).  Let $n(t)$ be the number of individuals of type $B$ at generation $t$.  At each generation the following happens:\n",
    "1. Individuals produce a large number of seeds.  For each seed the $A$ type produces the $B$ type produces $1+s$ seeds so that the proportion of seeds produced by type $B$ is\n",
    "$$p_s(t) = \\frac{(1+s)\\,n(t)}{P-n(t)+(1+s)\\,n(t)} = \\frac{(1+s)\\,n(t)}{P+s\\,n(t)}$$\n",
    "2. The seeds however contain mutations\n",
    "- $A\\rightarrow B$ with probability $u$\n",
    "- $B\\rightarrow A$ with probability $v$\n",
    "\n",
    "so the proportion of seeds of type $B$ are\n",
    "$$p_{sm} = (1-v)\\,p_s + u \\,(1-p_s)$$\n",
    "3. From the seeds a new generation of size $P$ is produced.  The probability that the number of type $B$ individuals, $n(t+1)$, is equal to $n'$ is given by the binomial distribution\n",
    "$$\\mathbb{P}\\!\\left(\\strut n(t+1)=n'\\right) = \\binom{n'}{P} p_{sm}^{n'} \\, (1-p_{sm})^{p-n'}$$\n",
    "\n",
    "The peculiar thing is that sexual reproduction doesn't seem to play a role.  However, when we have a large number of traits without sexual reproduction the traits are linked together (something known as linkage).  Sexual reproduction causes sufficient mixing that we can treat the traits separately.  We have assumed are individuals are haploids.  For diploids the model is slightly more complicated, although the major difference is the population size doubles."
   ]
  },
  {
   "cell_type": "markdown",
   "metadata": {},
   "source": [
    "## Task 1: Simulating Fisher-Wright"
   ]
  },
  {
   "cell_type": "markdown",
   "metadata": {},
   "source": [
    "Write a program to simulate the Fisher-Wright model of evolution.  (To make it easy you can just copy the code below)."
   ]
  },
  {
   "cell_type": "code",
   "execution_count": 1,
   "metadata": {},
   "outputs": [
    {
     "data": {
      "image/png": "[encoded data removed]",
      "text/plain": [
       "<Figure size 432x288 with 1 Axes>"
      ]
     },
     "metadata": {
      "needs_background": "light"
     },
     "output_type": "display_data"
    }
   ],
   "source": [
    "import numpy as np\n",
    "import scipy\n",
    "import matplotlib.pyplot as plt\n",
    "%matplotlib inline\n",
    "from functools import partial\n",
    "\n",
    "rng = np.random.default_rng()\n",
    "\n",
    "def psm(n, P, s, u, v):\n",
    "    \"\"\"We heavily reuse this\"\"\"\n",
    "    ps = (1+s)*n/(P+n*s)\n",
    "    return (1-v)*ps + u*(1-ps)\n",
    "\n",
    "def updateFW(n, P, s, u, v):\n",
    "    \"\"\"Generate a new population of size P starting with n individuals of type B\"\"\"\n",
    "    return rng.binomial(P, psm(n, P, s, u, v))\n",
    "\n",
    "class FisherWright():\n",
    "    \"\"\"Simulate the Dynamics of the Fisher-Wright Model\n",
    "    We create an iterator to this\"\"\"\n",
    "    \n",
    "    def __init__(self, param):\n",
    "        \"create a function with the parameter set apart form n\"\n",
    "        self.update = partial(updateFW, **param)\n",
    "        \n",
    "    def __iter__(self):\n",
    "        n = self.n0\n",
    "        #this is just for lazy evaluation\n",
    "        yield n\n",
    "        while True:\n",
    "            n = self.update(n)\n",
    "            yield n\n",
    "\n",
    "    def __call__(self, n0):\n",
    "        \"\"\"initiate n0 and return iterator\"\"\"\n",
    "        self.n0 = n0\n",
    "        return iter(self)\n",
    "\n",
    "param = {\"P\": 1000, \"s\": 0.01, \"u\": 0.0001, \"v\": 0.0001}\n",
    "\n",
    "fisherWright = FisherWright(param)\n",
    "\n",
    "T = 10000\n",
    "\n",
    "def evolution(model, n0, T, transform=lambda x: x):\n",
    "    \"\"\"Run the model for T generations starting from n0\n",
    "        transform the output of the model with default of doing nothing\"\"\"\n",
    "    it = model(n0)                # create a new iterator\n",
    "    return [(i, transform(next(it))) for i in range(T)]\n",
    "\n",
    "\n",
    "evo = evolution(fisherWright, 0, T)\n",
    "\n",
    "def dict_to_str(dic):\n",
    "    return \", \".join([f\"{key} = {value}\" for (key,value) in param.items()])\n",
    "\n",
    "plt.plot(*zip(*evo))        # weird trick to get matplotlib to plot a list of (x,y) pairs\n",
    "plt.xlabel(\"Generation, t\")\n",
    "plt.ylabel(\"n(t)\")\n",
    "plt.title(dict_to_str(param))\n",
    "plt.show()"
   ]
  },
  {
   "cell_type": "markdown",
   "metadata": {},
   "source": [
    "### Questions"
   ]
  },
  {
   "cell_type": "markdown",
   "metadata": {},
   "source": [
    "1. Under what conditions does trait $B$ take over the population\n",
    "2. Define the take-over time as the first time when $n(t) = 0.95 P$\n",
    "    - Plot a graph of how the take-over time depends on the selection strength $s$ (assume $P=10000$ and $u=v=0.0001$)\n",
    "    - Plot a graph of how the take-over time depends on the mutation rate $u=v=m$ (assuming $P=10000$ and $s=0.01$)\n",
    "    - Plot a graph of how the take-over time depends on the population size $P$ (assuming $s=0.01$ and $u=v=0.0001$)"
   ]
  },
  {
   "cell_type": "code",
   "execution_count": null,
   "metadata": {},
   "outputs": [],
   "source": []
  },
  {
   "cell_type": "markdown",
   "metadata": {},
   "source": [
    "## Task 2: Multiple Runs"
   ]
  },
  {
   "cell_type": "markdown",
   "metadata": {},
   "source": [
    "The results from the previous question will vary from run to run.  To get a better understanding we can average over many runs.  Write a program to do this."
   ]
  },
  {
   "cell_type": "code",
   "execution_count": null,
   "metadata": {},
   "outputs": [],
   "source": []
  },
  {
   "cell_type": "markdown",
   "metadata": {},
   "source": [
    "## Task 3: Markov Model"
   ]
  },
  {
   "cell_type": "markdown",
   "metadata": {},
   "source": [
    "We can make a Markov model that describes the probability, $p(t,n)$, of there being $n$ individuals in generation $t$.  We can represent this probability as a vector $\\mathbf{p}(t)$ where the $n^{th}$ elements represents $p(t,n)$.  We can build a transition matrix $\\mathbf{W}$ where the element $W_{n',n}$ is the probability of the number of individuals with trait $B$ changing from $n$ to $n'$ in one geneation.  In this case we can compute the evolution using \n",
    "$$ \\mathbf{p}(t+1) = \\mathbf{W} \\, \\mathbf{p}(t). $$\n",
    "Write a matrix to compute $\\mathbf{W}$ for a population of size $P$ a selection strength $s$, and mutation rates $u$ and $v$."
   ]
  },
  {
   "cell_type": "markdown",
   "metadata": {},
   "source": [
    "### Questions"
   ]
  },
  {
   "cell_type": "markdown",
   "metadata": {},
   "source": [
    "1. Show that columns all sum to 1 (A population with $n$ individuals of type $B$ will evolve to a population of $n'$ individuals of type $B$ for some $n'$)\n",
    "    - Check for different parameters\n",
    "    \n",
    "2. Starting from $p(t,0)=1$ compute the evolution of $\\mathbf{p}(t)$ and show a graph of the mean number of individuals.  Compare this to multiEvolution.\n",
    "    - Show that as we use more copies in multiEvolution we get closer to the Markov result\n",
    "    \n",
    "3. Plot $\\mathbf{p}(100)$ and compare this with a histogram from multiEvolution.\n",
    "    - Show that this is true for both short and long times."
   ]
  },
  {
   "cell_type": "code",
   "execution_count": null,
   "metadata": {},
   "outputs": [],
   "source": []
  },
  {
   "cell_type": "markdown",
   "metadata": {},
   "source": [
    "## Task 4: Computing the Fixed Point Distribution"
   ]
  },
  {
   "cell_type": "markdown",
   "metadata": {},
   "source": [
    "The distribution eventually reaches a fixed point, $\\mathbf{p}(\\infty)$, for any starting distribution (under mild conditions such as non-zero mutation rates).  We can get a very good approximation by running the Markov analysis long enough (or running a simulation for long enough).  Note that although we call it a fixed-point or equilibrium the number of individuals of type $B$ will continuously fluctuate over time.  The relative fluctuation will be smaller in a larger population (i.e. $n(t)/P$ will closer to its expected value $\\mathbb{E}[n(t)]/P = p(\\infty,n)$.\n",
    "\n",
    "We have an exact solution to the dynamics in terms of the Markov model, but it involves a $(P+1)\\times(P+1)$ transition matrix which gets difficult to work with when $P$ becomes large.  We can simulate a population which is much more practical for large $P$, but we need to run many simulations if we want to compute the average dynamics or a distribution.  Instead we can use the diffusion model which provides a very good approximation for large populations.\n",
    "\n",
    "In the diffusion model we set up a stochastic differential equation describing the evolution.  Let $X(t)$ be a random variable describing the proportion of individuals with trait $B$ in the population at time $t$.  In the diffusion approximation we approximate the dynamics by a *stochastic differential equation*\n",
    "$$ \\mathrm{d} X(t) = a(X(t))\\, \\mathrm{d} t + b(X(t)) \\, \\mathrm{d} W(t) $$\n",
    "where $a(X(t))$ describes the expected change in $X(t)$ in a short time $\\mathrm{d} t$.  That is,\n",
    "$$ a(X(t))\\,\\mathrm{d}t = \\mathbb{E}\\left[ \\strut X(t+\\mathrm{d}t) - X(t) \\right] = (p_{sm}(X(t)) - X(t))\\,\\mathrm{d}t  $$\n",
    "and $b(X(t))$ describes the fluctuation around this mean. That is,\n",
    "$$ b^2(X(t))\\,\\mathrm{d} t = \\mathbb{E}\\left[ \\strut \\left(X(t+\\mathrm{d}t) - X(t)\\right)^2 \\right] - \\mathbb{E}\\left[ \\strut X(t+\\mathrm{d}t) - X(t) \\right]^2 = \\frac{p_{sm}(X(t))\\,(1-p_{sm}(X(t)))\\,\\mathrm{d}t}{P} $$\n",
    "The quantity $W(t)$ is known as a Weiner variable it has the property that $W(t)-W(t')$ is normally distributed with mean 0 and variance $t-t'$.  The stochastic differential equation is a weird mathematical object.  But the distribution $f(t,x)$ describing the probability of $X(t)$ satisfies the Kolmogorov forward equation\n",
    "$$ \\frac{\\partial f(t,x)}{\\partial t} = - \\frac{\\partial\\, a(x)\\,f(t,x)}{\\partial x} + \\frac{1}{2} \\frac{\\partial^2 b^2(x)\\, f(t,x)}{\\partial x^2}.$$\n",
    "This is still pretty horrible as partial differential equations are a slight pain to solve (but it can be done).  However, to find the fixed point distribution we look for a solution where\n",
    "$$ \\frac{\\partial f(t,x)}{\\partial t} = 0. $$\n",
    "In this case we find\n",
    "$$ f(\\infty, x) \\propto \\frac{1}{b^2(x)} \\exp\\!\\left( 2 \\int_{1/2}^x \\frac{a(y)}{b^2(y)} \\mathrm{d} y \\right). $$\n",
    "This is relatively easy to compute, although it is a bit of a pain to do all the integrations.\n",
    "\n",
    "**Question**\n",
    "\n",
    "1. Write code to compute the steady state distribution and compare it to a Markov Chain model run for sufficiently long time"
   ]
  },
  {
   "cell_type": "code",
   "execution_count": null,
   "metadata": {},
   "outputs": [],
   "source": []
  },
  {
   "cell_type": "markdown",
   "metadata": {},
   "source": [
    "**Weak Selection and Mutation Approximation**\n",
    "\n",
    "It gets even easier if we assume the mutation and selection rates are small (this is a good assumption in biology).  In this case\n",
    "$$  f(\\infty, x) \\propto \\frac{1}{N(P,s,u,v)} x^{2\\,P\\,u-1} \\, (1-x)^{2\\,P\\,v-1} \\, \\mathrm{e}^{2\\,P\\,s\\,x}.$$\n",
    "where $N(P,s,u,v) = B(2\\,P\\,u, 2\\,P\\,v) \\, {}_1F_1(2\\,P\\,u, 2\\,P\\,(u+v), 2\\,P\\,s\\,x)$ where $B$ is the beta function and ${}_1F_1$ is a hypergeometric function. You can just normalise this by integrating (or summing) over the $x\\in[0,1]$,\n",
    "\n",
    "**Question**\n",
    "1. Write a program to generate the distribution and compare to Markov model\n",
    "2. Show that this is a poor approximation for strong selection of mutation rates."
   ]
  },
  {
   "cell_type": "code",
   "execution_count": null,
   "metadata": {},
   "outputs": [],
   "source": []
  },
  {
   "cell_type": "markdown",
   "metadata": {},
   "source": [
    "## Task 5: Multigene Evolution"
   ]
  },
  {
   "cell_type": "markdown",
   "metadata": {},
   "source": [
    "Up to now we have considered the evolution of a single trait in isolation from any other genes.  Obviously in real evolution the genome will contain many genes that code for different traits.  Here we want to show that if we have sufficient sexual recombination the Fisher-Wright model still provides a good approximation for the evolution.  Here we model the genome as a series of $L$ sites (each site represents a gene which will be on a different section of the DNA.  At each site we assume that the gene can be in one of two states.  The original state and the mutant state.  Again we assume that for two individuals that differ at one site the one the differs by having an extra mutation will be fitter by a factor $1+s$.  That is, the fitness (the relative number of offspring) will be proportional to $(1+s)^F$ where $F$ is the number of mutants in the string.  To simulate this consider a populations of $P$ binary strings of length $L$.  A 0 at a site denotes that gene is in the original state while a 1 represents the gene being in a mutant state.  Initially we assume all strings are in the original state (all zeros).  The evolution happens in generations according to\n",
    "1. We consider $P$ mating events where two parents are selected with probability\n",
    "$$p_i = \\frac{(1+s)^{F_i}}{\\sum_{j=1}^P (1+s)^{F_j}} $$\n",
    "where $F_i$ is the number of ones in individual $i$\n",
    "2. For each pair we generate a child by at each site choosing the gene value from one parent or the other uniformly at random\n",
    "3. We then mutate each child by flipping the gene at each site with a probability of $u$ of flipping from 0 to 1 and a probability of $v$ of flipping from 1 to 0.  For simplicity we can assume $v=u$.\n",
    "\n",
    "Below I provide a class that simulates selection, mutation and recombination\n",
    "\n",
    "**Question**\n",
    "1. Write a program to simulate sexual evolution of the population\n",
    "    - Compare the mean number of mutant traits at each site with the Markov chain model\n",
    "    - Compare the distribution of mutant traits across the differ sites with that for a Markov chain"
   ]
  },
  {
   "cell_type": "code",
   "execution_count": 19,
   "metadata": {},
   "outputs": [],
   "source": [
    "from bisect import bisect\n",
    "\n",
    "class Population():\n",
    "    \"\"\"Container of Population\"\"\"\n",
    "    \n",
    "    def __init__(self, P, L):\n",
    "        \"\"\"create P genomes of length L initialised to 0 string\"\"\"\n",
    "        self.pop = np.zeros((P,L), dtype=bool)\n",
    "        self.P = P\n",
    "        self.L = L\n",
    "        \n",
    "    def __getitem__(self, k):\n",
    "        \"\"\"return genome of individual k\"\"\"\n",
    "        return self.pop[k,:]\n",
    "    \n",
    "    def __len__(self):\n",
    "        \"\"\"size of population\"\"\"\n",
    "        return self.P\n",
    "    \n",
    "    def no_ones(self):\n",
    "        \"\"\"compute the number of 1's in each string\"\"\"\n",
    "        return np.sum(self.pop, axis=1)\n",
    "    \n",
    "    def prob(self, s):\n",
    "        \"\"\"Compute the probability of seclecting each member\"\"\"\n",
    "        F = self.no_ones()\n",
    "        F -= max(F)            # prevent overflow\n",
    "        w = pow(1.0+s, F)\n",
    "        return w/sum(w)\n",
    "    \n",
    "    def choose_parents(self, n, s):\n",
    "        \"\"\"Select n randomly parents according to their fitness\"\"\"\n",
    "        p = self.prob(s)\n",
    "        cp = np.cumsum(p)\n",
    "        r = np.random.rand(2*self.P)\n",
    "        return [bisect(cp, rng.random()) for _ in range(n)]\n",
    "    \n",
    "    def crossover(self, m, f):\n",
    "        \"\"\"Create a child by choosing each allele from either parent with equal probability\"\"\"\n",
    "        mask = np.random.randint(2,size=self.L)\n",
    "        imask = 1 - mask\n",
    "        return mask*self[f] + imask*self[m] \n",
    "        \n",
    "    def recombine(self, s):\n",
    "        \"\"\"Generate a new population from 2 P parents selected according to their fitness\"\"\"\n",
    "        n = self.choose_parents(2*self.P, s)\n",
    "        newPop = Population(self.P, self.L)\n",
    "        for m,f,c in zip(n[::2], n[1::2], range(self.P)):\n",
    "            newPop.pop[c,:] = self.crossover(f,m)\n",
    "        return newPop\n",
    "    \n",
    "    def selection(self, s):\n",
    "        \"\"\"Generate a new population asexually\"\"\"\n",
    "        n = self.choose_parents(self.P, s)\n",
    "        newPop = Population(self.P, self.L)\n",
    "        for c, p in enumerate(n):\n",
    "            newPop.pop[c,:] = self[p]\n",
    "        return newPop\n",
    "    \n",
    "    def mutate(self, u):\n",
    "        \"\"\"Flip spins with probablity u\n",
    "        It does this by drawing a random deviate representing the expected gap between mutations\"\"\"\n",
    "        PL = self.P*self.L\n",
    "        c = 1.0/math.log(1.0-u)\n",
    "        flat = self.pop.view(dtype=bool).reshape(PL)\n",
    "        s = int(c*math.log(np.random.rand()))\n",
    "        while s < PL:\n",
    "            flat[s] = 1-flat[s]\n",
    "            s += int(c*math.log(np.random.rand()))\n",
    "            \n",
    "    def mutants_per_site(self):\n",
    "        \"\"\"We are interested in the frequency of mutations at each Site\"\"\"\n",
    "        return np.sum(self.pop, axis=0)\n",
    "\n",
    "    def __str__(self):\n",
    "        \"\"\"Create a nice sting showing the population of their fitness\"\"\"\n",
    "        F = self.no_ones()\n",
    "        s = \"\"\n",
    "        for k in range(self.P):\n",
    "            s += f\"{k}: {1*self[k]} F={F[k]}\\n\"\n",
    "        return s\n"
   ]
  },
  {
   "cell_type": "code",
   "execution_count": null,
   "metadata": {},
   "outputs": [],
   "source": []
  },
  {
   "cell_type": "markdown",
   "metadata": {},
   "source": [
    "**Asexual Populations**\n",
    "\n",
    "1. Write code to simulate the evolution of an asexual population (you have to replace recombine with selection)\n",
    "    - Show that the asexual population is poorly approximated by the Fisher Wright model"
   ]
  },
  {
   "cell_type": "code",
   "execution_count": null,
   "metadata": {},
   "outputs": [],
   "source": []
  }
 ],
 "metadata": {
  "kernelspec": {
   "display_name": "Python 3",
   "language": "python",
   "name": "python3"
  },
  "language_info": {
   "codemirror_mode": {
    "name": "ipython",
    "version": 3
   },
   "file_extension": ".py",
   "mimetype": "text/x-python",
   "name": "python",
   "nbconvert_exporter": "python",
   "pygments_lexer": "ipython3",
   "version": "3.8.3"
  }
 },
 "nbformat": 4,
 "nbformat_minor": 4
}
